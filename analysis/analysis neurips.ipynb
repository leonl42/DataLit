{
 "cells": [
  {
   "cell_type": "code",
   "execution_count": 38,
   "metadata": {},
   "outputs": [],
   "source": [
    "import os\n",
    "import pandas as pd\n",
    "from sklearn.linear_model import LinearRegression,LogisticRegression\n",
    "from sklearn.model_selection import train_test_split\n",
    "import numpy as np\n",
    "import copy \n",
    "from imblearn.ensemble import RUSBoostClassifier\n",
    "from imblearn.ensemble import BalancedBaggingClassifier\n",
    "from imblearn.ensemble import EasyEnsembleClassifier\n",
    "from sklearn.tree import DecisionTreeClassifier\n",
    "\n",
    "df = pd.read_csv(\"../feature_extraction/neurips.csv\")\n",
    "\n",
    "df = df.sample(frac=1)"
   ]
  },
  {
   "cell_type": "code",
   "execution_count": 6,
   "metadata": {},
   "outputs": [],
   "source": [
    "def normalize(train, test):\n",
    "    mean = np.mean(train,axis=0)\n",
    "    std = np.std(train,axis=0)\n",
    "\n",
    "    return (train-mean)/std,(test-mean)/std"
   ]
  },
  {
   "cell_type": "code",
   "execution_count": 7,
   "metadata": {},
   "outputs": [
    {
     "name": "stdout",
     "output_type": "stream",
     "text": [
      "Train error Linear Regression: 0.46377212434568804\n",
      "Test error Linear Regression: 0.42979916025462245\n",
      "Test error guess Avg: 0.42989390445237585\n",
      "-------------------------------------------------------------------------\n",
      "                                 Coefficients\n",
      "num_equations                        0.117641\n",
      "mean_num_new_symbols_introduced      0.013894\n",
      "num_overall_unique_symbols          -0.021387\n",
      "mean_num_unique_symbols             -0.031399\n",
      "std_of_unique_symbols                0.007026\n",
      "max_representational_complexity     -0.042676\n"
     ]
    }
   ],
   "source": [
    "x = copy.deepcopy(df)[[\"num_equations\",\"mean_num_new_symbols_introduced\",\"num_overall_unique_symbols\",\"mean_num_unique_symbols\",\"std_of_unique_symbols\",\"max_representational_complexity\"]]\n",
    "y = copy.deepcopy(df).recommendation_avg\n",
    "\n",
    "X_train, X_test, y_train, y_test = train_test_split(x, y, test_size=0.3,\n",
    "                                                    random_state=0\n",
    "                                                    )\n",
    "\n",
    "X_train,X_test = normalize(X_train, X_test)\n",
    "\n",
    "linreg = LinearRegression()\n",
    "linreg.fit(X_train, y_train)\n",
    "\n",
    "def norm(x,y):\n",
    "    return np.mean((np.asarray(x)-np.asarray(y))**2)\n",
    "\n",
    "print(\"Train error Linear Regression: {0}\".format(norm(linreg.predict(X_train),y_train)))\n",
    "print(\"Test error Linear Regression: {0}\".format(norm(linreg.predict(X_test),y_test)))\n",
    "print(\"Test error guess Avg: {0}\".format(norm(np.mean(y_train),y_test)))\n",
    "print(\"-------------------------------------------------------------------------\")\n",
    "cdf = pd.DataFrame(linreg.coef_, X_train.columns, columns=['Coefficients'])\n",
    "print(cdf)"
   ]
  },
  {
   "cell_type": "code",
   "execution_count": 44,
   "metadata": {},
   "outputs": [
    {
     "name": "stdout",
     "output_type": "stream",
     "text": [
      "Accuracies: \n",
      "     Set  Logistic Regression  Random guess  Predict class Reject  Predict class Poster  Predict class Spotlight  Predict class Oral  Random guess Reject or Poster\n",
      "0  Train             0.324652      0.695106              0.046700              0.831612                 0.101931            0.019758                       0.783116\n",
      "1   Test             0.274346      0.687958              0.060733              0.808377                 0.112042            0.018848                       0.772775\n",
      "-------------------------------------------------------------------------\n",
      "Prediction Distribution: \n",
      "                Set  Reject  Poster  Spotlight  Oral\n",
      "0         Train set     104    1852        227    44\n",
      "1  Train prediction     441     706        287   793\n",
      "2          Test set      58     772        107    18\n",
      "3   Test prediction     211     291        102   351\n",
      "-------------------------------------------------------------------------\n"
     ]
    },
    {
     "data": {
      "text/plain": [
       "'\\nprint(\"Coefficients: \")\\nclf = pd.DataFrame(columns=[\"equations\",\"mean_num_nsi\",\"num_unique\",\"mean_num_unique\",\"std_unique\",\"complexity\"],data=classifier.coef_)\\nclf[\"status\"] = [\"Reject\",\"Poster\",\"Spotlight\",\"Oral\"]\\nclf = clf[[\"status\",\"equations\",\"mean_num_nsi\",\"num_unique\",\"mean_num_unique\",\"std_unique\",\"complexity\"]]\\npd.set_option(\\'display.width\\',1000)\\nprint(clf)\\n'"
      ]
     },
     "execution_count": 44,
     "metadata": {},
     "output_type": "execute_result"
    }
   ],
   "source": [
    "\n",
    "x = copy.deepcopy(df)[[\"num_equations\",\"mean_num_new_symbols_introduced\",\"num_overall_unique_symbols\",\"mean_num_unique_symbols\",\"std_of_unique_symbols\",\"max_representational_complexity\"]]\n",
    "y = copy.deepcopy(df).status\n",
    "y = np.asarray(y)\n",
    "y[y == \"Reject\"] = 0\n",
    "y[y == \"Poster\"] = 1\n",
    "y[y == \"Spotlight\"] = 2\n",
    "y[y == \"Oral\"] = 3\n",
    "\n",
    "\n",
    "X_train, X_test, y_train, y_test = train_test_split(x, y, test_size=0.3,\n",
    "                                                    random_state=0\n",
    "                                                    )\n",
    "\n",
    "X_train,X_test = normalize(X_train, X_test)\n",
    "\n",
    "y_train = y_train.astype(np.int32)\n",
    "y_test = y_test.astype(np.int32)\n",
    "\n",
    "classifier = EasyEnsembleClassifier(random_state=0)\n",
    "classifier.fit(X_train, y_train)\n",
    "#logreg = LogisticRegression(max_iter=50000,solver=\"saga\")\n",
    "#logreg.fit(X_resampled, y_resampled)\n",
    "\n",
    "def acc(x,y):\n",
    "    return np.mean((np.asarray(x) == np.asarray(y)).astype(np.int32))\n",
    "\n",
    "clf = pd.DataFrame({\"Set\" : [\"Train\", \"Test\"],\n",
    "                    \"Logistic Regression\" : [acc(classifier.predict(X_train),y_train),acc(classifier.predict(X_test),y_test)],\n",
    "                    \"Random guess\" : [acc(np.random.choice(y_train,size=y_train.size),y_train),\n",
    "                                      acc(np.random.choice(y_train,size=y_test.size),y_test)],\n",
    "                    \"Predict class Reject\" : [acc(0,y_train),acc(0,y_test)],\n",
    "                    \"Predict class Poster\" : [acc(1,y_train),acc(1,y_test)],\n",
    "                    \"Predict class Spotlight\" : [acc(2,y_train),acc(2,y_test)],\n",
    "                    \"Predict class Oral\" : [acc(3,y_train),acc(3,y_test)],\n",
    "        \n",
    "                    \"Random guess Reject or Poster\" : [acc(np.random.choice(np.delete(y_train,(y_train == 2) | (y_train == 3)),size=y_train.size),y_train),\n",
    "                                                       acc(np.random.choice(np.delete(y_train,(y_train == 2) | (y_train == 3)),size=y_test.size),y_test)],})\n",
    "print(\"Accuracies: \")\n",
    "print(clf)\n",
    "print(\"-------------------------------------------------------------------------\")\n",
    "y_train_pred = classifier.predict(X_train)\n",
    "y_test_pred = classifier.predict(X_test)\n",
    "clf = pd.DataFrame({\"Set\" : [\"Train set\", \"Train prediction\", \"Test set\", \"Test prediction\"],\n",
    "                    \"Reject\" : [np.sum(y_train == 0),np.sum(y_train_pred == 0),np.sum(y_test == 0),np.sum(y_test_pred == 0)],\n",
    "                    \"Poster\" : [np.sum(y_train == 1),np.sum(y_train_pred == 1),np.sum(y_test == 1),np.sum(y_test_pred == 1)],\n",
    "                    \"Spotlight\" : [np.sum(y_train == 2),np.sum(y_train_pred == 2),np.sum(y_test == 2),np.sum(y_test_pred == 2)],\n",
    "                    \"Oral\" : [np.sum(y_train == 3),np.sum(y_train_pred == 3),np.sum(y_test == 3),np.sum(y_test_pred == 3)],})\n",
    "\n",
    "print(\"Prediction Distribution: \")\n",
    "print(clf)\n",
    "print(\"-------------------------------------------------------------------------\")\n",
    "\n",
    "\"\"\"\n",
    "print(\"Coefficients: \")\n",
    "clf = pd.DataFrame(columns=[\"equations\",\"mean_num_nsi\",\"num_unique\",\"mean_num_unique\",\"std_unique\",\"complexity\"],data=classifier.coef_)\n",
    "clf[\"status\"] = [\"Reject\",\"Poster\",\"Spotlight\",\"Oral\"]\n",
    "clf = clf[[\"status\",\"equations\",\"mean_num_nsi\",\"num_unique\",\"mean_num_unique\",\"std_unique\",\"complexity\"]]\n",
    "pd.set_option('display.width',1000)\n",
    "print(clf)\n",
    "\"\"\"\n"
   ]
  },
  {
   "cell_type": "code",
   "execution_count": 45,
   "metadata": {},
   "outputs": [
    {
     "name": "stdout",
     "output_type": "stream",
     "text": [
      "Accuracies: \n",
      "     Set  Logistic Regression  Random guess  Predict class Reject  Predict class Accept\n",
      "0  Train             0.528963      0.900763              0.046700              0.953300\n",
      "1   Test             0.507853      0.897382              0.060733              0.939267\n",
      "-------------------------------------------------------------------------\n",
      "Prediction Distribution: \n",
      "                Set  Reject  Accept\n",
      "0         Train set     104    2123\n",
      "1  Train prediction    1115    1112\n",
      "2          Test set      58     897\n",
      "3   Test prediction     476     479\n",
      "-------------------------------------------------------------------------\n",
      "Coefficients: \n"
     ]
    },
    {
     "data": {
      "text/plain": [
       "'\\nclf = pd.DataFrame(columns=[\"equations\",\"mean_num_nsi\",\"num_unique\",\"mean_num_unique\",\"std_unique\",\"complexity\"],data=np.concatenate([-classifier.coef_,classifier.coef_]))\\nclf[\"status\"] = [\"Reject\",\"Accept\"]\\nclf = clf[[\"status\",\"equations\",\"mean_num_nsi\",\"num_unique\",\"mean_num_unique\",\"std_unique\",\"complexity\"]]\\npd.set_option(\\'display.width\\',1000)\\nprint(clf)\\n'"
      ]
     },
     "execution_count": 45,
     "metadata": {},
     "output_type": "execute_result"
    }
   ],
   "source": [
    "\n",
    "x = copy.deepcopy(df)[df.status != \"Withdraw\"][[\"num_equations\",\"mean_num_new_symbols_introduced\",\"num_overall_unique_symbols\",\"mean_num_unique_symbols\",\"std_of_unique_symbols\",\"max_representational_complexity\"]]\n",
    "y = copy.deepcopy(df)[df.status != \"Withdraw\"].status\n",
    "y = np.asarray(y)\n",
    "y[y == \"Reject\"] = 0\n",
    "y[y == \"Poster\"] = 1\n",
    "y[y == \"Spotlight\"] = 1\n",
    "y[y == \"Oral\"] = 1\n",
    "\n",
    "\n",
    "\n",
    "X_train, X_test, y_train, y_test = train_test_split(x, y, test_size=0.3,\n",
    "                                                    random_state=0\n",
    "                                                    )\n",
    "\n",
    "X_train,X_test = normalize(X_train, X_test)\n",
    "\n",
    "y_train = y_train.astype(np.int32)\n",
    "y_test = y_test.astype(np.int32)\n",
    "\n",
    "classifier = EasyEnsembleClassifier(random_state=0)\n",
    "\n",
    "classifier.fit(X_train, y_train)\n",
    "\n",
    "def acc(x,y):\n",
    "    return np.mean((np.asarray(x) == np.asarray(y)).astype(np.int32))\n",
    "\n",
    "clf = pd.DataFrame({\"Set\" : [\"Train\", \"Test\"],\n",
    "                    \"Logistic Regression\" : [acc(classifier.predict(X_train),y_train),acc(classifier.predict(X_test),y_test)],\n",
    "                    \"Random guess\" : [acc(np.random.choice(y_train,size=y_train.size),y_train),\n",
    "                                      acc(np.random.choice(y_train,size=y_test.size),y_test)],\n",
    "                    \"Predict class Reject\" : [acc(0,y_train),acc(0,y_test)],\n",
    "                    \"Predict class Accept\" : [acc(1,y_train),acc(1,y_test)]})\n",
    "print(\"Accuracies: \")\n",
    "print(clf)\n",
    "print(\"-------------------------------------------------------------------------\")\n",
    "y_train_pred = classifier.predict(X_train)\n",
    "y_test_pred = classifier.predict(X_test)\n",
    "clf = pd.DataFrame({\"Set\" : [\"Train set\", \"Train prediction\", \"Test set\", \"Test prediction\"],\n",
    "                    \"Reject\" : [np.sum(y_train == 0),np.sum(y_train_pred == 0),np.sum(y_test == 0),np.sum(y_test_pred == 0)],\n",
    "                    \"Accept\" : [np.sum(y_train == 1),np.sum(y_train_pred == 1),np.sum(y_test == 1),np.sum(y_test_pred == 1)]})\n",
    "print(\"Prediction Distribution: \")\n",
    "print(clf)\n",
    "print(\"-------------------------------------------------------------------------\")\n",
    "print(\"Coefficients: \")\n",
    "\n",
    "\"\"\"\n",
    "clf = pd.DataFrame(columns=[\"equations\",\"mean_num_nsi\",\"num_unique\",\"mean_num_unique\",\"std_unique\",\"complexity\"],data=np.concatenate([-classifier.coef_,classifier.coef_]))\n",
    "clf[\"status\"] = [\"Reject\",\"Accept\"]\n",
    "clf = clf[[\"status\",\"equations\",\"mean_num_nsi\",\"num_unique\",\"mean_num_unique\",\"std_unique\",\"complexity\"]]\n",
    "pd.set_option('display.width',1000)\n",
    "print(clf)\n",
    "\"\"\"\n"
   ]
  }
 ],
 "metadata": {
  "kernelspec": {
   "display_name": "DataLit",
   "language": "python",
   "name": "python3"
  },
  "language_info": {
   "codemirror_mode": {
    "name": "ipython",
    "version": 3
   },
   "file_extension": ".py",
   "mimetype": "text/x-python",
   "name": "python",
   "nbconvert_exporter": "python",
   "pygments_lexer": "ipython3",
   "version": "3.11.10"
  }
 },
 "nbformat": 4,
 "nbformat_minor": 2
}
