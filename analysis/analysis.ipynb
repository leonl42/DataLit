{
 "cells": [
  {
   "cell_type": "code",
   "execution_count": 74,
   "metadata": {},
   "outputs": [],
   "source": [
    "import os\n",
    "import pandas as pd\n",
    "from sklearn.linear_model import LinearRegression,LogisticRegression\n",
    "from sklearn.model_selection import train_test_split\n",
    "import numpy as np\n",
    "import copy \n",
    "\n",
    "df = pd.read_csv(\"../feature_extraction/iclr.csv\")\n",
    "\n",
    "df = df.sample(frac=1)"
   ]
  },
  {
   "cell_type": "code",
   "execution_count": 75,
   "metadata": {},
   "outputs": [
    {
     "name": "stdout",
     "output_type": "stream",
     "text": [
      "Train error Linear Regression: 1.7254709393689225\n",
      "Test error Linear Regression: 1.493485457849323\n",
      "Test error Avg: 1.5612458395742201\n",
      "-------------------------------------------------------------------------\n",
      "                                 Coefficients\n",
      "num_equations                        0.000204\n",
      "mean_num_new_symbols_introduced     -1.706017\n",
      "num_overall_unique_symbols           0.005837\n",
      "mean_num_unique_symbols             -0.029941\n",
      "std_of_unique_symbols                0.126181\n",
      "max_representational_complexity     -0.026651\n"
     ]
    }
   ],
   "source": [
    "x = copy.deepcopy(df)[[\"num_equations\",\"mean_num_new_symbols_introduced\",\"num_overall_unique_symbols\",\"mean_num_unique_symbols\",\"std_of_unique_symbols\",\"max_representational_complexity\"]]\n",
    "y = copy.deepcopy(df).recommendation_avg\n",
    "\n",
    "X_train, X_test, y_train, y_test = train_test_split(x, y, test_size=0.3,\n",
    "                                                    random_state=0\n",
    "                                                    )\n",
    "\n",
    "linreg = LinearRegression()\n",
    "linreg.fit(X_train, y_train)\n",
    "\n",
    "def norm(x,y):\n",
    "    return np.mean((np.asarray(x)-np.asarray(y))**2)\n",
    "\n",
    "print(\"Train error Linear Regression: {0}\".format(norm(linreg.predict(X_train),y_train)))\n",
    "print(\"Test error Linear Regression: {0}\".format(norm(linreg.predict(X_test),y_test)))\n",
    "print(\"Test error Avg: {0}\".format(norm(np.mean(y_train),y_test)))\n",
    "print(\"-------------------------------------------------------------------------\")\n",
    "cdf = pd.DataFrame(linreg.coef_, X_train.columns, columns=['Coefficients'])\n",
    "print(cdf)"
   ]
  },
  {
   "cell_type": "code",
   "execution_count": null,
   "metadata": {},
   "outputs": [
    {
     "name": "stdout",
     "output_type": "stream",
     "text": [
      "Accuracies: \n",
      "     Set  Logistic Regression  Random guess  Predict class Withdraw  Predict class Reject  Predict class Desk Reject  Predict class Top-25%  Predict class Top-5%  Predict class Poster  Random guess Reject or Poster  Random guess Withdraw, Reject or Poster\n",
      "0  Train             0.423280      0.294533                0.142857              0.391534                   0.007055               0.081129              0.024691              0.352734                       0.335097                                 0.342152\n",
      "1   Test             0.416226      0.322751                0.160494              0.375661                   0.001764               0.077601              0.028219              0.356261                       0.377425                                 0.358025\n",
      "-------------------------------------------------------------------------\n",
      "Prediction Distribution: \n",
      "                Set  Withdraw  Reject  Desk Reject  Top-25%  Top-5%  Poster\n",
      "0         Train set        81     222            4       46      14     200\n",
      "1  Train prediction         0     398            0        0       5     164\n",
      "2          Test set        91     213            1       44      16     202\n",
      "3   Test prediction         0     385            0        0       3     179\n",
      "-------------------------------------------------------------------------\n",
      "(6, 6)\n",
      "Coefficients: \n",
      "        status  equations  mean_num_nsi  num_unique  mean_num_unique  std_unique  complexity\n",
      "0     Withdraw  -0.002574      0.000397    0.011002        -0.000029    0.001003    0.034554\n",
      "1       Reject  -0.000036      0.001831    0.013015        -0.002718    0.001605    0.033701\n",
      "2  Desk Reject   0.000237     -0.000633   -0.032103        -0.002456   -0.003280   -0.015298\n",
      "3      Top-25%   0.000233     -0.000590    0.014530        -0.002266   -0.004141   -0.038081\n",
      "4       Top-5%   0.001872     -0.000686   -0.025624        -0.001309   -0.003074   -0.019080\n",
      "5       Poster   0.000269     -0.000318    0.019180         0.008778    0.007887    0.004204\n"
     ]
    }
   ],
   "source": [
    "\n",
    "x = copy.deepcopy(df)[[\"num_equations\",\"mean_num_new_symbols_introduced\",\"num_overall_unique_symbols\",\"mean_num_unique_symbols\",\"std_of_unique_symbols\",\"max_representational_complexity\"]]\n",
    "y = copy.deepcopy(df).status\n",
    "y = np.asarray(y)\n",
    "y[y == \"Withdraw\"] = 0\n",
    "y[y == \"Reject\"] = 1\n",
    "y[y == \"Desk Reject\"] = 2\n",
    "y[y == \"Top-25%\"] = 3\n",
    "y[y == \"Top-5%\"] = 4\n",
    "y[y == \"Poster\"] = 5\n",
    "\n",
    "\n",
    "\n",
    "X_train, X_test, y_train, y_test = train_test_split(x, y, test_size=0.3,\n",
    "                                                    random_state=0\n",
    "                                                    )\n",
    "y_train = y_train.astype(np.int32)\n",
    "y_test = y_test.astype(np.int32)\n",
    "\n",
    "logreg = LogisticRegression(max_iter=50000,solver=\"saga\")\n",
    "logreg.fit(X_train, y_train)\n",
    "\n",
    "def acc(x,y):\n",
    "    return np.mean((np.asarray(x) == np.asarray(y)).astype(np.int32))\n",
    "\n",
    "clf = pd.DataFrame({\"Set\" : [\"Train\", \"Test\"],\n",
    "                    \"Logistic Regression\" : [acc(logreg.predict(X_train),y_train),acc(logreg.predict(X_test),y_test)],\n",
    "                    \"Random guess\" : [acc(np.random.choice(y_train,size=y_train.size),y_train),\n",
    "                                      acc(np.random.choice(y_train,size=y_test.size),y_test)],\n",
    "                    \"Predict class Withdraw\" : [acc(0,y_train),acc(0,y_test)],\n",
    "                    \"Predict class Reject\" : [acc(1,y_train),acc(1,y_test)],\n",
    "                    \"Predict class Desk Reject\" : [acc(2,y_train),acc(2,y_test)],\n",
    "                    \"Predict class Top-25%\" : [acc(3,y_train),acc(3,y_test)],\n",
    "                    \"Predict class Top-5%\" : [acc(4,y_train),acc(4,y_test)],\n",
    "                    \"Predict class Poster\" : [acc(5,y_train),acc(5,y_test)],\n",
    "                    \"Random guess Reject or Poster\" : [acc(np.random.choice(np.delete(y_train,(y_train == 0) | (y_train == 2) | (y_train == 3) | (y_train == 4)),size=y_train.size),y_train),\n",
    "                                                       acc(np.random.choice(np.delete(y_train,(y_train == 0) | (y_train == 2) | (y_train == 3) | (y_train == 4)),size=y_test.size),y_test)],\n",
    "                    \"Random guess Withdraw, Reject or Poster\" : [acc(np.random.choice(np.delete(y_train,(y_train == 2) | (y_train == 3) | (y_train == 4)),size=y_train.size),y_train),\n",
    "                                                       acc(np.random.choice(np.delete(y_train,(y_train == 2) | (y_train == 3) | (y_train == 4)),size=y_test.size),y_test)]})\n",
    "print(\"Accuracies: \")\n",
    "print(clf)\n",
    "print(\"-------------------------------------------------------------------------\")\n",
    "y_train_pred = logreg.predict(X_train)\n",
    "y_test_pred = logreg.predict(X_test)\n",
    "clf = pd.DataFrame({\"Set\" : [\"Train set\", \"Train prediction\", \"Test set\", \"Test prediction\"],\n",
    "                    \"Withdraw\" : [np.sum(y_train == 0),np.sum(y_train_pred == 0),np.sum(y_test == 0),np.sum(y_test_pred == 0)],\n",
    "                    \"Reject\" : [np.sum(y_train == 1),np.sum(y_train_pred == 1),np.sum(y_test == 1),np.sum(y_test_pred == 1)],\n",
    "                    \"Desk Reject\" : [np.sum(y_train == 2),np.sum(y_train_pred == 2),np.sum(y_test == 2),np.sum(y_test_pred == 2)],\n",
    "                    \"Top-25%\" : [np.sum(y_train == 3),np.sum(y_train_pred == 3),np.sum(y_test == 3),np.sum(y_test_pred == 3)],\n",
    "                    \"Top-5%\" : [np.sum(y_train == 4),np.sum(y_train_pred == 4),np.sum(y_test == 4),np.sum(y_test_pred == 4)],\n",
    "                    \"Poster\" : [np.sum(y_train == 5),np.sum(y_train_pred == 5),np.sum(y_test == 5),np.sum(y_test_pred == 5)]})\n",
    "print(\"Prediction Distribution: \")\n",
    "print(clf)\n",
    "print(\"-------------------------------------------------------------------------\")\n",
    "print(logreg.coef_.shape)\n",
    "print(\"Coefficients: \")\n",
    "clf = pd.DataFrame(columns=[\"equations\",\"mean_num_nsi\",\"num_unique\",\"mean_num_unique\",\"std_unique\",\"complexity\"],data=logreg.coef_)\n",
    "clf[\"status\"] = [\"Withdraw\",\"Reject\",\"Desk Reject\",\"Top-25%\",\"Top-5%\",\"Poster\"]\n",
    "clf = clf[[\"status\",\"equations\",\"mean_num_nsi\",\"num_unique\",\"mean_num_unique\",\"std_unique\",\"complexity\"]]\n",
    "pd.set_option('display.width',1000)\n",
    "print(clf)\n"
   ]
  }
 ],
 "metadata": {
  "kernelspec": {
   "display_name": "DataLit",
   "language": "python",
   "name": "python3"
  },
  "language_info": {
   "codemirror_mode": {
    "name": "ipython",
    "version": 3
   },
   "file_extension": ".py",
   "mimetype": "text/x-python",
   "name": "python",
   "nbconvert_exporter": "python",
   "pygments_lexer": "ipython3",
   "version": "3.11.10"
  }
 },
 "nbformat": 4,
 "nbformat_minor": 2
}
