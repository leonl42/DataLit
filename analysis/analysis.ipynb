{
 "cells": [
  {
   "cell_type": "code",
   "execution_count": 133,
   "metadata": {},
   "outputs": [],
   "source": [
    "import os\n",
    "import pandas as pd\n",
    "from sklearn.linear_model import LinearRegression,LogisticRegression\n",
    "from sklearn.model_selection import train_test_split\n",
    "import numpy as np\n",
    "import copy \n",
    "\n",
    "df = pd.read_csv(\"../feature_extraction/iclr.csv\")\n",
    "\n",
    "df = df.sample(frac=1)"
   ]
  },
  {
   "cell_type": "code",
   "execution_count": 134,
   "metadata": {},
   "outputs": [
    {
     "name": "stdout",
     "output_type": "stream",
     "text": [
      "Test error Linear Regression: 1.9068342468064563\n",
      "Test error Avg: 1.9272441849563053\n",
      "-------------------------------------------------------------------------\n",
      "                                 Coefficients\n",
      "num_equations                        0.000091\n",
      "mean_num_new_symbols_introduced     -0.453233\n",
      "num_overall_unique_symbols           0.004151\n",
      "mean_num_unique_symbols             -0.025036\n",
      "std_of_unique_symbols                0.071345\n",
      "max_representational_complexity     -0.013087\n"
     ]
    }
   ],
   "source": [
    "x = copy.deepcopy(df)[[\"num_equations\",\"mean_num_new_symbols_introduced\",\"num_overall_unique_symbols\",\"mean_num_unique_symbols\",\"std_of_unique_symbols\",\"max_representational_complexity\"]]\n",
    "y = copy.deepcopy(df).recommendation_avg\n",
    "\n",
    "X_train, X_test, y_train, y_test = train_test_split(x, y, test_size=0.3,\n",
    "                                                    random_state=0\n",
    "                                                    )\n",
    "\n",
    "linreg = LinearRegression()\n",
    "linreg.fit(X_train, y_train)\n",
    "\n",
    "def norm(x,y):\n",
    "    return np.mean((np.asarray(x)-np.asarray(y))**2)\n",
    "\n",
    "print(\"Test error Linear Regression: {0}\".format(norm(linreg.predict(X_test),y_test)))\n",
    "print(\"Test error Avg: {0}\".format(norm(np.mean(y_train),y_test)))\n",
    "print(\"-------------------------------------------------------------------------\")\n",
    "cdf = pd.DataFrame(linreg.coef_, X_train.columns, columns=['Coefficients'])\n",
    "print(cdf)"
   ]
  },
  {
   "cell_type": "code",
   "execution_count": 136,
   "metadata": {},
   "outputs": [
    {
     "name": "stdout",
     "output_type": "stream",
     "text": [
      "Train error Linear Regression: 0.4809384164222874\n",
      "Test error Linear Regression: 0.4641025641025641\n",
      "Test error guess: 0.3264957264957265\n",
      "-------------------------------------------------------------------------\n",
      "(6, 6)\n",
      "        status  equations  mean_num_nsi  num_unique  mean_num_unique  std_unique  complexity\n",
      "0     Withdraw  -0.000344      1.147442    0.001930         0.011160   -0.146638    0.016122\n",
      "1       Reject  -0.000226      0.474874    0.002974         0.060909   -0.139321    0.008381\n",
      "2  Desk Reject   0.000318     -0.709398   -0.015740        -0.114151    0.034875    0.057034\n",
      "3      Top-25%  -0.000204     -0.433036    0.007831         0.050299   -0.025749   -0.025652\n",
      "4       Top-5%   0.000522     -0.190670   -0.003895        -0.003767    0.157170   -0.028215\n",
      "5       Poster  -0.000066     -0.289213    0.006901        -0.004451    0.119664   -0.027671\n"
     ]
    },
    {
     "name": "stderr",
     "output_type": "stream",
     "text": [
      "/home/miri/miniconda3/envs/DataLit/lib/python3.11/site-packages/sklearn/linear_model/_logistic.py:465: ConvergenceWarning: lbfgs failed to converge (status=1):\n",
      "STOP: TOTAL NO. OF F,G EVALUATIONS EXCEEDS LIMIT.\n",
      "\n",
      "Increase the number of iterations (max_iter) or scale the data as shown in:\n",
      "    https://scikit-learn.org/stable/modules/preprocessing.html\n",
      "Please also refer to the documentation for alternative solver options:\n",
      "    https://scikit-learn.org/stable/modules/linear_model.html#logistic-regression\n",
      "  n_iter_i = _check_optimize_result(\n"
     ]
    }
   ],
   "source": [
    "\n",
    "x = copy.deepcopy(df)[[\"num_equations\",\"mean_num_new_symbols_introduced\",\"num_overall_unique_symbols\",\"mean_num_unique_symbols\",\"std_of_unique_symbols\",\"max_representational_complexity\"]]\n",
    "y = copy.deepcopy(df).status\n",
    "y = np.asarray(y)\n",
    "y[y == \"Withdraw\"] = 0\n",
    "y[y == \"Reject\"] = 1\n",
    "y[y == \"Desk Reject\"] = 2\n",
    "y[y == \"Top-25%\"] = 3\n",
    "y[y == \"Top-5%\"] = 4\n",
    "y[y == \"Poster\"] = 5\n",
    "\n",
    "\n",
    "\n",
    "X_train, X_test, y_train, y_test = train_test_split(x, y, test_size=0.3,\n",
    "                                                    random_state=0\n",
    "                                                    )\n",
    "y_train = y_train.astype(np.int32)\n",
    "y_test = y_test.astype(np.int32)\n",
    "\n",
    "logreg = LogisticRegression(max_iter=50000)\n",
    "logreg.fit(X_train, y_train)\n",
    "\n",
    "def acc(x,y):\n",
    "    return np.mean((np.asarray(x) == np.asarray(y)).astype(np.int32))\n",
    "\n",
    "print(\"Train error Linear Regression: {0}\".format(acc(logreg.predict(X_train),y_train)))\n",
    "print(\"Test error Linear Regression: {0}\".format(acc(logreg.predict(X_test),y_test)))\n",
    "\n",
    "\n",
    "print(\"Test error guess: {0}\".format(acc(np.random.choice(y_train,size=y_test.size),y_test)))\n",
    "\n",
    "print(\"-------------------------------------------------------------------------\")\n",
    "print(logreg.coef_.shape)\n",
    "\n",
    "clf = pd.DataFrame(columns=[\"equations\",\"mean_num_nsi\",\"num_unique\",\"mean_num_unique\",\"std_unique\",\"complexity\"],data=logreg.coef_)\n",
    "clf[\"status\"] = [\"Withdraw\",\"Reject\",\"Desk Reject\",\"Top-25%\",\"Top-5%\",\"Poster\"]\n",
    "clf = clf[[\"status\",\"equations\",\"mean_num_nsi\",\"num_unique\",\"mean_num_unique\",\"std_unique\",\"complexity\"]]\n",
    "pd.set_option('display.width',1000)\n",
    "print(clf)\n"
   ]
  }
 ],
 "metadata": {
  "kernelspec": {
   "display_name": "DataLit",
   "language": "python",
   "name": "python3"
  },
  "language_info": {
   "codemirror_mode": {
    "name": "ipython",
    "version": 3
   },
   "file_extension": ".py",
   "mimetype": "text/x-python",
   "name": "python",
   "nbconvert_exporter": "python",
   "pygments_lexer": "ipython3",
   "version": "3.11.10"
  }
 },
 "nbformat": 4,
 "nbformat_minor": 2
}
