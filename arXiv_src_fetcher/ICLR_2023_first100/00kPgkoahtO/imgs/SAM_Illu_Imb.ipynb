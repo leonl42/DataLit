{
 "cells": [
  {
   "cell_type": "markdown",
   "metadata": {
    "id": "hMmdCEWr6kmD"
   },
   "source": [
    "# IMPORT MODULES"
   ]
  },
  {
   "cell_type": "code",
   "execution_count": 19,
   "metadata": {
    "executionInfo": {
     "elapsed": 9234,
     "status": "ok",
     "timestamp": 1702757008445,
     "user": {
      "displayName": "STOCKSIEKER Sam",
      "userId": "17703404885148646474"
     },
     "user_tz": -60
    },
    "id": "DJ1Cd1IKvZLi"
   },
   "outputs": [],
   "source": [
    "import torch\n",
    "import torch.nn as nn\n",
    "import torchvision\n",
    "import torch.nn.functional as F\n",
    "from torch.autograd import Variable\n",
    "torch.manual_seed(42)\n",
    "torch.backends.cudnn.deterministic = True\n",
    "torch.backends.cudnn.benchmark = False\n",
    "if torch.cuda.is_available():\n",
    "    torch.cuda.manual_seed(42)\n",
    "    torch.cuda.manual_seed_all(42)"
   ]
  },
  {
   "cell_type": "code",
   "execution_count": 20,
   "metadata": {
    "colab": {
     "base_uri": "https://localhost:8080/"
    },
    "executionInfo": {
     "elapsed": 38491,
     "status": "ok",
     "timestamp": 1702757046918,
     "user": {
      "displayName": "STOCKSIEKER Sam",
      "userId": "17703404885148646474"
     },
     "user_tz": -60
    },
    "id": "XsDZUrsRWKYZ",
    "outputId": "07bfb480-f365-4a6a-a775-f6f4163603e0"
   },
   "outputs": [
    {
     "name": "stdout",
     "output_type": "stream",
     "text": [
      "Requirement already satisfied: h2o in c:\\users\\samgo\\anaconda3\\lib\\site-packages (3.44.0.2)\n",
      "Requirement already satisfied: requests in c:\\users\\samgo\\anaconda3\\lib\\site-packages (from h2o) (2.31.0)\n",
      "Requirement already satisfied: tabulate in c:\\users\\samgo\\anaconda3\\lib\\site-packages (from h2o) (0.8.10)\n",
      "Requirement already satisfied: charset-normalizer<4,>=2 in c:\\users\\samgo\\anaconda3\\lib\\site-packages (from requests->h2o) (2.0.4)\n",
      "Requirement already satisfied: idna<4,>=2.5 in c:\\users\\samgo\\anaconda3\\lib\\site-packages (from requests->h2o) (3.4)\n",
      "Requirement already satisfied: urllib3<3,>=1.21.1 in c:\\users\\samgo\\anaconda3\\lib\\site-packages (from requests->h2o) (1.26.16)\n",
      "Requirement already satisfied: certifi>=2017.4.17 in c:\\users\\samgo\\anaconda3\\lib\\site-packages (from requests->h2o) (2023.11.17)\n",
      "Requirement already satisfied: lazypredict in c:\\users\\samgo\\anaconda3\\lib\\site-packages (0.2.12)\n",
      "Requirement already satisfied: click in c:\\users\\samgo\\anaconda3\\lib\\site-packages (from lazypredict) (8.0.4)\n",
      "Requirement already satisfied: scikit-learn in c:\\users\\samgo\\anaconda3\\lib\\site-packages (from lazypredict) (1.3.0)\n",
      "Requirement already satisfied: pandas in c:\\users\\samgo\\anaconda3\\lib\\site-packages (from lazypredict) (2.0.3)\n",
      "Requirement already satisfied: tqdm in c:\\users\\samgo\\anaconda3\\lib\\site-packages (from lazypredict) (4.65.0)\n",
      "Requirement already satisfied: joblib in c:\\users\\samgo\\anaconda3\\lib\\site-packages (from lazypredict) (1.2.0)\n",
      "Requirement already satisfied: lightgbm in c:\\users\\samgo\\anaconda3\\lib\\site-packages (from lazypredict) (4.1.0)\n",
      "Requirement already satisfied: xgboost in c:\\users\\samgo\\anaconda3\\lib\\site-packages (from lazypredict) (2.0.2)\n",
      "Requirement already satisfied: colorama in c:\\users\\samgo\\anaconda3\\lib\\site-packages (from click->lazypredict) (0.4.6)\n",
      "Requirement already satisfied: numpy in c:\\users\\samgo\\anaconda3\\lib\\site-packages (from lightgbm->lazypredict) (1.24.3)\n",
      "Requirement already satisfied: scipy in c:\\users\\samgo\\anaconda3\\lib\\site-packages (from lightgbm->lazypredict) (1.11.1)\n",
      "Requirement already satisfied: python-dateutil>=2.8.2 in c:\\users\\samgo\\anaconda3\\lib\\site-packages (from pandas->lazypredict) (2.8.2)\n",
      "Requirement already satisfied: pytz>=2020.1 in c:\\users\\samgo\\anaconda3\\lib\\site-packages (from pandas->lazypredict) (2023.3.post1)\n",
      "Requirement already satisfied: tzdata>=2022.1 in c:\\users\\samgo\\anaconda3\\lib\\site-packages (from pandas->lazypredict) (2023.3)\n",
      "Requirement already satisfied: threadpoolctl>=2.0.0 in c:\\users\\samgo\\anaconda3\\lib\\site-packages (from scikit-learn->lazypredict) (2.2.0)\n",
      "Requirement already satisfied: six>=1.5 in c:\\users\\samgo\\anaconda3\\lib\\site-packages (from python-dateutil>=2.8.2->pandas->lazypredict) (1.16.0)\n"
     ]
    }
   ],
   "source": [
    "! pip install h2o\n",
    "! pip install lazypredict"
   ]
  },
  {
   "cell_type": "code",
   "execution_count": 21,
   "metadata": {
    "executionInfo": {
     "elapsed": 5924,
     "status": "ok",
     "timestamp": 1702757052837,
     "user": {
      "displayName": "STOCKSIEKER Sam",
      "userId": "17703404885148646474"
     },
     "user_tz": -60
    },
    "id": "nEepsaOvr2p5"
   },
   "outputs": [],
   "source": [
    "import numpy as np\n",
    "import pandas as pd\n",
    "import os\n",
    "import io\n",
    "# import dill\n",
    "from sklearn.model_selection import train_test_split\n",
    "from sklearn.preprocessing import StandardScaler,MinMaxScaler,OneHotEncoder\n",
    "from sklearn.ensemble import RandomForestRegressor\n",
    "from sklearn.inspection import permutation_importance\n",
    "from scipy.stats import gaussian_kde, spearmanr, pearsonr\n",
    "import statsmodels.api as sm\n",
    "from statsmodels.formula.api import ols\n",
    "from scipy.stats.contingency import association\n",
    "from statsmodels.distributions.empirical_distribution import ECDF\n",
    "import matplotlib.pyplot as plt\n",
    "from sklearn.metrics import r2_score\n",
    "from sklearn.decomposition import PCA\n",
    "import seaborn as sns\n",
    "from matplotlib.pylab import rcParams\n",
    "rcParams['figure.figsize'] = 3, 3\n",
    "sns.set(rc={'figure.figsize':(3,3)})\n",
    "from sklearn.metrics import mean_squared_error,mean_absolute_percentage_error,median_absolute_error\n",
    "# import chime\n",
    "# chime.theme('mario')\n",
    "np.random.seed(42)\n",
    "from tqdm import trange\n",
    "from IPython.display import Image\n",
    "import h2o\n",
    "from h2o.automl import H2OAutoML\n",
    "from lazypredict.Supervised import LazyRegressor"
   ]
  },
  {
   "cell_type": "code",
   "execution_count": 22,
   "metadata": {
    "colab": {
     "base_uri": "https://localhost:8080/"
    },
    "executionInfo": {
     "elapsed": 28211,
     "status": "ok",
     "timestamp": 1702757081045,
     "user": {
      "displayName": "STOCKSIEKER Sam",
      "userId": "17703404885148646474"
     },
     "user_tz": -60
    },
    "id": "AygEdk1q2-Vs",
    "outputId": "ea422434-22f8-4eb9-a577-eb43047a47b9"
   },
   "outputs": [],
   "source": [
    "# from google.colab import drive\n",
    "# drive.mount('/content/gdrive')"
   ]
  },
  {
   "cell_type": "code",
   "execution_count": 23,
   "metadata": {},
   "outputs": [
    {
     "data": {
      "text/plain": [
       "'C:\\\\Users\\\\samgo\\\\OneDrive\\\\Perso\\\\Thèse\\\\Travaux\\\\SAM\\\\Illu\\\\Imb'"
      ]
     },
     "execution_count": 23,
     "metadata": {},
     "output_type": "execute_result"
    }
   ],
   "source": [
    "os.getcwd()"
   ]
  },
  {
   "cell_type": "code",
   "execution_count": 24,
   "metadata": {
    "executionInfo": {
     "elapsed": 8,
     "status": "ok",
     "timestamp": 1702757081045,
     "user": {
      "displayName": "STOCKSIEKER Sam",
      "userId": "17703404885148646474"
     },
     "user_tz": -60
    },
    "id": "dGb4z_O0ZCj8"
   },
   "outputs": [],
   "source": [
    "os.chdir('C:/Users/samgo/OneDrive/Perso/Thèse/Travaux/SAM/Illu/Imb')"
   ]
  },
  {
   "cell_type": "code",
   "execution_count": 25,
   "metadata": {
    "executionInfo": {
     "elapsed": 7,
     "status": "ok",
     "timestamp": 1702757081045,
     "user": {
      "displayName": "STOCKSIEKER Sam",
      "userId": "17703404885148646474"
     },
     "user_tz": -60
    },
    "id": "f7Q0FSheZ18q"
   },
   "outputs": [],
   "source": [
    "Type = \"Imb\"\n",
    "context = \"supervised\"\n",
    "# retirer le stops et passer boucle à 20"
   ]
  },
  {
   "cell_type": "code",
   "execution_count": 26,
   "metadata": {
    "executionInfo": {
     "elapsed": 7,
     "status": "ok",
     "timestamp": 1702757081045,
     "user": {
      "displayName": "STOCKSIEKER Sam",
      "userId": "17703404885148646474"
     },
     "user_tz": -60
    },
    "id": "8Wji-DlubNUr"
   },
   "outputs": [],
   "source": [
    "# from google.colab import files\n",
    "# uploaded = files.upload()"
   ]
  },
  {
   "cell_type": "markdown",
   "metadata": {
    "id": "SGxSNRt77zk6"
   },
   "source": [
    "# DATA"
   ]
  },
  {
   "cell_type": "code",
   "execution_count": 27,
   "metadata": {
    "executionInfo": {
     "elapsed": 254,
     "status": "ok",
     "timestamp": 1702763318875,
     "user": {
      "displayName": "STOCKSIEKER Sam",
      "userId": "17703404885148646474"
     },
     "user_tz": -60
    },
    "id": "sw7snjXfFKb4"
   },
   "outputs": [],
   "source": [
    "n = 2000\n",
    "if Type == \"Imb\":\n",
    "  X1 = np.random.normal(0,1,n)\n",
    "  X2 = np.random.normal(10,2,n)\n",
    "  X3 = np.random.normal(10,2,n)\n",
    "  data = pd.DataFrame(data={'X1': X1,'X2': X2,'X3': X3})\n",
    "\n",
    "  data[\"Q1\"] = np.random.choice([\"Q1_70\", \"Q1_30\"], n, p= [0.7,0.3])\n",
    "  data[\"Q2\"] = np.random.choice([\"Q2_10\", \"Q2_20\", \"Q2_29\", \"Q2_31\", \"Q2_02\", \"Q2_08\"], n, p= [0.1,0.2,0.3,0.3,0.02,0.08])\n",
    "  data[\"Q3\"] = np.random.choice([\"Q3_60\", \"Q3_20\", \"Q3_17\", \"Q3_03\"], n, p= [0.6,0.2,0.17,0.03])\n",
    "  data[\"Q4\"] = np.random.choice([\"Q4_10_0\", \"Q4_10_1\", \"Q4_10_2\", \"Q4_10_3\", \"Q4_10_4\", \"Q4_15\", \"Q4_05\", \"Q4_30\"], n, p= [0.1,0.1,0.1,0.1,0.1,0.15,0.05,0.3])\n",
    "  data[\"Q5\"] = np.random.choice([\"Q5_25_0\", \"Q5_25_1\", \"Q5_10_0\", \"Q5_10_1\", \"Q5_05_0\", \"Q5_05_1\", \"Q5_05_2\", \"Q5_05_3\", \"Q5_09\", \"Q5_01\"], n, p= [0.25,0.25,0.1,0.1,0.05,0.05,0.05,0.05,0.09,0.01])\n",
    "  PL = (data[\"Q1\"] ==\"Q1_30\") * 0.1 + (data[\"Q2\"] ==\"Q2_02\") * 1 + (data[\"Q3\"] ==\"Q3_03\") * 1 + (data[\"Q4\"] ==\"Q4_05\") * 1 + (data[\"Q5\"] ==\"Q5_01\") * 1 + (data[\"Q5\"] ==\"Q5_05_0\") * 1 + X1*0.1 + X2*0.05 + X3*0.05\n",
    "  data[\"Y\"] = np.random.normal(PL,0.5,n)\n",
    "  # data[\"Q5\"] = np.random.choice([\"Q51\", \"Q52\", \"Q53\", \"Q54\", \"Q55\", \"Q56\"], n, p= [0.1,0.2,0.05,0.55,0.01,0.09])\n",
    "  data\n",
    "else:\n",
    "  X1 = np.random.normal(0,1,n)\n",
    "  X2 = np.random.normal(10,2,n)\n",
    "  X3 = np.random.normal(10,2,n)\n",
    "  data = pd.DataFrame(data={'X1': X1,'X2': X2,'X3': X3})\n",
    "\n",
    "  data[\"Q1\"] = np.random.choice([\"Q1_70\", \"Q1_30\"], n, p= [0.7,0.3])\n",
    "  data[\"Q2\"] = np.random.choice([\"Q2_10\", \"Q2_20\", \"Q2_29\", \"Q2_31\", \"Q2_02\", \"Q2_08\"], n, p= [0.1,0.2,0.3,0.3,0.02,0.08])\n",
    "  data[\"Q3\"] = np.random.choice([\"Q3_60\", \"Q3_20\", \"Q3_17\", \"Q3_03\"], n, p= [0.6,0.2,0.17,0.03])\n",
    "  data[\"Q4\"] = np.random.choice([\"Q4_10_0\", \"Q4_10_1\", \"Q4_10_2\", \"Q4_10_3\", \"Q4_10_4\", \"Q4_15\", \"Q4_05\", \"Q4_30\"], n, p= [0.1,0.1,0.1,0.1,0.1,0.15,0.05,0.3])\n",
    "  data[\"Q5\"] = np.random.choice([\"Q5_25_0\", \"Q5_25_1\", \"Q5_10_0\", \"Q5_10_1\", \"Q5_05_0\", \"Q5_05_1\", \"Q5_05_2\", \"Q5_05_3\", \"Q5_09\", \"Q5_01\"], n, p= [0.25,0.25,0.1,0.1,0.05,0.05,0.05,0.05,0.09,0.01])\n",
    "  PL = (data[\"Q1\"] ==\"Q1_70\") * 1 + (data[\"Q2\"] ==\"Q2_29\") * 2 + (data[\"Q3\"] ==\"Q3_60\") * 1 + (data[\"Q4\"] ==\"Q4_30\") * 1 + (data[\"Q5\"] ==\"Q5_25_0\") * 3 + (data[\"Q5\"] ==\"Q5_10_0\") * 1 + X1*0.5 + X2*0.1 + X3*0.2\n",
    "  data[\"Y\"] = np.random.normal(PL,0.5,n)\n",
    "  # data[\"Q5\"] = np.random.choice([\"Q51\", \"Q52\", \"Q53\", \"Q54\", \"Q55\", \"Q56\"], n, p= [0.1,0.2,0.05,0.55,0.01,0.09])\n",
    "  data"
   ]
  },
  {
   "cell_type": "code",
   "execution_count": 28,
   "metadata": {
    "colab": {
     "base_uri": "https://localhost:8080/",
     "height": 313
    },
    "executionInfo": {
     "elapsed": 749,
     "status": "ok",
     "timestamp": 1702763320421,
     "user": {
      "displayName": "STOCKSIEKER Sam",
      "userId": "17703404885148646474"
     },
     "user_tz": -60
    },
    "id": "aGR_-WcZCVHB",
    "outputId": "10dfcbbf-d4aa-4873-91c5-2f4e7789c7e9"
   },
   "outputs": [
    {
     "data": {
      "text/plain": [
       "<matplotlib.collections.PathCollection at 0x1d26abd0150>"
      ]
     },
     "execution_count": 28,
     "metadata": {},
     "output_type": "execute_result"
    },
    {
     "data": {
      "image/png": "[encoded data removed]",
      "text/plain": [
       "<Figure size 300x300 with 1 Axes>"
      ]
     },
     "metadata": {},
     "output_type": "display_data"
    }
   ],
   "source": [
    "plt.scatter(PL,data['Y'])"
   ]
  },
  {
   "cell_type": "code",
   "execution_count": 29,
   "metadata": {
    "executionInfo": {
     "elapsed": 2,
     "status": "ok",
     "timestamp": 1702763322069,
     "user": {
      "displayName": "STOCKSIEKER Sam",
      "userId": "17703404885148646474"
     },
     "user_tz": -60
    },
    "id": "S85mNo79EJSN"
   },
   "outputs": [],
   "source": [
    "# n = 2000\n",
    "# X1 = np.random.normal(0,1,n)\n",
    "# X2 = np.random.normal(10,2,n)\n",
    "# X3 = np.random.normal(10,2,n)\n",
    "# data = pd.DataFrame(data={'X1': X1,'X2': X2,'X3': X3})\n",
    "\n",
    "# data[\"Q1\"] = np.random.choice([\"Q11\", \"Q12\"], n, p= [0.7,0.3])\n",
    "# data[\"Q2\"] = np.random.choice([\"Q21\", \"Q22\", \"Q23\", \"Q24\", \"Q25\", \"Q26\"], n, p= [0.1,0.2,0.3,0.3,0.02,0.08])\n",
    "# data[\"Q3\"] = np.random.choice([\"Q31\", \"Q32\", \"Q33\", \"Q34\"], n, p= [0.6,0.2,0.17,0.03])\n",
    "# data[\"Q4\"] = np.random.choice([\"Q41\", \"Q42\", \"Q43\", \"Q44\", \"Q45\", \"Q46\", \"Q47\", \"Q48\"], n, p= [0.1,0.1,0.1,0.1,0.1,0.15,0.05,0.3])\n",
    "# data[\"Q5\"] = np.random.choice([\"Q51\", \"Q52\", \"Q53\", \"Q54\", \"Q55\", \"Q56\", \"Q57\", \"Q58\", \"Q59\", \"Q599\"], n, p= [0.25,0.25,0.1,0.1,0.05,0.05,0.05,0.05,0.09,0.01])\n",
    "# context = \"NonSupervised\""
   ]
  },
  {
   "cell_type": "code",
   "execution_count": 30,
   "metadata": {
    "executionInfo": {
     "elapsed": 1,
     "status": "ok",
     "timestamp": 1702763322069,
     "user": {
      "displayName": "STOCKSIEKER Sam",
      "userId": "17703404885148646474"
     },
     "user_tz": -60
    },
    "id": "ENAz7kMgIv7P"
   },
   "outputs": [],
   "source": [
    "# n = 2000\n",
    "# data = pd.DataFrame({})\n",
    "# data[\"Y\"] = np.repeat(0,n)\n",
    "# data[\"Q1\"] = np.random.choice([\"Q11\", \"Q12\"], n, p= [0.7,0.3])\n",
    "# data[\"Q2\"] = np.random.choice([\"Q21\", \"Q22\", \"Q23\", \"Q24\", \"Q25\", \"Q26\"], n, p= [0.1,0.2,0.3,0.3,0.02,0.08])\n",
    "# data[\"Q3\"] = np.random.choice([\"Q31\", \"Q32\", \"Q33\", \"Q34\"], n, p= [0.6,0.2,0.17,0.03])\n",
    "# data[\"Q4\"] = np.random.choice([\"Q41\", \"Q42\", \"Q43\", \"Q44\", \"Q45\", \"Q46\", \"Q47\", \"Q48\"], n, p= [0.1,0.1,0.1,0.1,0.1,0.15,0.05,0.3])\n",
    "# data[\"Q5\"] = np.random.choice([\"Q51\", \"Q52\", \"Q53\", \"Q54\", \"Q55\", \"Q56\", \"Q57\", \"Q58\", \"Q59\", \"Q599\"], n, p= [0.25,0.25,0.1,0.1,0.05,0.05,0.05,0.05,0.09,0.01])\n",
    "# PL = (data[\"Q1\"] ==\"Q12\") * 1 + (data[\"Q2\"] ==\"Q26\") * 1 + (data[\"Q2\"] ==\"Q25\") * 2 + (data[\"Q3\"] ==\"Q34\") * 1.8 + (data[\"Q4\"] ==\"Q47\") * 1.3 + (data[\"Q5\"] ==\"Q599\") * 1.5\n",
    "# data[\"Y\"] = np.random.normal(PL,0.2,n)\n",
    "# data\n",
    "# context = \"supervised\""
   ]
  },
  {
   "cell_type": "code",
   "execution_count": 31,
   "metadata": {
    "executionInfo": {
     "elapsed": 422,
     "status": "ok",
     "timestamp": 1702763323190,
     "user": {
      "displayName": "STOCKSIEKER Sam",
      "userId": "17703404885148646474"
     },
     "user_tz": -60
    },
    "id": "3KiZ7jWkxuxN"
   },
   "outputs": [],
   "source": [
    "# n = 2000\n",
    "# data = pd.DataFrame({})\n",
    "# data[\"Q1\"] = np.random.choice([\"Q11\", \"Q12\"], n, p= [0.7,0.3])\n",
    "# data[\"Q2\"] = np.random.choice([\"Q21\", \"Q22\", \"Q23\", \"Q24\", \"Q25\", \"Q26\"], n, p= [0.1,0.2,0.3,0.3,0.02,0.08])\n",
    "# data[\"Q3\"] = np.random.choice([\"Q31\", \"Q32\", \"Q33\", \"Q34\"], n, p= [0.6,0.2,0.17,0.03])\n",
    "# data[\"Q4\"] = np.random.choice([\"Q41\", \"Q42\", \"Q43\", \"Q44\", \"Q45\", \"Q46\", \"Q47\", \"Q48\"], n, p= [0.1,0.1,0.1,0.1,0.1,0.15,0.05,0.3])\n",
    "# data[\"Q5\"] = np.random.choice([\"Q51\", \"Q52\", \"Q53\", \"Q54\", \"Q55\", \"Q56\", \"Q57\", \"Q58\", \"Q59\", \"Q599\"], n, p= [0.25,0.25,0.1,0.1,0.05,0.05,0.05,0.05,0.09,0.01])\n",
    "# data\n",
    "# context = \"NonSupervised\""
   ]
  },
  {
   "cell_type": "code",
   "execution_count": 32,
   "metadata": {
    "executionInfo": {
     "elapsed": 2,
     "status": "ok",
     "timestamp": 1702763323190,
     "user": {
      "displayName": "STOCKSIEKER Sam",
      "userId": "17703404885148646474"
     },
     "user_tz": -60
    },
    "id": "z2F8GkpBoV7W"
   },
   "outputs": [],
   "source": [
    "# n = 2000\n",
    "# data = pd.DataFrame({})\n",
    "# data[\"Q1\"] = np.random.choice([\"Q11\", \"Q12\", \"Q13\", \"Q14\", \"Q15\", \"Q16\", \"Q17\", \"Q18\", \"Q19\", \"Q199\"], n, p= [0.25,0.25,0.1,0.1,0.05,0.05,0.05,0.05,0.09,0.01])\n",
    "# data[\"Q2\"] = np.random.choice([\"Q21\", \"Q22\", \"Q23\", \"Q24\", \"Q25\", \"Q26\", \"Q27\", \"Q28\", \"Q29\", \"Q299\"], n, p= [0.25,0.25,0.1,0.1,0.05,0.05,0.05,0.05,0.09,0.01])\n",
    "# data\n",
    "# context = \"NonSupervised\""
   ]
  },
  {
   "cell_type": "code",
   "execution_count": 33,
   "metadata": {
    "executionInfo": {
     "elapsed": 2,
     "status": "ok",
     "timestamp": 1702763323190,
     "user": {
      "displayName": "STOCKSIEKER Sam",
      "userId": "17703404885148646474"
     },
     "user_tz": -60
    },
    "id": "zYl4L9AkQEQF"
   },
   "outputs": [],
   "source": [
    "# plt.hist(data['Y'])"
   ]
  },
  {
   "cell_type": "code",
   "execution_count": 34,
   "metadata": {
    "executionInfo": {
     "elapsed": 2,
     "status": "ok",
     "timestamp": 1702763323190,
     "user": {
      "displayName": "STOCKSIEKER Sam",
      "userId": "17703404885148646474"
     },
     "user_tz": -60
    },
    "id": "KDdwbh805_Au"
   },
   "outputs": [],
   "source": [
    "lab_Y = \"Y\""
   ]
  },
  {
   "cell_type": "code",
   "execution_count": 35,
   "metadata": {
    "colab": {
     "base_uri": "https://localhost:8080/",
     "height": 384
    },
    "executionInfo": {
     "elapsed": 798,
     "status": "ok",
     "timestamp": 1702763323986,
     "user": {
      "displayName": "STOCKSIEKER Sam",
      "userId": "17703404885148646474"
     },
     "user_tz": -60
    },
    "id": "rjjxphZ57Ztw",
    "outputId": "3b95bb3a-c741-43ae-ddbb-ab6e64624e9c"
   },
   "outputs": [
    {
     "data": {
      "text/plain": [
       "(array([ 29., 191., 642., 632., 362., 106.,  30.,   7.,   0.,   1.]),\n",
       " array([-0.70808704, -0.12692196,  0.45424312,  1.0354082 ,  1.61657328,\n",
       "         2.19773836,  2.77890344,  3.36006853,  3.94123361,  4.52239869,\n",
       "         5.10356377]),\n",
       " <BarContainer object of 10 artists>)"
      ]
     },
     "execution_count": 35,
     "metadata": {},
     "output_type": "execute_result"
    },
    {
     "data": {
      "image/png": "[encoded data removed]",
      "text/plain": [
       "<Figure size 300x300 with 1 Axes>"
      ]
     },
     "metadata": {},
     "output_type": "display_data"
    }
   ],
   "source": [
    "plt.hist(data[lab_Y])"
   ]
  },
  {
   "cell_type": "markdown",
   "metadata": {
    "id": "mJ6Aa1HHZik0"
   },
   "source": [
    "réduction du jeu"
   ]
  },
  {
   "cell_type": "code",
   "execution_count": 36,
   "metadata": {
    "colab": {
     "base_uri": "https://localhost:8080/"
    },
    "executionInfo": {
     "elapsed": 19,
     "status": "ok",
     "timestamp": 1702763323986,
     "user": {
      "displayName": "STOCKSIEKER Sam",
      "userId": "17703404885148646474"
     },
     "user_tz": -60
    },
    "id": "J07ipUiEDnnJ",
    "outputId": "e0a4b25b-b9fd-44ed-8312-dd2421621b28"
   },
   "outputs": [
    {
     "name": "stdout",
     "output_type": "stream",
     "text": [
      "Q1\n",
      "Q1_70    1449\n",
      "Q1_30     551\n",
      "Name: count, dtype: int64\n",
      "Q2\n",
      "Q2_31    619\n",
      "Q2_29    606\n",
      "Q2_20    394\n",
      "Q2_10    185\n",
      "Q2_08    154\n",
      "Q2_02     42\n",
      "Name: count, dtype: int64\n",
      "Q3\n",
      "Q3_60    1221\n",
      "Q3_20     370\n",
      "Q3_17     336\n",
      "Q3_03      73\n",
      "Name: count, dtype: int64\n",
      "Q4\n",
      "Q4_30      613\n",
      "Q4_15      287\n",
      "Q4_10_0    213\n",
      "Q4_10_4    212\n",
      "Q4_10_1    200\n",
      "Q4_10_2    192\n",
      "Q4_10_3    181\n",
      "Q4_05      102\n",
      "Name: count, dtype: int64\n",
      "Q5\n",
      "Q5_25_1    485\n",
      "Q5_25_0    469\n",
      "Q5_10_0    225\n",
      "Q5_10_1    209\n",
      "Q5_09      190\n",
      "Q5_05_1    110\n",
      "Q5_05_0    102\n",
      "Q5_05_3    100\n",
      "Q5_05_2     89\n",
      "Q5_01       21\n",
      "Name: count, dtype: int64\n"
     ]
    }
   ],
   "source": [
    "for c in data.columns:\n",
    "  if data[c].dtype == \"object\":\n",
    "    print(data[c].value_counts(dropna=False))"
   ]
  },
  {
   "cell_type": "markdown",
   "metadata": {
    "id": "Sp5G1lJeYe5V"
   },
   "source": [
    "### Importance Variable Analysis"
   ]
  },
  {
   "cell_type": "code",
   "execution_count": 37,
   "metadata": {
    "executionInfo": {
     "elapsed": 10,
     "status": "ok",
     "timestamp": 1702763323986,
     "user": {
      "displayName": "STOCKSIEKER Sam",
      "userId": "17703404885148646474"
     },
     "user_tz": -60
    },
    "id": "lakMIu2SRz7X"
   },
   "outputs": [],
   "source": [
    "y_rf = data[[lab_Y]]\n",
    "X_rf = data.copy()\n",
    "X_rf.drop(lab_Y, axis = 1, inplace=True)"
   ]
  },
  {
   "cell_type": "code",
   "execution_count": 38,
   "metadata": {
    "executionInfo": {
     "elapsed": 7,
     "status": "ok",
     "timestamp": 1702763323986,
     "user": {
      "displayName": "STOCKSIEKER Sam",
      "userId": "17703404885148646474"
     },
     "user_tz": -60
    },
    "id": "JZa9F2nNZ8QT"
   },
   "outputs": [],
   "source": [
    "X_rf=pd.get_dummies(X_rf)"
   ]
  },
  {
   "cell_type": "code",
   "execution_count": 39,
   "metadata": {
    "colab": {
     "base_uri": "https://localhost:8080/",
     "height": 75
    },
    "executionInfo": {
     "elapsed": 2127,
     "status": "ok",
     "timestamp": 1702763326110,
     "user": {
      "displayName": "STOCKSIEKER Sam",
      "userId": "17703404885148646474"
     },
     "user_tz": -60
    },
    "id": "N3JSHMbPRyO2",
    "outputId": "cd6ef817-5db3-4320-9f83-1bde92d305e9"
   },
   "outputs": [
    {
     "data": {
      "text/html": [
       "<style>#sk-container-id-1 {color: black;}#sk-container-id-1 pre{padding: 0;}#sk-container-id-1 div.sk-toggleable {background-color: white;}#sk-container-id-1 label.sk-toggleable__label {cursor: pointer;display: block;width: 100%;margin-bottom: 0;padding: 0.3em;box-sizing: border-box;text-align: center;}#sk-container-id-1 label.sk-toggleable__label-arrow:before {content: \"▸\";float: left;margin-right: 0.25em;color: #696969;}#sk-container-id-1 label.sk-toggleable__label-arrow:hover:before {color: black;}#sk-container-id-1 div.sk-estimator:hover label.sk-toggleable__label-arrow:before {color: black;}#sk-container-id-1 div.sk-toggleable__content {max-height: 0;max-width: 0;overflow: hidden;text-align: left;background-color: #f0f8ff;}#sk-container-id-1 div.sk-toggleable__content pre {margin: 0.2em;color: black;border-radius: 0.25em;background-color: #f0f8ff;}#sk-container-id-1 input.sk-toggleable__control:checked~div.sk-toggleable__content {max-height: 200px;max-width: 100%;overflow: auto;}#sk-container-id-1 input.sk-toggleable__control:checked~label.sk-toggleable__label-arrow:before {content: \"▾\";}#sk-container-id-1 div.sk-estimator input.sk-toggleable__control:checked~label.sk-toggleable__label {background-color: #d4ebff;}#sk-container-id-1 div.sk-label input.sk-toggleable__control:checked~label.sk-toggleable__label {background-color: #d4ebff;}#sk-container-id-1 input.sk-hidden--visually {border: 0;clip: rect(1px 1px 1px 1px);clip: rect(1px, 1px, 1px, 1px);height: 1px;margin: -1px;overflow: hidden;padding: 0;position: absolute;width: 1px;}#sk-container-id-1 div.sk-estimator {font-family: monospace;background-color: #f0f8ff;border: 1px dotted black;border-radius: 0.25em;box-sizing: border-box;margin-bottom: 0.5em;}#sk-container-id-1 div.sk-estimator:hover {background-color: #d4ebff;}#sk-container-id-1 div.sk-parallel-item::after {content: \"\";width: 100%;border-bottom: 1px solid gray;flex-grow: 1;}#sk-container-id-1 div.sk-label:hover label.sk-toggleable__label {background-color: #d4ebff;}#sk-container-id-1 div.sk-serial::before {content: \"\";position: absolute;border-left: 1px solid gray;box-sizing: border-box;top: 0;bottom: 0;left: 50%;z-index: 0;}#sk-container-id-1 div.sk-serial {display: flex;flex-direction: column;align-items: center;background-color: white;padding-right: 0.2em;padding-left: 0.2em;position: relative;}#sk-container-id-1 div.sk-item {position: relative;z-index: 1;}#sk-container-id-1 div.sk-parallel {display: flex;align-items: stretch;justify-content: center;background-color: white;position: relative;}#sk-container-id-1 div.sk-item::before, #sk-container-id-1 div.sk-parallel-item::before {content: \"\";position: absolute;border-left: 1px solid gray;box-sizing: border-box;top: 0;bottom: 0;left: 50%;z-index: -1;}#sk-container-id-1 div.sk-parallel-item {display: flex;flex-direction: column;z-index: 1;position: relative;background-color: white;}#sk-container-id-1 div.sk-parallel-item:first-child::after {align-self: flex-end;width: 50%;}#sk-container-id-1 div.sk-parallel-item:last-child::after {align-self: flex-start;width: 50%;}#sk-container-id-1 div.sk-parallel-item:only-child::after {width: 0;}#sk-container-id-1 div.sk-dashed-wrapped {border: 1px dashed gray;margin: 0 0.4em 0.5em 0.4em;box-sizing: border-box;padding-bottom: 0.4em;background-color: white;}#sk-container-id-1 div.sk-label label {font-family: monospace;font-weight: bold;display: inline-block;line-height: 1.2em;}#sk-container-id-1 div.sk-label-container {text-align: center;}#sk-container-id-1 div.sk-container {/* jupyter's `normalize.less` sets `[hidden] { display: none; }` but bootstrap.min.css set `[hidden] { display: none !important; }` so we also need the `!important` here to be able to override the default hidden behavior on the sphinx rendered scikit-learn.org. See: https://github.com/scikit-learn/scikit-learn/issues/21755 */display: inline-block !important;position: relative;}#sk-container-id-1 div.sk-text-repr-fallback {display: none;}</style><div id=\"sk-container-id-1\" class=\"sk-top-container\"><div class=\"sk-text-repr-fallback\"><pre>RandomForestRegressor()</pre><b>In a Jupyter environment, please rerun this cell to show the HTML representation or trust the notebook. <br />On GitHub, the HTML representation is unable to render, please try loading this page with nbviewer.org.</b></div><div class=\"sk-container\" hidden><div class=\"sk-item\"><div class=\"sk-estimator sk-toggleable\"><input class=\"sk-toggleable__control sk-hidden--visually\" id=\"sk-estimator-id-1\" type=\"checkbox\" checked><label for=\"sk-estimator-id-1\" class=\"sk-toggleable__label sk-toggleable__label-arrow\">RandomForestRegressor</label><div class=\"sk-toggleable__content\"><pre>RandomForestRegressor()</pre></div></div></div></div></div>"
      ],
      "text/plain": [
       "RandomForestRegressor()"
      ]
     },
     "execution_count": 39,
     "metadata": {},
     "output_type": "execute_result"
    }
   ],
   "source": [
    "rf = RandomForestRegressor(n_estimators=100)\n",
    "rf.fit(X_rf, y_rf)"
   ]
  },
  {
   "cell_type": "code",
   "execution_count": 40,
   "metadata": {
    "colab": {
     "base_uri": "https://localhost:8080/",
     "height": 1000
    },
    "executionInfo": {
     "elapsed": 7,
     "status": "ok",
     "timestamp": 1702763326111,
     "user": {
      "displayName": "STOCKSIEKER Sam",
      "userId": "17703404885148646474"
     },
     "user_tz": -60
    },
    "id": "gPOvRALTRyyC",
    "outputId": "1e67df5e-6783-469d-9620-32ce046798a0"
   },
   "outputs": [
    {
     "data": {
      "text/html": [
       "<div>\n",
       "<style scoped>\n",
       "    .dataframe tbody tr th:only-of-type {\n",
       "        vertical-align: middle;\n",
       "    }\n",
       "\n",
       "    .dataframe tbody tr th {\n",
       "        vertical-align: top;\n",
       "    }\n",
       "\n",
       "    .dataframe thead th {\n",
       "        text-align: right;\n",
       "    }\n",
       "</style>\n",
       "<table border=\"1\" class=\"dataframe\">\n",
       "  <thead>\n",
       "    <tr style=\"text-align: right;\">\n",
       "      <th></th>\n",
       "      <th>var</th>\n",
       "      <th>imp</th>\n",
       "    </tr>\n",
       "  </thead>\n",
       "  <tbody>\n",
       "    <tr>\n",
       "      <th>2</th>\n",
       "      <td>X3</td>\n",
       "      <td>0.16</td>\n",
       "    </tr>\n",
       "    <tr>\n",
       "      <th>1</th>\n",
       "      <td>X2</td>\n",
       "      <td>0.14</td>\n",
       "    </tr>\n",
       "    <tr>\n",
       "      <th>0</th>\n",
       "      <td>X1</td>\n",
       "      <td>0.14</td>\n",
       "    </tr>\n",
       "    <tr>\n",
       "      <th>15</th>\n",
       "      <td>Q4_Q4_05</td>\n",
       "      <td>0.10</td>\n",
       "    </tr>\n",
       "    <tr>\n",
       "      <th>24</th>\n",
       "      <td>Q5_Q5_05_0</td>\n",
       "      <td>0.10</td>\n",
       "    </tr>\n",
       "    <tr>\n",
       "      <th>11</th>\n",
       "      <td>Q3_Q3_03</td>\n",
       "      <td>0.07</td>\n",
       "    </tr>\n",
       "    <tr>\n",
       "      <th>5</th>\n",
       "      <td>Q2_Q2_02</td>\n",
       "      <td>0.04</td>\n",
       "    </tr>\n",
       "    <tr>\n",
       "      <th>23</th>\n",
       "      <td>Q5_Q5_01</td>\n",
       "      <td>0.02</td>\n",
       "    </tr>\n",
       "    <tr>\n",
       "      <th>8</th>\n",
       "      <td>Q2_Q2_20</td>\n",
       "      <td>0.01</td>\n",
       "    </tr>\n",
       "    <tr>\n",
       "      <th>10</th>\n",
       "      <td>Q2_Q2_31</td>\n",
       "      <td>0.01</td>\n",
       "    </tr>\n",
       "    <tr>\n",
       "      <th>32</th>\n",
       "      <td>Q5_Q5_25_1</td>\n",
       "      <td>0.01</td>\n",
       "    </tr>\n",
       "    <tr>\n",
       "      <th>22</th>\n",
       "      <td>Q4_Q4_30</td>\n",
       "      <td>0.01</td>\n",
       "    </tr>\n",
       "    <tr>\n",
       "      <th>31</th>\n",
       "      <td>Q5_Q5_25_0</td>\n",
       "      <td>0.01</td>\n",
       "    </tr>\n",
       "    <tr>\n",
       "      <th>9</th>\n",
       "      <td>Q2_Q2_29</td>\n",
       "      <td>0.01</td>\n",
       "    </tr>\n",
       "    <tr>\n",
       "      <th>13</th>\n",
       "      <td>Q3_Q3_20</td>\n",
       "      <td>0.01</td>\n",
       "    </tr>\n",
       "    <tr>\n",
       "      <th>12</th>\n",
       "      <td>Q3_Q3_17</td>\n",
       "      <td>0.01</td>\n",
       "    </tr>\n",
       "    <tr>\n",
       "      <th>16</th>\n",
       "      <td>Q4_Q4_10_0</td>\n",
       "      <td>0.01</td>\n",
       "    </tr>\n",
       "    <tr>\n",
       "      <th>21</th>\n",
       "      <td>Q4_Q4_15</td>\n",
       "      <td>0.01</td>\n",
       "    </tr>\n",
       "    <tr>\n",
       "      <th>29</th>\n",
       "      <td>Q5_Q5_10_0</td>\n",
       "      <td>0.01</td>\n",
       "    </tr>\n",
       "    <tr>\n",
       "      <th>14</th>\n",
       "      <td>Q3_Q3_60</td>\n",
       "      <td>0.01</td>\n",
       "    </tr>\n",
       "    <tr>\n",
       "      <th>20</th>\n",
       "      <td>Q4_Q4_10_4</td>\n",
       "      <td>0.01</td>\n",
       "    </tr>\n",
       "    <tr>\n",
       "      <th>18</th>\n",
       "      <td>Q4_Q4_10_2</td>\n",
       "      <td>0.01</td>\n",
       "    </tr>\n",
       "    <tr>\n",
       "      <th>6</th>\n",
       "      <td>Q2_Q2_08</td>\n",
       "      <td>0.01</td>\n",
       "    </tr>\n",
       "    <tr>\n",
       "      <th>19</th>\n",
       "      <td>Q4_Q4_10_3</td>\n",
       "      <td>0.01</td>\n",
       "    </tr>\n",
       "    <tr>\n",
       "      <th>17</th>\n",
       "      <td>Q4_Q4_10_1</td>\n",
       "      <td>0.01</td>\n",
       "    </tr>\n",
       "    <tr>\n",
       "      <th>27</th>\n",
       "      <td>Q5_Q5_05_3</td>\n",
       "      <td>0.01</td>\n",
       "    </tr>\n",
       "    <tr>\n",
       "      <th>30</th>\n",
       "      <td>Q5_Q5_10_1</td>\n",
       "      <td>0.01</td>\n",
       "    </tr>\n",
       "    <tr>\n",
       "      <th>28</th>\n",
       "      <td>Q5_Q5_09</td>\n",
       "      <td>0.01</td>\n",
       "    </tr>\n",
       "    <tr>\n",
       "      <th>7</th>\n",
       "      <td>Q2_Q2_10</td>\n",
       "      <td>0.01</td>\n",
       "    </tr>\n",
       "    <tr>\n",
       "      <th>3</th>\n",
       "      <td>Q1_Q1_30</td>\n",
       "      <td>0.01</td>\n",
       "    </tr>\n",
       "    <tr>\n",
       "      <th>4</th>\n",
       "      <td>Q1_Q1_70</td>\n",
       "      <td>0.01</td>\n",
       "    </tr>\n",
       "    <tr>\n",
       "      <th>25</th>\n",
       "      <td>Q5_Q5_05_1</td>\n",
       "      <td>0.01</td>\n",
       "    </tr>\n",
       "    <tr>\n",
       "      <th>26</th>\n",
       "      <td>Q5_Q5_05_2</td>\n",
       "      <td>0.00</td>\n",
       "    </tr>\n",
       "  </tbody>\n",
       "</table>\n",
       "</div>"
      ],
      "text/plain": [
       "           var  imp\n",
       "2           X3 0.16\n",
       "1           X2 0.14\n",
       "0           X1 0.14\n",
       "15    Q4_Q4_05 0.10\n",
       "24  Q5_Q5_05_0 0.10\n",
       "11    Q3_Q3_03 0.07\n",
       "5     Q2_Q2_02 0.04\n",
       "23    Q5_Q5_01 0.02\n",
       "8     Q2_Q2_20 0.01\n",
       "10    Q2_Q2_31 0.01\n",
       "32  Q5_Q5_25_1 0.01\n",
       "22    Q4_Q4_30 0.01\n",
       "31  Q5_Q5_25_0 0.01\n",
       "9     Q2_Q2_29 0.01\n",
       "13    Q3_Q3_20 0.01\n",
       "12    Q3_Q3_17 0.01\n",
       "16  Q4_Q4_10_0 0.01\n",
       "21    Q4_Q4_15 0.01\n",
       "29  Q5_Q5_10_0 0.01\n",
       "14    Q3_Q3_60 0.01\n",
       "20  Q4_Q4_10_4 0.01\n",
       "18  Q4_Q4_10_2 0.01\n",
       "6     Q2_Q2_08 0.01\n",
       "19  Q4_Q4_10_3 0.01\n",
       "17  Q4_Q4_10_1 0.01\n",
       "27  Q5_Q5_05_3 0.01\n",
       "30  Q5_Q5_10_1 0.01\n",
       "28    Q5_Q5_09 0.01\n",
       "7     Q2_Q2_10 0.01\n",
       "3     Q1_Q1_30 0.01\n",
       "4     Q1_Q1_70 0.01\n",
       "25  Q5_Q5_05_1 0.01\n",
       "26  Q5_Q5_05_2 0.00"
      ]
     },
     "execution_count": 40,
     "metadata": {},
     "output_type": "execute_result"
    }
   ],
   "source": [
    "res_imp = pd.DataFrame({'var' : X_rf.columns, 'imp':rf.feature_importances_})\n",
    "res_imp.sort_values(by = \"imp\", ascending=False, inplace=True)\n",
    "res_imp"
   ]
  },
  {
   "cell_type": "code",
   "execution_count": 41,
   "metadata": {
    "colab": {
     "base_uri": "https://localhost:8080/",
     "height": 313
    },
    "executionInfo": {
     "elapsed": 387,
     "status": "ok",
     "timestamp": 1702763326492,
     "user": {
      "displayName": "STOCKSIEKER Sam",
      "userId": "17703404885148646474"
     },
     "user_tz": -60
    },
    "id": "wPOaQCwzRy1H",
    "outputId": "3328f9b6-1cec-4291-84d9-ee4fc799beaf"
   },
   "outputs": [
    {
     "data": {
      "text/plain": [
       "<BarContainer object of 10 artists>"
      ]
     },
     "execution_count": 41,
     "metadata": {},
     "output_type": "execute_result"
    },
    {
     "data": {
      "image/png": "[encoded data removed]",
      "text/plain": [
       "<Figure size 300x300 with 1 Axes>"
      ]
     },
     "metadata": {},
     "output_type": "display_data"
    }
   ],
   "source": [
    "plt.barh(res_imp.iloc[0:10,0],res_imp.iloc[0:10,1])"
   ]
  },
  {
   "cell_type": "markdown",
   "metadata": {
    "id": "r0Qvkk5dd1O0"
   },
   "source": [
    "# TRANSFORMER"
   ]
  },
  {
   "cell_type": "code",
   "execution_count": 42,
   "metadata": {
    "executionInfo": {
     "elapsed": 4,
     "status": "ok",
     "timestamp": 1702763326493,
     "user": {
      "displayName": "STOCKSIEKER Sam",
      "userId": "17703404885148646474"
     },
     "user_tz": -60
    },
    "id": "9_rxkfUBqGP7"
   },
   "outputs": [],
   "source": [
    "def transformer(inputs, mode_quanti=\"MinMax\", mode_quali=\"OHE\"):\n",
    "    res = []\n",
    "    quanti = inputs.select_dtypes(include=['number'])\n",
    "    quali = inputs.select_dtypes(include=['object', 'category'])\n",
    "    name_quanti = quanti.columns\n",
    "    if quanti.shape[1] > 0 :\n",
    "      if mode_quanti==\"MinMax\" :\n",
    "        scaler = MinMaxScaler()\n",
    "        quanti_t = pd.DataFrame(scaler.fit_transform(quanti))\n",
    "      else:\n",
    "        scaler = StandardScaler()\n",
    "        quanti_t = pd.DataFrame(scaler.fit_transform(quanti))\n",
    "      quanti_t.columns = name_quanti\n",
    "      quanti_t.index = inputs.index\n",
    "      res = quanti_t\n",
    "    if quali.shape[1] > 0 :\n",
    "      quali_t = pd.get_dummies(quali)\n",
    "      if mode_quali==\"AFDM\" :\n",
    "        quali_t=(quali_t/np.sqrt(quali_t.mean()))\n",
    "      if mode_quali==\"DEN\" :\n",
    "        for col in quali.columns:\n",
    "          num_modalities = quali[col].nunique()\n",
    "          quali_t1 = quali_t.copy()\n",
    "          quali_t1[quali_t1.columns[quali_t1.columns.str.startswith(col)]] = 1/(num_modalities-1)\n",
    "        quali_t2=quali_t/quali_t.sum()\n",
    "        quali_t = quali_t2 * quali_t1\n",
    "        quali_t = np.sqrt(quali_t)\n",
    "      if mode_quali==\"SAM\" :\n",
    "        n = quali.shape[0]\n",
    "        poids_1 = pd.DataFrame([])\n",
    "        poids_0 = pd.DataFrame([])\n",
    "        for col in quali.columns:\n",
    "          temp = pd.DataFrame(1/(quali[col].value_counts(normalize=False).sort_index()))#/(np.max(1/(quali[col].value_counts(normalize=True).sort_index()))) )  #sum(1/quali[col].value_counts(normalize=True).sort_index()) * len(1/quali[col].value_counts(normalize=True).sort_index()))\n",
    "          temp.columns=[\"fq\"]\n",
    "          poids_1 = pd.concat([poids_1,temp.transpose()], axis=1)\n",
    "          temp = pd.DataFrame(1/(n - quali[col].value_counts(normalize=False).sort_index()))#/(np.max(1/(quali[col].value_counts(normalize=True).sort_index()))) )  #sum(1/quali[col].value_counts(normalize=True).sort_index()) * len(1/quali[col].value_counts(normalize=True).sort_index()))\n",
    "          temp.columns=[\"fq\"]\n",
    "          poids_0 = pd.concat([poids_0,temp.transpose()], axis=1)\n",
    "        poids_1 = np.sqrt(np.array(poids_1))\n",
    "        poids_0 = np.sqrt(np.array(poids_0))\n",
    "        quali_t = quali_t*poids_1 #+ (1-quali_t)*poids_0\n",
    "      if mode_quali==\"SAM-1\" :\n",
    "        poids = pd.DataFrame([])\n",
    "        for col in quali.columns:\n",
    "          mod_majo = quali[col].mode()[0]\n",
    "          quali_t = quali_t[quali_t.columns[quali_t.columns != col+\"_\"+mod_majo]]\n",
    "          temp = pd.DataFrame(1/quali[col].value_counts(normalize=True).sort_index())\n",
    "          temp = temp[temp.index != mod_majo]\n",
    "          temp = temp/temp.max()\n",
    "          temp.columns=[\"fq\"]\n",
    "          temp = temp.transpose()\n",
    "          poids=pd.concat([poids,temp], axis=1)\n",
    "        poids = np.array(poids)\n",
    "        quali_t = quali_t*np.sqrt(poids)\n",
    "      if quanti.shape[1] > 0 :\n",
    "        res = pd.concat([res, quali_t], axis=1)\n",
    "      else:\n",
    "        res = quali_t\n",
    "    return res"
   ]
  },
  {
   "cell_type": "code",
   "execution_count": 43,
   "metadata": {
    "executionInfo": {
     "elapsed": 391,
     "status": "ok",
     "timestamp": 1702763333228,
     "user": {
      "displayName": "STOCKSIEKER Sam",
      "userId": "17703404885148646474"
     },
     "user_tz": -60
    },
    "id": "cZRy9PtznNyF"
   },
   "outputs": [],
   "source": [
    "def undummify(df, prefix_sep=\"_\"):\n",
    "    cols2collapse = {\n",
    "        item.split(prefix_sep)[0]: (prefix_sep in item) for item in df.columns\n",
    "    }\n",
    "    series_list = []\n",
    "    for col, needs_to_collapse in cols2collapse.items():\n",
    "        if needs_to_collapse:\n",
    "            undummified = (\n",
    "                df.filter(like=col)\n",
    "                .idxmax(axis=1)\n",
    "                .apply(lambda x: x.split(prefix_sep, maxsplit=1)[1])\n",
    "                .rename(col)\n",
    "            )\n",
    "            series_list.append(undummified)\n",
    "        else:\n",
    "            series_list.append(df[col])\n",
    "    undummified_df = pd.concat(series_list, axis=1)\n",
    "    return undummified_df"
   ]
  },
  {
   "cell_type": "code",
   "execution_count": 44,
   "metadata": {
    "executionInfo": {
     "elapsed": 304,
     "status": "ok",
     "timestamp": 1702763334109,
     "user": {
      "displayName": "STOCKSIEKER Sam",
      "userId": "17703404885148646474"
     },
     "user_tz": -60
    },
    "id": "54P5yznqcSgK"
   },
   "outputs": [],
   "source": [
    "def inv_transformer(inputs, outputs, mode_quanti=\"MinMax\", mode_quali=\"OHE\"):\n",
    "  quanti = inputs.select_dtypes(include=['number'])\n",
    "  quali = inputs.select_dtypes(include=['object', 'category'])\n",
    "  name_quanti = quanti.columns\n",
    "  if quanti.shape[1] > 0 :\n",
    "    if mode_quanti==\"MinMax\" :\n",
    "      scaler = MinMaxScaler()\n",
    "      scaler.fit(quanti)\n",
    "      res_quanti =  pd.DataFrame(scaler.inverse_transform(outputs[name_quanti]))\n",
    "    elif mode_quanti==\"SC\" :\n",
    "      scaler = StandardScaler()\n",
    "      scaler.fit(quanti)\n",
    "      res_quanti =  pd.DataFrame(scaler.inverse_transform(outputs[name_quanti]))\n",
    "    else:\n",
    "      res_quanti =  pd.DataFrame(outputs[name_quanti])\n",
    "    res_quanti.columns = name_quanti\n",
    "    res_quanti.index = inputs.index\n",
    "  if quali.shape[1] > 0 :\n",
    "    quali_t = pd.get_dummies(quali)\n",
    "    name_quali_t = quali_t.columns\n",
    "    res_quali = outputs.copy()\n",
    "    res_quali.drop(name_quanti, axis=1, inplace=True)\n",
    "    res_quali.index = quali_t.index\n",
    "    if mode_quali==\"AFDM\" :\n",
    "      res_quali=(res_quali) * np.sqrt(quali_t.mean())\n",
    "    if mode_quali==\"DEN\" :\n",
    "      for col in quali.columns:\n",
    "        num_modalities = quali[col].nunique()\n",
    "        quali_t1 = quali_t.copy()\n",
    "        quali_t1[quali_t1.columns[quali_t1.columns.str.startswith(col)]] = 1/(num_modalities-1)\n",
    "      quali_t2=quali_t/quali_t.sum()\n",
    "      quali_t = quali_t2 * quali_t1\n",
    "      res_quali = res_quali / np.sqrt(quali_t)\n",
    "    if mode_quali==\"SAM\" :\n",
    "        poids_1 = pd.DataFrame([])\n",
    "        poids_0 = pd.DataFrame([])\n",
    "        for col in quali.columns:\n",
    "          temp = pd.DataFrame(1/(quali[col].value_counts(normalize=False).sort_index()))#/(np.max(1/(quali[col].value_counts(normalize=True).sort_index()))) )  #sum(1/quali[col].value_counts(normalize=True).sort_index()) * len(1/quali[col].value_counts(normalize=True).sort_index()))\n",
    "          temp.columns=[\"fq\"]\n",
    "          poids_1 = pd.concat([poids_1,temp.transpose()], axis=1)\n",
    "          temp = pd.DataFrame(1/(n - quali[col].value_counts(normalize=False).sort_index()))#/(np.max(1/(quali[col].value_counts(normalize=True).sort_index()))) )  #sum(1/quali[col].value_counts(normalize=True).sort_index()) * len(1/quali[col].value_counts(normalize=True).sort_index()))\n",
    "          temp.columns=[\"fq\"]\n",
    "          poids_0 = pd.concat([poids_0,temp.transpose()], axis=1)\n",
    "        poids_1 = np.sqrt(np.array(poids_1))\n",
    "        poids_0 = np.sqrt(np.array(poids_0))\n",
    "        # res_quali = (res_quali - poids_0)/(poids_1-poids_0)\n",
    "        res_quali = res_quali/poids_1\n",
    "    if mode_quali==\"SAM-1\" :\n",
    "        poids = pd.DataFrame([])\n",
    "        for col in quali.columns:\n",
    "          mod_majo = quali[col].mode()[0]\n",
    "          quali_t = quali_t[quali_t.columns[quali_t.columns != col+\"_\"+mod_majo]]\n",
    "          temp = pd.DataFrame(1/quali[col].value_counts(normalize=True).sort_index())\n",
    "          temp = temp[temp.index != mod_majo]\n",
    "          temp = temp/temp.max()\n",
    "          temp.columns=[\"fq\"]\n",
    "          temp = temp.transpose()\n",
    "          poids=pd.concat([poids,temp], axis=1)\n",
    "        poids = np.array(poids)\n",
    "        res_quali = res_quali/np.sqrt(poids)\n",
    "        for col in quali.columns:\n",
    "          mod_majo = quali[col].mode()[0]\n",
    "          temp = pd.DataFrame(1/quali[col].value_counts(normalize=True).sort_index())\n",
    "          temp = temp[temp.index != mod_majo]\n",
    "          temp = temp.index.to_list()\n",
    "          temp = [col + \"_\" + mod for mod in temp]\n",
    "          res_quali[col + \"_\" + mod_majo] = 1-np.sum(res_quali[temp],axis=1)\n",
    "        res_quali = res_quali[name_quali_t]\n",
    "    res_quali = np.round(res_quali,0)\n",
    "    if quanti.shape[1] > 0 :\n",
    "      res = pd.concat([res_quanti, res_quali], axis=1)\n",
    "    else:\n",
    "      res = res_quali\n",
    "  return res"
   ]
  },
  {
   "cell_type": "markdown",
   "metadata": {
    "id": "RVMGpUdKaJ5Z"
   },
   "source": [
    "# Analyse DATA"
   ]
  },
  {
   "cell_type": "code",
   "execution_count": 45,
   "metadata": {
    "executionInfo": {
     "elapsed": 13,
     "status": "ok",
     "timestamp": 1702763334109,
     "user": {
      "displayName": "STOCKSIEKER Sam",
      "userId": "17703404885148646474"
     },
     "user_tz": -60
    },
    "id": "4ICe5zkJsMDD"
   },
   "outputs": [],
   "source": [
    "# sns.pairplot(data)\n",
    "# plt.show()"
   ]
  },
  {
   "cell_type": "code",
   "execution_count": 46,
   "metadata": {
    "colab": {
     "base_uri": "https://localhost:8080/"
    },
    "executionInfo": {
     "elapsed": 13,
     "status": "ok",
     "timestamp": 1702763334109,
     "user": {
      "displayName": "STOCKSIEKER Sam",
      "userId": "17703404885148646474"
     },
     "user_tz": -60
    },
    "id": "rhnvyMAIPeGs",
    "outputId": "e8c0c423-3e0f-4e6f-eb53-b2c4d6de38e0"
   },
   "outputs": [
    {
     "data": {
      "text/plain": [
       "X1    float64\n",
       "X2    float64\n",
       "X3    float64\n",
       "Q1     object\n",
       "Q2     object\n",
       "Q3     object\n",
       "Q4     object\n",
       "Q5     object\n",
       "Y     float64\n",
       "dtype: object"
      ]
     },
     "execution_count": 46,
     "metadata": {},
     "output_type": "execute_result"
    }
   ],
   "source": [
    "data.dtypes"
   ]
  },
  {
   "cell_type": "code",
   "execution_count": 47,
   "metadata": {
    "colab": {
     "base_uri": "https://localhost:8080/"
    },
    "executionInfo": {
     "elapsed": 9,
     "status": "ok",
     "timestamp": 1702763334109,
     "user": {
      "displayName": "STOCKSIEKER Sam",
      "userId": "17703404885148646474"
     },
     "user_tz": -60
    },
    "id": "ZqNVDZUN3xjy",
    "outputId": "768b1df4-4155-4d13-f628-83eee5dadf0d"
   },
   "outputs": [
    {
     "data": {
      "text/plain": [
       "8"
      ]
     },
     "execution_count": 47,
     "metadata": {},
     "output_type": "execute_result"
    }
   ],
   "source": [
    "colY = np.where(data.columns==lab_Y)[0][0] ; colY"
   ]
  },
  {
   "cell_type": "markdown",
   "metadata": {
    "id": "ubVrZsfn3tIt"
   },
   "source": [
    "# PARAMETRES"
   ]
  },
  {
   "cell_type": "code",
   "execution_count": 48,
   "metadata": {
    "colab": {
     "base_uri": "https://localhost:8080/"
    },
    "executionInfo": {
     "elapsed": 7,
     "status": "ok",
     "timestamp": 1702763334109,
     "user": {
      "displayName": "STOCKSIEKER Sam",
      "userId": "17703404885148646474"
     },
     "user_tz": -60
    },
    "id": "jlIWYmCzt2Cq",
    "outputId": "0073a73b-a2b9-4a98-fe9c-0afe5de2bd30"
   },
   "outputs": [
    {
     "data": {
      "text/plain": [
       "device(type='cuda')"
      ]
     },
     "execution_count": 48,
     "metadata": {},
     "output_type": "execute_result"
    }
   ],
   "source": [
    "if torch.cuda.is_available():\n",
    "    device = torch.device(\"cuda\")\n",
    "else:\n",
    "    device = torch.device(\"cpu\")\n",
    "device"
   ]
  },
  {
   "cell_type": "code",
   "execution_count": 49,
   "metadata": {
    "executionInfo": {
     "elapsed": 6,
     "status": "ok",
     "timestamp": 1702763334109,
     "user": {
      "displayName": "STOCKSIEKER Sam",
      "userId": "17703404885148646474"
     },
     "user_tz": -60
    },
    "id": "adzsGOAJRf7Y"
   },
   "outputs": [],
   "source": [
    "load_models = 0"
   ]
  },
  {
   "cell_type": "markdown",
   "metadata": {
    "id": "cGMgq2ciPIJz"
   },
   "source": [
    "### Paramètres DATA"
   ]
  },
  {
   "cell_type": "markdown",
   "metadata": {
    "id": "E_gi7CK4aaVi"
   },
   "source": [
    "## Train-Test split"
   ]
  },
  {
   "cell_type": "code",
   "execution_count": 50,
   "metadata": {
    "executionInfo": {
     "elapsed": 6,
     "status": "ok",
     "timestamp": 1702763334109,
     "user": {
      "displayName": "STOCKSIEKER Sam",
      "userId": "17703404885148646474"
     },
     "user_tz": -60
    },
    "id": "Q5p_emvkP_uR"
   },
   "outputs": [],
   "source": [
    "test_size=0.4"
   ]
  },
  {
   "cell_type": "code",
   "execution_count": 51,
   "metadata": {
    "executionInfo": {
     "elapsed": 6,
     "status": "ok",
     "timestamp": 1702763334109,
     "user": {
      "displayName": "STOCKSIEKER Sam",
      "userId": "17703404885148646474"
     },
     "user_tz": -60
    },
    "id": "Zs72WL5NL8l5"
   },
   "outputs": [],
   "source": [
    "def trainTest(data, test_size=0.3,np_seed=None):\n",
    "  if np_seed is None:\n",
    "    np.random.seed()\n",
    "  else:\n",
    "    np.random.seed(np_seed)\n",
    "  n = data.shape[0]\n",
    "  X_test = data.sample(frac=test_size, random_state=np_seed)\n",
    "  X_train = data.drop(X_test.index)\n",
    "  data_t = np.array(data)\n",
    "  return{'X_train':X_train,'X_test':X_test,'data_t':data_t}"
   ]
  },
  {
   "cell_type": "code",
   "execution_count": 52,
   "metadata": {
    "executionInfo": {
     "elapsed": 5,
     "status": "ok",
     "timestamp": 1702763334109,
     "user": {
      "displayName": "STOCKSIEKER Sam",
      "userId": "17703404885148646474"
     },
     "user_tz": -60
    },
    "id": "lG_G4DqXZuWr"
   },
   "outputs": [],
   "source": [
    "seed_sample = np.random.randint(1000,size=1) # 683"
   ]
  },
  {
   "cell_type": "code",
   "execution_count": 53,
   "metadata": {
    "colab": {
     "base_uri": "https://localhost:8080/"
    },
    "executionInfo": {
     "elapsed": 5,
     "status": "ok",
     "timestamp": 1702763334109,
     "user": {
      "displayName": "STOCKSIEKER Sam",
      "userId": "17703404885148646474"
     },
     "user_tz": -60
    },
    "id": "Q_0pQedmL8zh",
    "outputId": "7da431a2-3f6e-432d-9c31-49e8462edd4b"
   },
   "outputs": [
    {
     "name": "stdout",
     "output_type": "stream",
     "text": [
      "(1200, 9)\n",
      "(800, 9)\n"
     ]
    }
   ],
   "source": [
    "split = trainTest(data,test_size,seed_sample)\n",
    "X_train = split['X_train']\n",
    "X_test = split['X_test']\n",
    "print(X_train.shape)\n",
    "print(X_test.shape)"
   ]
  },
  {
   "cell_type": "markdown",
   "metadata": {
    "id": "e8tf65RLWdQb"
   },
   "source": [
    "Retrait de Y de data"
   ]
  },
  {
   "cell_type": "code",
   "execution_count": 54,
   "metadata": {
    "executionInfo": {
     "elapsed": 5,
     "status": "ok",
     "timestamp": 1702763334110,
     "user": {
      "displayName": "STOCKSIEKER Sam",
      "userId": "17703404885148646474"
     },
     "user_tz": -60
    },
    "id": "D7LMxAiLWZwd"
   },
   "outputs": [],
   "source": [
    "if context==\"supervised\":\n",
    "  y_train = X_train.iloc[:,colY]\n",
    "  X_train.drop(X_train.columns[colY], axis=1, inplace=True)"
   ]
  },
  {
   "cell_type": "code",
   "execution_count": 55,
   "metadata": {
    "executionInfo": {
     "elapsed": 5,
     "status": "ok",
     "timestamp": 1702763334110,
     "user": {
      "displayName": "STOCKSIEKER Sam",
      "userId": "17703404885148646474"
     },
     "user_tz": -60
    },
    "id": "4AXuEvy-s15z"
   },
   "outputs": [],
   "source": [
    "def stat_des(base,var):\n",
    "    if (base[var].dtypes == \"object\"):\n",
    "        freq = pd.value_counts(base[var],normalize=False)\n",
    "        print(freq.sort_index())\n",
    "    else:\n",
    "        print(base[var].describe(include='all'))\n",
    "        return \"Analyse de \" + var"
   ]
  },
  {
   "cell_type": "code",
   "execution_count": 56,
   "metadata": {
    "colab": {
     "base_uri": "https://localhost:8080/"
    },
    "executionInfo": {
     "elapsed": 5,
     "status": "ok",
     "timestamp": 1702763334110,
     "user": {
      "displayName": "STOCKSIEKER Sam",
      "userId": "17703404885148646474"
     },
     "user_tz": -60
    },
    "id": "C0_gP7GwpXeG",
    "outputId": "23bff37f-0c26-4c2c-e17d-229be280a4c0"
   },
   "outputs": [
    {
     "name": "stdout",
     "output_type": "stream",
     "text": [
      "count   1200.00\n",
      "mean       0.05\n",
      "std        0.98\n",
      "min       -2.90\n",
      "25%       -0.62\n",
      "50%        0.04\n",
      "75%        0.69\n",
      "max        3.85\n",
      "Name: X1, dtype: float64\n",
      "count   1200.00\n",
      "mean       9.95\n",
      "std        2.02\n",
      "min        3.96\n",
      "25%        8.53\n",
      "50%        9.95\n",
      "75%       11.25\n",
      "max       16.49\n",
      "Name: X2, dtype: float64\n",
      "count   1200.00\n",
      "mean       9.86\n",
      "std        2.01\n",
      "min        3.65\n",
      "25%        8.55\n",
      "50%        9.90\n",
      "75%       11.19\n",
      "max       16.23\n",
      "Name: X3, dtype: float64\n",
      "Q1\n",
      "Q1_30    333\n",
      "Q1_70    867\n",
      "Name: count, dtype: int64\n",
      "Q2\n",
      "Q2_02     22\n",
      "Q2_08     93\n",
      "Q2_10    114\n",
      "Q2_20    219\n",
      "Q2_29    348\n",
      "Q2_31    404\n",
      "Name: count, dtype: int64\n",
      "Q3\n",
      "Q3_03     39\n",
      "Q3_17    190\n",
      "Q3_20    232\n",
      "Q3_60    739\n",
      "Name: count, dtype: int64\n",
      "Q4\n",
      "Q4_05       66\n",
      "Q4_10_0    138\n",
      "Q4_10_1    109\n",
      "Q4_10_2    120\n",
      "Q4_10_3    106\n",
      "Q4_10_4    128\n",
      "Q4_15      163\n",
      "Q4_30      370\n",
      "Name: count, dtype: int64\n",
      "Q5\n",
      "Q5_01       14\n",
      "Q5_05_0     49\n",
      "Q5_05_1     72\n",
      "Q5_05_2     43\n",
      "Q5_05_3     59\n",
      "Q5_09      116\n",
      "Q5_10_0    145\n",
      "Q5_10_1    129\n",
      "Q5_25_0    277\n",
      "Q5_25_1    296\n",
      "Name: count, dtype: int64\n"
     ]
    }
   ],
   "source": [
    "for var in X_train.columns:\n",
    "  stat_des(X_train,var)"
   ]
  },
  {
   "cell_type": "code",
   "execution_count": 57,
   "metadata": {
    "colab": {
     "base_uri": "https://localhost:8080/"
    },
    "executionInfo": {
     "elapsed": 4,
     "status": "ok",
     "timestamp": 1702763334110,
     "user": {
      "displayName": "STOCKSIEKER Sam",
      "userId": "17703404885148646474"
     },
     "user_tz": -60
    },
    "id": "KwIM5w5X0joG",
    "outputId": "d71939dc-5142-4136-f6a4-b096e2323022"
   },
   "outputs": [
    {
     "name": "stdout",
     "output_type": "stream",
     "text": [
      "count   800.00\n",
      "mean      0.04\n",
      "std       1.00\n",
      "min      -3.24\n",
      "25%      -0.62\n",
      "50%       0.06\n",
      "75%       0.68\n",
      "max       3.19\n",
      "Name: X1, dtype: float64\n",
      "count   800.00\n",
      "mean     10.04\n",
      "std       2.00\n",
      "min       4.34\n",
      "25%       8.68\n",
      "50%      10.04\n",
      "75%      11.39\n",
      "max      17.85\n",
      "Name: X2, dtype: float64\n",
      "count   800.00\n",
      "mean      9.97\n",
      "std       1.98\n",
      "min       4.20\n",
      "25%       8.69\n",
      "50%       9.96\n",
      "75%      11.36\n",
      "max      15.87\n",
      "Name: X3, dtype: float64\n",
      "Q1\n",
      "Q1_30    218\n",
      "Q1_70    582\n",
      "Name: count, dtype: int64\n",
      "Q2\n",
      "Q2_02     20\n",
      "Q2_08     61\n",
      "Q2_10     71\n",
      "Q2_20    175\n",
      "Q2_29    258\n",
      "Q2_31    215\n",
      "Name: count, dtype: int64\n",
      "Q3\n",
      "Q3_03     34\n",
      "Q3_17    146\n",
      "Q3_20    138\n",
      "Q3_60    482\n",
      "Name: count, dtype: int64\n",
      "Q4\n",
      "Q4_05       36\n",
      "Q4_10_0     75\n",
      "Q4_10_1     91\n",
      "Q4_10_2     72\n",
      "Q4_10_3     75\n",
      "Q4_10_4     84\n",
      "Q4_15      124\n",
      "Q4_30      243\n",
      "Name: count, dtype: int64\n",
      "Q5\n",
      "Q5_01        7\n",
      "Q5_05_0     53\n",
      "Q5_05_1     38\n",
      "Q5_05_2     46\n",
      "Q5_05_3     41\n",
      "Q5_09       74\n",
      "Q5_10_0     80\n",
      "Q5_10_1     80\n",
      "Q5_25_0    192\n",
      "Q5_25_1    189\n",
      "Name: count, dtype: int64\n",
      "count   800.00\n",
      "mean      1.19\n",
      "std       0.65\n",
      "min      -0.66\n",
      "25%       0.74\n",
      "50%       1.15\n",
      "75%       1.61\n",
      "max       5.10\n",
      "Name: Y, dtype: float64\n"
     ]
    }
   ],
   "source": [
    "for var in X_test.columns:\n",
    "  stat_des(X_test,var)"
   ]
  },
  {
   "cell_type": "markdown",
   "metadata": {
    "id": "R4hNZjNxFLIn"
   },
   "source": [
    "## Paramètres AE"
   ]
  },
  {
   "cell_type": "code",
   "execution_count": 58,
   "metadata": {
    "executionInfo": {
     "elapsed": 3,
     "status": "ok",
     "timestamp": 1702763334110,
     "user": {
      "displayName": "STOCKSIEKER Sam",
      "userId": "17703404885148646474"
     },
     "user_tz": -60
    },
    "id": "07aM0S7n3xf4"
   },
   "outputs": [],
   "source": [
    "encDim_S = 10\n",
    "encDim_M = X_train.shape[1]\n",
    "encDim_L = 20\n",
    "\n",
    "hp_fae_w_corr = 1e-3\n",
    "hp_fae_sparsity_factor =1e-4\n",
    "hp_fae_sparsity_target=None\n",
    "hp_fae_sparsity_mode=None\n",
    "hp_fae_wNorm=False\n",
    "hp_fae_mirror=False\n",
    "hp_fae_encDim=encDim_S\n",
    "hp_fae_epochs=1000\n",
    "hp_fae_batch_size=128\n",
    "hp_fae_lr=10e-4\n",
    "#, BN_thr=0.05\n",
    "hp_fae_lossfunc=\"wMSE\"\n",
    "hp_fae_dimHL=1\n",
    "hp_fae_w_HGR=None\n",
    "hp_fae_eps_kde=10e-4\n",
    "hp_fae_w_Y = None"
   ]
  },
  {
   "cell_type": "markdown",
   "metadata": {
    "id": "JKGnlzREKuum"
   },
   "source": [
    "# ---------------------------- INDUSTRIALISATION"
   ]
  },
  {
   "cell_type": "markdown",
   "metadata": {
    "id": "GJIw0x_W8eaB"
   },
   "source": [
    "<!-- ## DEFINITION HGR -->"
   ]
  },
  {
   "cell_type": "markdown",
   "metadata": {
    "id": "5L6EtBr-suWz"
   },
   "source": [
    "## DEFINITION AE"
   ]
  },
  {
   "cell_type": "code",
   "execution_count": 59,
   "metadata": {
    "executionInfo": {
     "elapsed": 328,
     "status": "ok",
     "timestamp": 1702763334434,
     "user": {
      "displayName": "STOCKSIEKER Sam",
      "userId": "17703404885148646474"
     },
     "user_tz": -60
    },
    "id": "ohCCoea_swF3"
   },
   "outputs": [],
   "source": [
    "class FAE(nn.Module):\n",
    "    def __init__(self, p,enc_dim,sparsity_factor,sparsity_target, dimHL=4, wNorm=False,#,threshold=None\n",
    "                 mirror=False):\n",
    "        super().__init__()\n",
    "        torch.manual_seed(42)\n",
    "        self.sparsity_factor = sparsity_factor\n",
    "        self.sparsity_target = sparsity_target\n",
    "        # self.threshold = threshold\n",
    "        self.wNorm = wNorm\n",
    "        self.mirror = mirror\n",
    "        q = int(p/10)\n",
    "        if dimHL==1:\n",
    "            self.encoder = nn.Sequential(\n",
    "                nn.Linear(p, dimHL*p),\n",
    "                nn.Tanh(),\n",
    "                nn.Linear(dimHL*p, dimHL*p-1*q),\n",
    "                nn.Tanh(),\n",
    "                nn.Linear(dimHL*p-1*q, dimHL*p-2*q),\n",
    "                nn.Tanh(),\n",
    "                nn.Linear(dimHL*p-2*q, dimHL*p-3*q),\n",
    "                nn.Tanh(),\n",
    "                nn.Linear(dimHL*p-3*q, enc_dim)\n",
    "            )\n",
    "            self.decoder = nn.Sequential(\n",
    "                nn.Linear(enc_dim, dimHL*p-3*q),\n",
    "                nn.Tanh(),\n",
    "                nn.Linear(dimHL*p-3*q, dimHL*p-2*q),\n",
    "                nn.Tanh(),\n",
    "                nn.Linear(dimHL*p-2*q, dimHL*p-1*q),\n",
    "                nn.Tanh(),\n",
    "                nn.Linear(dimHL*p-1*q, dimHL*p),\n",
    "                nn.Tanh(),\n",
    "                nn.Linear(dimHL*p, p),\n",
    "            )\n",
    "        else:\n",
    "            self.encoder = nn.Sequential(\n",
    "                nn.Linear(p, dimHL*p),\n",
    "                nn.Tanh(),\n",
    "                nn.Linear(dimHL*p, (dimHL-1)*p),\n",
    "                nn.Tanh(),\n",
    "                nn.Linear((dimHL-1)*p, (dimHL-2)*p),\n",
    "                nn.Tanh(),\n",
    "                nn.Linear((dimHL-2)*p, (dimHL-3)*p),\n",
    "                nn.Tanh(),\n",
    "                nn.Linear((dimHL-3)*p, enc_dim)\n",
    "            )\n",
    "            self.decoder = nn.Sequential(\n",
    "                nn.Linear(enc_dim, (dimHL-3)*p),\n",
    "                nn.Tanh(),\n",
    "                nn.Linear((dimHL-3)*p, (dimHL-2)*p),\n",
    "                nn.Tanh(),\n",
    "                nn.Linear((dimHL-2)*p, (dimHL-1)*p),\n",
    "                nn.Tanh(),\n",
    "                nn.Linear((dimHL-1)*p, dimHL*p),\n",
    "                nn.Tanh(),\n",
    "                nn.Linear(dimHL*p, p),\n",
    "            )\n",
    "\n",
    "\n",
    "    def forward(self, x):\n",
    "        encoded = self.encoder(x)\n",
    "        decoded = self.decoder(encoded)\n",
    "        return decoded, encoded\n",
    "\n",
    "\n",
    "    def l1_regularization(self, inputs):\n",
    "        activations = self.encoder(inputs).abs()\n",
    "        sparsity_loss = torch.median(torch.median(activations, dim=0).values)\n",
    "        return self.sparsity_factor * sparsity_loss\n",
    "\n",
    "    def sparse_loss(self, inputs):\n",
    "        model_children = list(self.encoder)\n",
    "        sparsity_loss = 0\n",
    "        values = inputs\n",
    "        for i in range(len(model_children)):\n",
    "            if isinstance(model_children[i], nn.Linear):\n",
    "                values = torch.abs((model_children[i](values)))\n",
    "                sparsity_loss += torch.median(torch.median(values, dim=0).values)\n",
    "        return  self.sparsity_factor * sparsity_loss\n",
    "\n",
    "\n",
    "def correlation_loss(x):\n",
    "    correlation_matrix = torch.corrcoef(x.T)\n",
    "    loss = torch.sum(torch.abs(correlation_matrix)) - torch.trace(correlation_matrix)\n",
    "    return -loss\n",
    "\n",
    "def weighted_mse_loss(inputs, target, weight_obs,weight_var=None,weight_var_1=None,weight_var_0=None,weight_varobs=None):\n",
    "  if weight_var is None and weight_var_1 is None and weight_varobs is None:\n",
    "    return torch.sum(weight_obs * (inputs.cpu() - target.cpu()).T ** 2)/weight_obs.sum()\n",
    "  elif weight_var is None and weight_var_1 is not None:\n",
    "    weight_var_1 = torch.FloatTensor(weight_var_1)\n",
    "    weight_var_0 = torch.FloatTensor(weight_var_0)\n",
    "    return torch.sum(weight_obs * (((inputs.cpu() - target.cpu())*target.cpu()*weight_var_1) ** 2).T)/weight_obs.sum() + torch.sum(weight_obs * (((inputs.cpu() - target.cpu())*(1-target.cpu())*weight_var_0) ** 2).T)/weight_obs.sum()\n",
    "  elif weight_varobs is not None:\n",
    "    weight_varobs = torch.FloatTensor(weight_varobs)\n",
    "    # print(\"target : \\n\",target)\n",
    "    # print(\"weight_varobs.shape : \\n\",weight_varobs.shape)\n",
    "    # print(\"(inputs.cpu() - target.cpu()).shape : \\n\",(inputs.cpu() - target.cpu()).shape)\n",
    "    return torch.sum(weight_varobs * (inputs.cpu() - target.cpu())** 2)\n",
    "  else:\n",
    "    weight_var = torch.FloatTensor(weight_var)\n",
    "    return torch.sum((((inputs.cpu() - target.cpu())** 2)).sum(0) * weight_var)\n",
    "    # weight_var = torch.FloatTensor(weight_var)#/weight_var.sum())\n",
    "    # return torch.sum(((inputs.cpu() - target.cpu())*np.sqrt(weight_var)) ** 2)\n",
    "\n",
    "# def weighted_mse_loss(inputs, target, weight_obs,weight_var=None):\n",
    "#   if weight_var is None:\n",
    "#     return torch.sum(weight_obs * (inputs.cpu() - target.cpu()).T ** 2)/weight_obs.sum()\n",
    "#   else:https://colab.research.google.com/drive/1aCFcpnUp7Ozku4x9zOVEXfVKHkyOuBl7#scrollTo=PARAMETRES\n",
    "#     weight_var = torch.FloatTensor(weight_var)#/weight_var.sum())\n",
    "#     return torch.sum(weight_obs * ((inputs.cpu() - target.cpu())*weight_var).T ** 2)/weight_obs.sum()"
   ]
  },
  {
   "cell_type": "markdown",
   "metadata": {
    "id": "a0xo5OFDs5QJ"
   },
   "source": [
    "## ENTRAINEMENT AE"
   ]
  },
  {
   "cell_type": "code",
   "execution_count": 60,
   "metadata": {
    "executionInfo": {
     "elapsed": 7,
     "status": "ok",
     "timestamp": 1702763334435,
     "user": {
      "displayName": "STOCKSIEKER Sam",
      "userId": "17703404885148646474"
     },
     "user_tz": -60
    },
    "id": "U5Ij6TrXsv_N"
   },
   "outputs": [],
   "source": [
    "def train_FAE(inputs,Y,w_corr = hp_fae_w_corr,sparsity_factor = hp_fae_sparsity_factor,sparsity_target=hp_fae_sparsity_target,sparsity_mode=hp_fae_sparsity_mode,\n",
    "              wNorm=hp_fae_wNorm,mirror=hp_fae_mirror,encDim=hp_fae_encDim, epochs=hp_fae_epochs,batch_size=hp_fae_batch_size,lr=hp_fae_lr,\n",
    "              lossfunc=hp_fae_lossfunc,dimHL=hp_fae_dimHL,w_HGR=hp_fae_w_HGR,eps_kde=hp_fae_eps_kde,Lin_HGR=False,w_Y=hp_fae_w_Y,red_MSE='sum', mode_quanti=\"MinMax\", mode_quali=\"OHE\"):\n",
    "\n",
    "    if torch.cuda.is_available():\n",
    "        device = torch.device(\"cuda\")\n",
    "    else:\n",
    "        device = torch.device(\"cpu\")\n",
    "    print(device)\n",
    "\n",
    "    quanti = inputs.select_dtypes(include=['number'])\n",
    "    quali = inputs.select_dtypes(include=['object', 'category'])\n",
    "    inputs_ori = inputs.copy()\n",
    "    inputs = transformer(inputs, mode_quanti, mode_quali)\n",
    "    quanti_df = transformer(quanti, mode_quanti, mode_quali)\n",
    "    quali_df = transformer(quali, mode_quanti, mode_quali)\n",
    "    inputs_df = inputs.copy()\n",
    "    p=inputs.shape[1]\n",
    "    n=inputs.shape[0]\n",
    "\n",
    "    model = FAE(p,encDim,sparsity_factor,sparsity_target,wNorm=wNorm, mirror=mirror,dimHL=dimHL).to(device)\n",
    "\n",
    "    optimizer = torch.optim.AdamW(model.parameters(), lr=lr, betas=(0.9, 0.999), eps=1e-08, weight_decay=0.0001)\n",
    "    inputs=torch.FloatTensor(np.array(inputs)).to(device)\n",
    "    batch_no = len(inputs) // batch_size\n",
    "    res = []\n",
    "    losses = []\n",
    "    decod = []\n",
    "    print(\"lossfunc =\",lossfunc)\n",
    "    if lossfunc == \"L1loss\":\n",
    "      mseLoss = nn.L1Loss(reduction=red_MSE)\n",
    "    elif lossfunc == \"KLDivLoss\":\n",
    "      mseLoss = nn.KLDivLoss(reduction=red_MSE)\n",
    "      print(\"coucou !!!!\")\n",
    "    else:\n",
    "      mseLoss = nn.MSELoss(reduction=red_MSE)\n",
    "    if w_corr is not None:\n",
    "      losses_AE = []\n",
    "      losses_corr = []\n",
    "    train_loader = torch.utils.data.DataLoader(\n",
    "        inputs,batch_size=batch_size,shuffle=True,generator= torch.Generator().manual_seed(42))\n",
    "    if lossfunc==\"wMSE\" :\n",
    "      w = 1/np.sum(inputs_df)\n",
    "      w_res = []\n",
    "      for col in inputs_ori.columns:\n",
    "        temp = w[w.index[w.index.str.startswith(col)]]\n",
    "        temp = temp/sum(temp)\n",
    "        w_res = np.append(w_res,temp)\n",
    "      w = np.array(w_res)\n",
    "    if lossfunc==\"wMSE_obs\" :\n",
    "      # ind_quali = np.isin(inputs_df.columns,quali_df.columns)\n",
    "      w = 1/np.sum(quali_df)\n",
    "      w_obs = quali_df * w\n",
    "      w_res = []\n",
    "      for col in quali.columns:\n",
    "        col_temp = w_obs.columns[w_obs.columns.str.startswith(col)]\n",
    "        temp = w_obs[col_temp].sum(axis=1) / len(col_temp)\n",
    "        temp = np.repeat(temp[:, np.newaxis], len(col_temp), axis=1)\n",
    "        if len(w_res) == 0:\n",
    "          w_res = temp\n",
    "        else:\n",
    "          w_res = np.hstack((w_res, temp))\n",
    "      w_ql = pd.DataFrame(w_res)\n",
    "      w_ql.columns = quali_df.columns\n",
    "      w_ql.index = quali_df.index\n",
    "      w_qt = quanti_df*0+2/n\n",
    "      w = pd.concat([w_qt,w_ql],axis=1)\n",
    "      w=np.array(w[inputs_df.columns])\n",
    "    if lossfunc==\"wMSE_01\" :\n",
    "      w_1_ql = 1/(2*np.sum(quali_df))\n",
    "      w_0_ql = 1/(2*(n-np.sum(quali_df)))\n",
    "      w_1_qt = 0*np.sum(quanti_df)+2/n\n",
    "      w_0_qt = 0*np.sum(quanti_df)+2/n\n",
    "      w_0 = pd.concat([w_0_qt,w_0_ql])\n",
    "      w_1 = pd.concat([w_1_qt,w_1_ql])\n",
    "      w_0=w_0[inputs_df.columns]\n",
    "      w_1=w_1[inputs_df.columns]\n",
    "      for col in quali.columns:\n",
    "          num_modalities = quali[col].nunique()\n",
    "          w_1[w_1.index[w_1.index.str.startswith(col)]] = w_1[w_1.index[w_1.index.str.startswith(col)]]/num_modalities\n",
    "          w_0[w_0.index[w_0.index.str.startswith(col)]] = w_0[w_0.index[w_0.index.str.startswith(col)]]/num_modalities\n",
    "      w_1 = np.sqrt(w_1)\n",
    "      w_0 = np.sqrt(w_0)\n",
    "    for epoch in trange(epochs, desc=\"Proving P=NP\", unit=\"carrots\"):\n",
    "        # for X in train_loader:\n",
    "        for i in range(batch_no):\n",
    "            start = i * batch_size\n",
    "            end = start + batch_size\n",
    "            X = inputs[start:end]\n",
    "            # Output of Autoencoder\n",
    "            decoded, encoded = model(X.to(device))\n",
    "            if lossfunc==\"wMSE\" :\n",
    "                loss = weighted_mse_loss(decoded,X,torch.FloatTensor(np.repeat(1,len(X))),weight_var=w).to(device)\n",
    "            elif lossfunc==\"wMSE_obs\" :\n",
    "                loss = weighted_mse_loss(decoded,X,torch.FloatTensor(np.repeat(1,len(X))),weight_varobs=w[start:end]).to(device)\n",
    "            elif lossfunc==\"wMSE_01\" :\n",
    "                loss = weighted_mse_loss(decoded,X,torch.FloatTensor(np.repeat(1,len(X))),weight_var_1=w_1,weight_var_0=w_0).to(device)\n",
    "            else:\n",
    "                loss = mseLoss(decoded,X)\n",
    "            if sparsity_factor is not None:\n",
    "                if sparsity_mode == \"l1_regularization\":\n",
    "                    loss = loss + model.l1_regularization(X)\n",
    "                elif sparsity_mode == \"sparse_loss\":\n",
    "                    loss = loss + model.sparse_loss(X)\n",
    "                elif sparsity_mode == \"sparse_loss_l1reg\":\n",
    "                    loss = loss + model.sparse_loss(X) + model.l1_regularization(X)\n",
    "            if w_corr is not None:\n",
    "                loss_AE = loss\n",
    "                loss_corr =  w_corr * correlation_loss(encoded) / (p*(p-1)/2)\n",
    "                loss = loss + w_corr * correlation_loss(encoded) / (p*(p-1)/2)\n",
    "            optimizer.zero_grad()\n",
    "            loss.backward()\n",
    "            optimizer.step()\n",
    "\n",
    "            # Storing the losses in a list for plotting\n",
    "            losses.append(loss.cpu().detach().numpy()+0)\n",
    "            if w_corr is not None:\n",
    "              losses_AE.append(loss_AE.cpu().detach().numpy()+0)\n",
    "              losses_corr.append(loss_corr.cpu().detach().numpy()+0)\n",
    "            res.append((epoch, X, decoded))\n",
    "        if np.mod(epoch,np.round(epochs/10))==0 :\n",
    "          decoded, _ = model(inputs)\n",
    "          decod.append(decoded.cpu().detach().numpy())\n",
    "    decoded, encoded = model(inputs)\n",
    "    eps = inputs - decoded\n",
    "    if w_corr is not None:\n",
    "      return {'model':model,'losses':losses,'res':res,'decoded':decoded,'encoded':encoded,\n",
    "            'inputs':inputs,'losses_AE':losses_AE,'losses_corr':losses_corr,'epsilon':eps}\n",
    "    elif lossfunc==\"wMSE_obs\" :\n",
    "      return {'model':model,'losses':losses,'res':res,'decoded':decoded,'encoded':encoded,\n",
    "              'inputs':inputs,'epsilon':eps, 'decod':decod, 'weight_varobs':w}\n",
    "    else:\n",
    "      return {'model':model,'losses':losses,'res':res,'decoded':decoded,'encoded':encoded,\n",
    "              'inputs':inputs,'epsilon':eps, 'decod':decod}\n"
   ]
  },
  {
   "cell_type": "markdown",
   "metadata": {
    "id": "db4RDjjGADUA"
   },
   "source": [
    "------------------------------------"
   ]
  },
  {
   "cell_type": "markdown",
   "metadata": {
    "id": "ySVp_767AUx2"
   },
   "source": [
    "------------------------------"
   ]
  },
  {
   "cell_type": "markdown",
   "metadata": {
    "id": "hIqekueKwKYu"
   },
   "source": [
    "# MODEL TRAINING"
   ]
  },
  {
   "cell_type": "code",
   "execution_count": 61,
   "metadata": {
    "executionInfo": {
     "elapsed": 7,
     "status": "ok",
     "timestamp": 1702763334435,
     "user": {
      "displayName": "STOCKSIEKER Sam",
      "userId": "17703404885148646474"
     },
     "user_tz": -60
    },
    "id": "HmWYS8AcgYyn"
   },
   "outputs": [],
   "source": [
    "load_models = 0"
   ]
  },
  {
   "cell_type": "markdown",
   "metadata": {
    "id": "JOTZ8F6qPmZF"
   },
   "source": [
    "## Vanilla AE"
   ]
  },
  {
   "cell_type": "markdown",
   "metadata": {
    "id": "PzGZp3hOPmZG"
   },
   "source": [
    "### MSE"
   ]
  },
  {
   "cell_type": "code",
   "execution_count": 62,
   "metadata": {
    "executionInfo": {
     "elapsed": 7,
     "status": "ok",
     "timestamp": 1702763334435,
     "user": {
      "displayName": "STOCKSIEKER Sam",
      "userId": "17703404885148646474"
     },
     "user_tz": -60
    },
    "id": "yanhi_LZUBGf"
   },
   "outputs": [],
   "source": [
    "# mod_quali = 'OHE'\n",
    "# train = transformer(X_train, mode_quali=mod_quali)\n",
    "# train_t = np.array(train)\n",
    "# VC(train)\n",
    "# np.sum(train)"
   ]
  },
  {
   "cell_type": "code",
   "execution_count": 63,
   "metadata": {
    "colab": {
     "base_uri": "https://localhost:8080/"
    },
    "executionInfo": {
     "elapsed": 26173,
     "status": "ok",
     "timestamp": 1702763360602,
     "user": {
      "displayName": "STOCKSIEKER Sam",
      "userId": "17703404885148646474"
     },
     "user_tz": -60
    },
    "id": "qIN4Tz_GPmZG",
    "outputId": "899fdccc-e7b2-4470-aab9-2be08af86aa3"
   },
   "outputs": [
    {
     "name": "stdout",
     "output_type": "stream",
     "text": [
      "cuda\n"
     ]
    },
    {
     "ename": "TypeError",
     "evalue": "can't convert np.ndarray of type numpy.object_. The only supported types are: float64, float32, float16, complex64, complex128, int64, int32, int16, int8, uint8, and bool.",
     "output_type": "error",
     "traceback": [
      "\u001b[1;31m---------------------------------------------------------------------------\u001b[0m",
      "\u001b[1;31mTypeError\u001b[0m                                 Traceback (most recent call last)",
      "Cell \u001b[1;32mIn[63], line 2\u001b[0m\n\u001b[0;32m      1\u001b[0m \u001b[38;5;28;01mif\u001b[39;00m load_models \u001b[38;5;241m==\u001b[39m \u001b[38;5;241m0\u001b[39m:\n\u001b[1;32m----> 2\u001b[0m     resAE \u001b[38;5;241m=\u001b[39m train_FAE(X_train, Y\u001b[38;5;241m=\u001b[39mcolY, lossfunc\u001b[38;5;241m=\u001b[39m\u001b[38;5;124m\"\u001b[39m\u001b[38;5;124mMSE\u001b[39m\u001b[38;5;124m\"\u001b[39m,w_corr\u001b[38;5;241m=\u001b[39m\u001b[38;5;28;01mNone\u001b[39;00m)\n\u001b[0;32m      3\u001b[0m     res_vAE_OHE \u001b[38;5;241m=\u001b[39m resAE\n",
      "Cell \u001b[1;32mIn[60], line 24\u001b[0m, in \u001b[0;36mtrain_FAE\u001b[1;34m(inputs, Y, w_corr, sparsity_factor, sparsity_target, sparsity_mode, wNorm, mirror, encDim, epochs, batch_size, lr, lossfunc, dimHL, w_HGR, eps_kde, Lin_HGR, w_Y, red_MSE, mode_quanti, mode_quali)\u001b[0m\n\u001b[0;32m     21\u001b[0m model \u001b[38;5;241m=\u001b[39m FAE(p,encDim,sparsity_factor,sparsity_target,wNorm\u001b[38;5;241m=\u001b[39mwNorm, mirror\u001b[38;5;241m=\u001b[39mmirror,dimHL\u001b[38;5;241m=\u001b[39mdimHL)\u001b[38;5;241m.\u001b[39mto(device)\n\u001b[0;32m     23\u001b[0m optimizer \u001b[38;5;241m=\u001b[39m torch\u001b[38;5;241m.\u001b[39moptim\u001b[38;5;241m.\u001b[39mAdamW(model\u001b[38;5;241m.\u001b[39mparameters(), lr\u001b[38;5;241m=\u001b[39mlr, betas\u001b[38;5;241m=\u001b[39m(\u001b[38;5;241m0.9\u001b[39m, \u001b[38;5;241m0.999\u001b[39m), eps\u001b[38;5;241m=\u001b[39m\u001b[38;5;241m1e-08\u001b[39m, weight_decay\u001b[38;5;241m=\u001b[39m\u001b[38;5;241m0.0001\u001b[39m)\n\u001b[1;32m---> 24\u001b[0m inputs\u001b[38;5;241m=\u001b[39mtorch\u001b[38;5;241m.\u001b[39mFloatTensor(np\u001b[38;5;241m.\u001b[39marray(inputs))\u001b[38;5;241m.\u001b[39mto(device)\n\u001b[0;32m     25\u001b[0m batch_no \u001b[38;5;241m=\u001b[39m \u001b[38;5;28mlen\u001b[39m(inputs) \u001b[38;5;241m/\u001b[39m\u001b[38;5;241m/\u001b[39m batch_size\n\u001b[0;32m     26\u001b[0m res \u001b[38;5;241m=\u001b[39m []\n",
      "\u001b[1;31mTypeError\u001b[0m: can't convert np.ndarray of type numpy.object_. The only supported types are: float64, float32, float16, complex64, complex128, int64, int32, int16, int8, uint8, and bool."
     ]
    }
   ],
   "source": [
    "if load_models == 0:\n",
    "    resAE = train_FAE(X_train, Y=colY, lossfunc=\"MSE\",w_corr=None)\n",
    "    res_vAE_OHE = resAE\n",
    "    # mod_vAE_OHE = resAE['model']\n",
    "# else:\n",
    "  # !gdown https://drive.google.com/uc?id={link_mod_sAE_MSE}\n",
    "  # mod_sAE_MSE =   FAE(p=X_train.shape[1],enc_dim=hp_fae_encDim, sparsity_factor = hp_fae_sparsity_factor, sparsity_target=hp_fae_sparsity_target,dimHL=hp_fae_dimHL, wNorm=hp_fae_wNorm)\n",
    "  # mod_sAE_MSE.load_state_dict(torch.load('mod_sAE_MSE.pt'))"
   ]
  },
  {
   "cell_type": "code",
   "execution_count": null,
   "metadata": {
    "colab": {
     "base_uri": "https://localhost:8080/",
     "height": 1000
    },
    "executionInfo": {
     "elapsed": 364,
     "status": "ok",
     "timestamp": 1702763360956,
     "user": {
      "displayName": "STOCKSIEKER Sam",
      "userId": "17703404885148646474"
     },
     "user_tz": -60
    },
    "id": "2E-LkzETx0D8",
    "outputId": "4ee06394-7081-4e66-f93e-09058696b8fd"
   },
   "outputs": [],
   "source": [
    "mod_quali = 'OHE'\n",
    "decod = resAE['decod']\n",
    "train = transformer(X_train, mode_quali=mod_quali)\n",
    "for k in range(len(decod)):\n",
    "  X_hat = decod[k]\n",
    "  df_X_hat = pd.DataFrame(X_hat)\n",
    "  df_X_hat.columns = train.columns\n",
    "  X_hat_OHE = inv_transformer(X_train,df_X_hat,mode_quanti=None,mode_quali=mod_quali)\n",
    "  # VC(X_hat_OHE)\n",
    "  train_t_OHE = inv_transformer(X_train,train,mode_quanti=None,mode_quali=mod_quali)\n",
    "  if k == 0:\n",
    "    res = pd.DataFrame(np.sum((X_hat_OHE-train_t_OHE)**2))\n",
    "  else:\n",
    "    res = pd.concat([res,pd.DataFrame(np.sum((X_hat_OHE-train_t_OHE)**2))],axis=1)\n",
    "res = res.sort_index(ascending=False)\n",
    "res"
   ]
  },
  {
   "cell_type": "code",
   "execution_count": null,
   "metadata": {
    "colab": {
     "base_uri": "https://localhost:8080/",
     "height": 842
    },
    "executionInfo": {
     "elapsed": 2703,
     "status": "ok",
     "timestamp": 1702763363656,
     "user": {
      "displayName": "STOCKSIEKER Sam",
      "userId": "17703404885148646474"
     },
     "user_tz": -60
    },
    "id": "Q71R8sno0IWc",
    "outputId": "2c2da4ac-e78d-4dfc-cbd5-5349ecc820b9"
   },
   "outputs": [],
   "source": [
    "res_plot = res.T.copy()\n",
    "res_plot.reset_index(inplace=True)\n",
    "res_plot.drop('index', axis=1, inplace=True)\n",
    "plt.figure(figsize=(20, 10))\n",
    "sns.lineplot(res_plot)"
   ]
  },
  {
   "cell_type": "code",
   "execution_count": null,
   "metadata": {
    "colab": {
     "base_uri": "https://localhost:8080/",
     "height": 858
    },
    "executionInfo": {
     "elapsed": 722,
     "status": "ok",
     "timestamp": 1702763364375,
     "user": {
      "displayName": "STOCKSIEKER Sam",
      "userId": "17703404885148646474"
     },
     "user_tz": -60
    },
    "id": "eO8qvfDaOqhv",
    "outputId": "1e9c1cd5-f3cd-46e9-fc57-a3cfaee61a2f"
   },
   "outputs": [],
   "source": [
    "plt.figure(figsize=(20, 10))\n",
    "sns.heatmap(res.div(res.max(axis=1), axis=0),cmap=\"RdYlGn_r\", annot_kws={\"size\": 10})"
   ]
  },
  {
   "cell_type": "code",
   "execution_count": null,
   "metadata": {
    "colab": {
     "base_uri": "https://localhost:8080/",
     "height": 317
    },
    "executionInfo": {
     "elapsed": 516,
     "status": "ok",
     "timestamp": 1702763364885,
     "user": {
      "displayName": "STOCKSIEKER Sam",
      "userId": "17703404885148646474"
     },
     "user_tz": -60
    },
    "id": "SmNXKYMqUWD2",
    "outputId": "4a84126e-2ffb-403c-d463-c9b7ae47cfc9"
   },
   "outputs": [],
   "source": [
    "sns.heatmap(pd.DataFrame(np.sum(train_t_OHE)),cmap=\"RdYlGn\")"
   ]
  },
  {
   "cell_type": "code",
   "execution_count": null,
   "metadata": {
    "colab": {
     "base_uri": "https://localhost:8080/",
     "height": 944
    },
    "executionInfo": {
     "elapsed": 15,
     "status": "ok",
     "timestamp": 1702763364886,
     "user": {
      "displayName": "STOCKSIEKER Sam",
      "userId": "17703404885148646474"
     },
     "user_tz": -60
    },
    "id": "ZaX6oYLnPmZG",
    "outputId": "559a8bc0-77b5-4ff3-b550-9978c5032abe"
   },
   "outputs": [],
   "source": [
    "if load_models == 0:\n",
    "  losses=resAE['losses']\n",
    "  plt.clf()\n",
    "  plt.xlabel('Iterations')\n",
    "  plt.ylabel('Loss')\n",
    "  plt.plot(losses)\n",
    "  plt.show()\n",
    "  X_hat = resAE['decoded'].cpu().detach().numpy()\n",
    "  df_X_hat = pd.DataFrame(X_hat)\n",
    "  df_X_hat.columns = train.columns\n",
    "  X_hat_OHE = inv_transformer(X_train,df_X_hat,mode_quanti=None,mode_quali=mod_quali)\n",
    "  train_t_OHE = inv_transformer(X_train,train,mode_quanti=None,mode_quali=mod_quali)\n",
    "  print(\"losses_min:\",np.min(losses))\n",
    "  print(\"MSE:\")\n",
    "  print(np.sum((X_hat_OHE-train_t_OHE)**2))"
   ]
  },
  {
   "cell_type": "code",
   "execution_count": null,
   "metadata": {
    "colab": {
     "base_uri": "https://localhost:8080/",
     "height": 1000
    },
    "executionInfo": {
     "elapsed": 15,
     "status": "ok",
     "timestamp": 1702763364887,
     "user": {
      "displayName": "STOCKSIEKER Sam",
      "userId": "17703404885148646474"
     },
     "user_tz": -60
    },
    "id": "_fSili5_2B3Q",
    "outputId": "f46cde80-f5a9-44f9-a9be-874181961203"
   },
   "outputs": [],
   "source": [
    "verif_OHE = pd.DataFrame(np.sum((X_hat_OHE-train_t_OHE)**2)) ; verif_OHE"
   ]
  },
  {
   "cell_type": "code",
   "execution_count": null,
   "metadata": {
    "colab": {
     "base_uri": "https://localhost:8080/",
     "height": 1000
    },
    "executionInfo": {
     "elapsed": 14,
     "status": "ok",
     "timestamp": 1702763364887,
     "user": {
      "displayName": "STOCKSIEKER Sam",
      "userId": "17703404885148646474"
     },
     "user_tz": -60
    },
    "id": "eFaCGyit3qnH",
    "outputId": "54ba9829-c9bd-480e-b6bf-1b1202552d7d"
   },
   "outputs": [],
   "source": [
    "  pd.DataFrame(np.sum(train_t_OHE))"
   ]
  },
  {
   "cell_type": "code",
   "execution_count": null,
   "metadata": {
    "colab": {
     "base_uri": "https://localhost:8080/",
     "height": 1000
    },
    "executionInfo": {
     "elapsed": 2135,
     "status": "ok",
     "timestamp": 1702763367009,
     "user": {
      "displayName": "STOCKSIEKER Sam",
      "userId": "17703404885148646474"
     },
     "user_tz": -60
    },
    "id": "S_UnGdPsPmZG",
    "outputId": "036dee2b-4010-4fc0-eb6d-fb3ae6a8183b"
   },
   "outputs": [],
   "source": [
    "if load_models == 0:\n",
    "  for k in range(X_train.shape[1]):\n",
    "      plt.clf()\n",
    "      plt.scatter(X_hat[:,k],np.array(train)[:,k])\n",
    "      plt.show()"
   ]
  },
  {
   "cell_type": "markdown",
   "metadata": {
    "id": "R-u5CV-kfcMi"
   },
   "source": [
    "### L1Loss"
   ]
  },
  {
   "cell_type": "code",
   "execution_count": null,
   "metadata": {
    "executionInfo": {
     "elapsed": 5,
     "status": "ok",
     "timestamp": 1702763367009,
     "user": {
      "displayName": "STOCKSIEKER Sam",
      "userId": "17703404885148646474"
     },
     "user_tz": -60
    },
    "id": "-16TxWxZfcMn"
   },
   "outputs": [],
   "source": [
    "# mod_quali = 'OHE'\n",
    "# train = transformer(X_train, mode_quali=mod_quali)\n",
    "# train_t = np.array(train)\n",
    "# VC(train)\n",
    "# np.sum(train)"
   ]
  },
  {
   "cell_type": "code",
   "execution_count": null,
   "metadata": {
    "colab": {
     "base_uri": "https://localhost:8080/"
    },
    "executionInfo": {
     "elapsed": 27032,
     "status": "ok",
     "timestamp": 1702763394037,
     "user": {
      "displayName": "STOCKSIEKER Sam",
      "userId": "17703404885148646474"
     },
     "user_tz": -60
    },
    "id": "RFRiZVy8fcMo",
    "outputId": "afe3fe8a-c69a-491d-d0b9-34034d63dcaf"
   },
   "outputs": [],
   "source": [
    "if load_models == 0:\n",
    "    resAE = train_FAE(X_train, Y=colY, lossfunc=\"L1loss\",w_corr=None)\n",
    "    res_vAE_L1 = resAE\n",
    "    # mod_vAE_OHE = resAE['model']\n",
    "# else:\n",
    "  # !gdown https://drive.google.com/uc?id={link_mod_sAE_MSE}\n",
    "  # mod_sAE_MSE =   FAE(p=X_train.shape[1],enc_dim=hp_fae_encDim, sparsity_factor = hp_fae_sparsity_factor, sparsity_target=hp_fae_sparsity_target,dimHL=hp_fae_dimHL, wNorm=hp_fae_wNorm)\n",
    "  # mod_sAE_MSE.load_state_dict(torch.load('mod_sAE_MSE.pt'))"
   ]
  },
  {
   "cell_type": "code",
   "execution_count": null,
   "metadata": {
    "colab": {
     "base_uri": "https://localhost:8080/",
     "height": 1000
    },
    "executionInfo": {
     "elapsed": 985,
     "status": "ok",
     "timestamp": 1702763394792,
     "user": {
      "displayName": "STOCKSIEKER Sam",
      "userId": "17703404885148646474"
     },
     "user_tz": -60
    },
    "id": "7fcj8o4YfcMo",
    "outputId": "0c0e750a-030d-4841-f343-da81f06f360c"
   },
   "outputs": [],
   "source": [
    "mod_quali = 'OHE'\n",
    "decod = resAE['decod']\n",
    "train = transformer(X_train, mode_quali=mod_quali)\n",
    "for k in range(len(decod)):\n",
    "  X_hat = decod[k]\n",
    "  df_X_hat = pd.DataFrame(X_hat)\n",
    "  df_X_hat.columns = train.columns\n",
    "  X_hat_L1 = inv_transformer(X_train,df_X_hat,mode_quanti=None,mode_quali=mod_quali)\n",
    "  # VC(X_hat_OHE)\n",
    "  train_t_L1 = inv_transformer(X_train,train,mode_quanti=None,mode_quali=mod_quali)\n",
    "  if k == 0:\n",
    "    res = pd.DataFrame(np.sum((X_hat_L1-train_t_L1)**2))\n",
    "  else:\n",
    "    res = pd.concat([res,pd.DataFrame(np.sum((X_hat_L1-train_t_L1)**2))],axis=1)\n",
    "res = res.sort_index(ascending=False)\n",
    "res"
   ]
  },
  {
   "cell_type": "code",
   "execution_count": null,
   "metadata": {
    "colab": {
     "base_uri": "https://localhost:8080/",
     "height": 842
    },
    "executionInfo": {
     "elapsed": 2163,
     "status": "ok",
     "timestamp": 1702763396953,
     "user": {
      "displayName": "STOCKSIEKER Sam",
      "userId": "17703404885148646474"
     },
     "user_tz": -60
    },
    "id": "V0QajQ0ffcMo",
    "outputId": "40786ce8-faed-4f2b-ca3d-a9955dcd7fa8"
   },
   "outputs": [],
   "source": [
    "res_plot = res.T.copy()\n",
    "res_plot.reset_index(inplace=True)\n",
    "res_plot.drop('index', axis=1, inplace=True)\n",
    "plt.figure(figsize=(20, 10))\n",
    "sns.lineplot(res_plot)"
   ]
  },
  {
   "cell_type": "code",
   "execution_count": null,
   "metadata": {
    "colab": {
     "base_uri": "https://localhost:8080/",
     "height": 858
    },
    "executionInfo": {
     "elapsed": 12,
     "status": "ok",
     "timestamp": 1702763396954,
     "user": {
      "displayName": "STOCKSIEKER Sam",
      "userId": "17703404885148646474"
     },
     "user_tz": -60
    },
    "id": "PzhYe7_QfcMo",
    "outputId": "7648a127-0cab-47ea-a1af-695dc1fd42e3"
   },
   "outputs": [],
   "source": [
    "plt.figure(figsize=(20, 10))\n",
    "sns.heatmap(res.div(res.max(axis=1), axis=0),cmap=\"RdYlGn_r\", annot_kws={\"size\": 10})"
   ]
  },
  {
   "cell_type": "code",
   "execution_count": null,
   "metadata": {
    "colab": {
     "base_uri": "https://localhost:8080/",
     "height": 317
    },
    "executionInfo": {
     "elapsed": 493,
     "status": "ok",
     "timestamp": 1702763397441,
     "user": {
      "displayName": "STOCKSIEKER Sam",
      "userId": "17703404885148646474"
     },
     "user_tz": -60
    },
    "id": "OU5BqArwfcMo",
    "outputId": "4545530a-96f6-4494-a8d5-1841dcf579f2"
   },
   "outputs": [],
   "source": [
    "sns.heatmap(pd.DataFrame(np.sum(train_t_OHE)),cmap=\"RdYlGn\")"
   ]
  },
  {
   "cell_type": "code",
   "execution_count": null,
   "metadata": {
    "colab": {
     "base_uri": "https://localhost:8080/",
     "height": 944
    },
    "executionInfo": {
     "elapsed": 19,
     "status": "ok",
     "timestamp": 1702763397442,
     "user": {
      "displayName": "STOCKSIEKER Sam",
      "userId": "17703404885148646474"
     },
     "user_tz": -60
    },
    "id": "_KIAqqytfcMp",
    "outputId": "b848b61b-a59d-49a0-e8f9-3438264e402c"
   },
   "outputs": [],
   "source": [
    "if load_models == 0:\n",
    "  losses=resAE['losses']\n",
    "  plt.clf()\n",
    "  plt.xlabel('Iterations')\n",
    "  plt.ylabel('Loss')\n",
    "  plt.plot(losses)\n",
    "  plt.show()\n",
    "  X_hat = resAE['decoded'].cpu().detach().numpy()\n",
    "  df_X_hat = pd.DataFrame(X_hat)\n",
    "  df_X_hat.columns = train.columns\n",
    "  X_hat_L1 = inv_transformer(X_train,df_X_hat,mode_quanti=None,mode_quali=mod_quali)\n",
    "  train_t_L1 = inv_transformer(X_train,train,mode_quanti=None,mode_quali=mod_quali)\n",
    "  print(\"losses_min:\",np.min(losses))\n",
    "  print(\"MSE:\")\n",
    "  print(np.sum((X_hat_L1-train_t_L1)**2))"
   ]
  },
  {
   "cell_type": "code",
   "execution_count": null,
   "metadata": {
    "colab": {
     "base_uri": "https://localhost:8080/",
     "height": 1000
    },
    "executionInfo": {
     "elapsed": 18,
     "status": "ok",
     "timestamp": 1702763397442,
     "user": {
      "displayName": "STOCKSIEKER Sam",
      "userId": "17703404885148646474"
     },
     "user_tz": -60
    },
    "id": "dhJmyJ2-fcMp",
    "outputId": "2d74afcd-b12a-4a82-d989-facb5fffe12e"
   },
   "outputs": [],
   "source": [
    "verif_L1 = pd.DataFrame(np.sum((X_hat_L1-train_t_L1)**2)) ; verif_L1"
   ]
  },
  {
   "cell_type": "code",
   "execution_count": null,
   "metadata": {
    "colab": {
     "base_uri": "https://localhost:8080/",
     "height": 1000
    },
    "executionInfo": {
     "elapsed": 16,
     "status": "ok",
     "timestamp": 1702763397443,
     "user": {
      "displayName": "STOCKSIEKER Sam",
      "userId": "17703404885148646474"
     },
     "user_tz": -60
    },
    "id": "-clig2u9fcMp",
    "outputId": "747a794b-bf24-4e60-e665-355c67066a85"
   },
   "outputs": [],
   "source": [
    "  pd.DataFrame(np.sum(train_t_L1))"
   ]
  },
  {
   "cell_type": "code",
   "execution_count": null,
   "metadata": {
    "colab": {
     "base_uri": "https://localhost:8080/",
     "height": 1000
    },
    "executionInfo": {
     "elapsed": 1254,
     "status": "ok",
     "timestamp": 1702763399089,
     "user": {
      "displayName": "STOCKSIEKER Sam",
      "userId": "17703404885148646474"
     },
     "user_tz": -60
    },
    "id": "-d8QdqEkfcMp",
    "outputId": "20358639-87f2-4328-e83b-d3b4614a5730"
   },
   "outputs": [],
   "source": [
    "if load_models == 0:\n",
    "  for k in range(X_train.shape[1]):\n",
    "      plt.clf()\n",
    "      plt.scatter(X_hat[:,k],np.array(train)[:,k])\n",
    "      plt.show()"
   ]
  },
  {
   "cell_type": "markdown",
   "metadata": {
    "id": "eKRWmsmBhloM"
   },
   "source": [
    "### KLDivLoss"
   ]
  },
  {
   "cell_type": "code",
   "execution_count": null,
   "metadata": {
    "executionInfo": {
     "elapsed": 3,
     "status": "ok",
     "timestamp": 1702763399089,
     "user": {
      "displayName": "STOCKSIEKER Sam",
      "userId": "17703404885148646474"
     },
     "user_tz": -60
    },
    "id": "t-kGLWi6hloT"
   },
   "outputs": [],
   "source": [
    "# mod_quali = 'OHE'\n",
    "# train = transformer(X_train, mode_quali=mod_quali)\n",
    "# train_t = np.array(train)\n",
    "# VC(train)\n",
    "# np.sum(train)"
   ]
  },
  {
   "cell_type": "code",
   "execution_count": null,
   "metadata": {
    "colab": {
     "base_uri": "https://localhost:8080/"
    },
    "executionInfo": {
     "elapsed": 26706,
     "status": "ok",
     "timestamp": 1702763425793,
     "user": {
      "displayName": "STOCKSIEKER Sam",
      "userId": "17703404885148646474"
     },
     "user_tz": -60
    },
    "id": "s67UispchloT",
    "outputId": "739c38ca-9123-49f6-85d8-ac9122dc0883"
   },
   "outputs": [],
   "source": [
    "if load_models == 0:\n",
    "    resAE = train_FAE(X_train, Y=colY, lossfunc=\"KLDivLoss\",w_corr=None)\n",
    "    res_vAE_KL = resAE\n",
    "    # mod_vAE_OHE = resAE['model']\n",
    "# else:\n",
    "  # !gdown https://drive.google.com/uc?id={link_mod_sAE_MSE}\n",
    "  # mod_sAE_MSE =   FAE(p=X_train.shape[1],enc_dim=hp_fae_encDim, sparsity_factor = hp_fae_sparsity_factor, sparsity_target=hp_fae_sparsity_target,dimHL=hp_fae_dimHL, wNorm=hp_fae_wNorm)\n",
    "  # mod_sAE_MSE.load_state_dict(torch.load('mod_sAE_MSE.pt'))"
   ]
  },
  {
   "cell_type": "code",
   "execution_count": null,
   "metadata": {
    "colab": {
     "base_uri": "https://localhost:8080/",
     "height": 1000
    },
    "executionInfo": {
     "elapsed": 371,
     "status": "ok",
     "timestamp": 1702763426154,
     "user": {
      "displayName": "STOCKSIEKER Sam",
      "userId": "17703404885148646474"
     },
     "user_tz": -60
    },
    "id": "fksB6GIEhloU",
    "outputId": "7ae56474-6d76-46df-9dc1-54a2ce9c2faf"
   },
   "outputs": [],
   "source": [
    "mod_quali = 'OHE'\n",
    "decod = resAE['decod']\n",
    "train = transformer(X_train, mode_quali=mod_quali)\n",
    "for k in range(len(decod)):\n",
    "  X_hat = decod[k]\n",
    "  df_X_hat = pd.DataFrame(X_hat)\n",
    "  df_X_hat.columns = train.columns\n",
    "  X_hat_KL = inv_transformer(X_train,df_X_hat,mode_quanti=None,mode_quali=mod_quali)\n",
    "  # VC(X_hat_OHE)\n",
    "  train_t_KL = inv_transformer(X_train,train,mode_quanti=None,mode_quali=mod_quali)\n",
    "  if k == 0:\n",
    "    res = pd.DataFrame(np.sum((X_hat_KL-train_t_KL)**2))\n",
    "  else:\n",
    "    res = pd.concat([res,pd.DataFrame(np.sum((X_hat_KL-train_t_KL)**2))],axis=1)\n",
    "res = res.sort_index(ascending=False)\n",
    "res"
   ]
  },
  {
   "cell_type": "code",
   "execution_count": null,
   "metadata": {
    "colab": {
     "base_uri": "https://localhost:8080/",
     "height": 852
    },
    "executionInfo": {
     "elapsed": 3028,
     "status": "ok",
     "timestamp": 1702763429178,
     "user": {
      "displayName": "STOCKSIEKER Sam",
      "userId": "17703404885148646474"
     },
     "user_tz": -60
    },
    "id": "4oEEMkZYhloU",
    "outputId": "e0e7f7ab-5d4b-474f-f96d-812a76b4e14e"
   },
   "outputs": [],
   "source": [
    "res_plot = res.T.copy()\n",
    "res_plot.reset_index(inplace=True)\n",
    "res_plot.drop('index', axis=1, inplace=True)\n",
    "plt.figure(figsize=(20, 10))\n",
    "sns.lineplot(res_plot)"
   ]
  },
  {
   "cell_type": "code",
   "execution_count": null,
   "metadata": {
    "colab": {
     "base_uri": "https://localhost:8080/",
     "height": 858
    },
    "executionInfo": {
     "elapsed": 657,
     "status": "ok",
     "timestamp": 1702763429831,
     "user": {
      "displayName": "STOCKSIEKER Sam",
      "userId": "17703404885148646474"
     },
     "user_tz": -60
    },
    "id": "Lhk3zumkhloU",
    "outputId": "3b71300f-f9d6-4a5e-f01f-09a60cea3e6e"
   },
   "outputs": [],
   "source": [
    "plt.figure(figsize=(20, 10))\n",
    "sns.heatmap(res.div(res.max(axis=1), axis=0),cmap=\"RdYlGn_r\", annot_kws={\"size\": 10})"
   ]
  },
  {
   "cell_type": "code",
   "execution_count": null,
   "metadata": {
    "colab": {
     "base_uri": "https://localhost:8080/",
     "height": 317
    },
    "executionInfo": {
     "elapsed": 10,
     "status": "ok",
     "timestamp": 1702763429832,
     "user": {
      "displayName": "STOCKSIEKER Sam",
      "userId": "17703404885148646474"
     },
     "user_tz": -60
    },
    "id": "chn9Hi9OhloU",
    "outputId": "9d26b965-c694-4d25-c875-ac3c416c4109"
   },
   "outputs": [],
   "source": [
    "sns.heatmap(pd.DataFrame(np.sum(train_t_KL)),cmap=\"RdYlGn\")"
   ]
  },
  {
   "cell_type": "code",
   "execution_count": null,
   "metadata": {
    "colab": {
     "base_uri": "https://localhost:8080/",
     "height": 944
    },
    "executionInfo": {
     "elapsed": 427,
     "status": "ok",
     "timestamp": 1702763430252,
     "user": {
      "displayName": "STOCKSIEKER Sam",
      "userId": "17703404885148646474"
     },
     "user_tz": -60
    },
    "id": "UTXrc3zihloU",
    "outputId": "6222ead1-21a3-455d-a51b-83c3ef9a1e2b"
   },
   "outputs": [],
   "source": [
    "if load_models == 0:\n",
    "  losses=resAE['losses']\n",
    "  plt.clf()\n",
    "  plt.xlabel('Iterations')\n",
    "  plt.ylabel('Loss')\n",
    "  plt.plot(losses)\n",
    "  plt.show()\n",
    "  X_hat = resAE['decoded'].cpu().detach().numpy()\n",
    "  df_X_hat = pd.DataFrame(X_hat)\n",
    "  df_X_hat.columns = train.columns\n",
    "  X_hat_KL = inv_transformer(X_train,df_X_hat,mode_quanti=None,mode_quali=mod_quali)\n",
    "  train_t_KL = inv_transformer(X_train,train,mode_quanti=None,mode_quali=mod_quali)\n",
    "  print(\"losses_min:\",np.min(losses))\n",
    "  print(\"MSE:\")\n",
    "  print(np.sum((X_hat_KL-train_t_KL)**2))"
   ]
  },
  {
   "cell_type": "code",
   "execution_count": null,
   "metadata": {
    "colab": {
     "base_uri": "https://localhost:8080/",
     "height": 1000
    },
    "executionInfo": {
     "elapsed": 14,
     "status": "ok",
     "timestamp": 1702763430252,
     "user": {
      "displayName": "STOCKSIEKER Sam",
      "userId": "17703404885148646474"
     },
     "user_tz": -60
    },
    "id": "3q_GGdMghloU",
    "outputId": "2fd54da3-1616-4179-e3f6-81a5c0e376b1"
   },
   "outputs": [],
   "source": [
    "verif_KL= pd.DataFrame(np.sum((X_hat_KL-train_t_KL)**2)) ; verif_KL"
   ]
  },
  {
   "cell_type": "code",
   "execution_count": null,
   "metadata": {
    "colab": {
     "base_uri": "https://localhost:8080/",
     "height": 1000
    },
    "executionInfo": {
     "elapsed": 13,
     "status": "ok",
     "timestamp": 1702763430252,
     "user": {
      "displayName": "STOCKSIEKER Sam",
      "userId": "17703404885148646474"
     },
     "user_tz": -60
    },
    "id": "XUUJvhY5hloU",
    "outputId": "c72773be-1f19-49c9-bb15-65b863ff6819"
   },
   "outputs": [],
   "source": [
    "  pd.DataFrame(np.sum(train_t_KL))"
   ]
  },
  {
   "cell_type": "code",
   "execution_count": null,
   "metadata": {
    "colab": {
     "base_uri": "https://localhost:8080/",
     "height": 1000
    },
    "executionInfo": {
     "elapsed": 1304,
     "status": "ok",
     "timestamp": 1702763431544,
     "user": {
      "displayName": "STOCKSIEKER Sam",
      "userId": "17703404885148646474"
     },
     "user_tz": -60
    },
    "id": "IXZ3SaN1hloU",
    "outputId": "b7615b5b-d55a-4fbe-d322-caf32def5d6c"
   },
   "outputs": [],
   "source": [
    "if load_models == 0:\n",
    "  for k in range(X_train.shape[1]):\n",
    "      plt.clf()\n",
    "      plt.scatter(X_hat[:,k],np.array(train)[:,k])\n",
    "      plt.show()"
   ]
  },
  {
   "cell_type": "markdown",
   "metadata": {
    "id": "lPMsuyzmm9Kf"
   },
   "source": [
    "### SAM_01"
   ]
  },
  {
   "cell_type": "code",
   "execution_count": null,
   "metadata": {
    "executionInfo": {
     "elapsed": 4,
     "status": "ok",
     "timestamp": 1702763431544,
     "user": {
      "displayName": "STOCKSIEKER Sam",
      "userId": "17703404885148646474"
     },
     "user_tz": -60
    },
    "id": "tCd2ZIA0m9Kg"
   },
   "outputs": [],
   "source": [
    "# mod_quali = 'OHE'\n",
    "# train = transformer(X_train, mode_quali=mod_quali)\n",
    "# train_t = np.array(train)\n",
    "# # VC(train)\n",
    "# pd.DataFrame(np.sum(train))\n",
    "# # train.Q1_Q199.value_counts()"
   ]
  },
  {
   "cell_type": "code",
   "execution_count": null,
   "metadata": {
    "executionInfo": {
     "elapsed": 4,
     "status": "ok",
     "timestamp": 1702763431544,
     "user": {
      "displayName": "STOCKSIEKER Sam",
      "userId": "17703404885148646474"
     },
     "user_tz": -60
    },
    "id": "yjVcVvnqm9Kg"
   },
   "outputs": [],
   "source": [
    "# w = 1/np.sum(train) ; w"
   ]
  },
  {
   "cell_type": "code",
   "execution_count": null,
   "metadata": {
    "executionInfo": {
     "elapsed": 3,
     "status": "ok",
     "timestamp": 1702763431544,
     "user": {
      "displayName": "STOCKSIEKER Sam",
      "userId": "17703404885148646474"
     },
     "user_tz": -60
    },
    "id": "ZB9eb1Wcm9Kg"
   },
   "outputs": [],
   "source": [
    "# res = []\n",
    "# for col in X_train.columns:\n",
    "#   temp = w[w.index[w.index.str.startswith(col)]]\n",
    "#   temp = temp/sum(temp)\n",
    "#   res = np.append(res,temp)\n",
    "# pd.DataFrame(res)"
   ]
  },
  {
   "cell_type": "code",
   "execution_count": null,
   "metadata": {
    "executionInfo": {
     "elapsed": 3,
     "status": "ok",
     "timestamp": 1702763431544,
     "user": {
      "displayName": "STOCKSIEKER Sam",
      "userId": "17703404885148646474"
     },
     "user_tz": -60
    },
    "id": "IL9aiQlkm9Kg"
   },
   "outputs": [],
   "source": [
    "# w = np.sqrt(np.array(res)) ; w"
   ]
  },
  {
   "cell_type": "code",
   "execution_count": null,
   "metadata": {
    "executionInfo": {
     "elapsed": 3,
     "status": "ok",
     "timestamp": 1702763431544,
     "user": {
      "displayName": "STOCKSIEKER Sam",
      "userId": "17703404885148646474"
     },
     "user_tz": -60
    },
    "id": "n-NhbqZPm9Kg"
   },
   "outputs": [],
   "source": [
    "# w = np.repeat(1,train.shape[1]);w"
   ]
  },
  {
   "cell_type": "code",
   "execution_count": null,
   "metadata": {
    "colab": {
     "base_uri": "https://localhost:8080/"
    },
    "executionInfo": {
     "elapsed": 40326,
     "status": "ok",
     "timestamp": 1702763471867,
     "user": {
      "displayName": "STOCKSIEKER Sam",
      "userId": "17703404885148646474"
     },
     "user_tz": -60
    },
    "id": "e_BckwYZm9Kg",
    "outputId": "4145632e-6603-4291-8333-295cbc99e7e9"
   },
   "outputs": [],
   "source": [
    "if load_models == 0:\n",
    "  resAE = train_FAE(X_train, Y=colY, lossfunc=\"wMSE_01\",w_corr=None)#,w_Y=w)\n",
    "  res_vAE_SAM01 = resAE\n",
    "  # mod_vAE_SAM = resAE['model']\n",
    "# else:\n",
    "  # !gdown https://drive.google.com/uc?id={link_mod_sAE_MSE}\n",
    "  # mod_sAE_MSE =   FAE(p=X_train.shape[1],enc_dim=hp_fae_encDim, sparsity_factor = hp_fae_sparsity_factor, sparsity_target=hp_fae_sparsity_target,dimHL=hp_fae_dimHL, wNorm=hp_fae_wNorm)\n",
    "  # mod_sAE_MSE.load_state_dict(torch.load('mod_sAE_MSE.pt'))"
   ]
  },
  {
   "cell_type": "code",
   "execution_count": null,
   "metadata": {
    "colab": {
     "base_uri": "https://localhost:8080/",
     "height": 1000
    },
    "executionInfo": {
     "elapsed": 1347,
     "status": "ok",
     "timestamp": 1702763473204,
     "user": {
      "displayName": "STOCKSIEKER Sam",
      "userId": "17703404885148646474"
     },
     "user_tz": -60
    },
    "id": "-l7mtezBm9Kg",
    "outputId": "f5573d54-ddbd-4dff-93c7-7f95ab1f1308"
   },
   "outputs": [],
   "source": [
    "mod_quali = 'SAM01'\n",
    "decod = res_vAE_SAM01['decod']\n",
    "train = transformer(X_train, mode_quali=mod_quali)\n",
    "for k in range(len(decod)):\n",
    "  X_hat = decod[k]\n",
    "  df_X_hat = pd.DataFrame(X_hat)\n",
    "  df_X_hat.columns = train.columns\n",
    "  X_hat_SAM01 = inv_transformer(X_train,df_X_hat,mode_quanti=None,mode_quali=mod_quali)\n",
    "  # VC(X_hat_SAM01)\n",
    "  train_t_SAM01 = inv_transformer(X_train,train,mode_quanti=None,mode_quali=mod_quali)\n",
    "  if k ==0:\n",
    "    res = pd.DataFrame(np.sum((X_hat_SAM01-train_t_SAM01)**2))\n",
    "  else:\n",
    "    res = pd.concat([res,pd.DataFrame(np.sum((X_hat_SAM01-train_t_SAM01)**2))],axis=1)\n",
    "res = res.sort_index(ascending=False)\n",
    "res"
   ]
  },
  {
   "cell_type": "code",
   "execution_count": null,
   "metadata": {
    "colab": {
     "base_uri": "https://localhost:8080/",
     "height": 842
    },
    "executionInfo": {
     "elapsed": 2526,
     "status": "ok",
     "timestamp": 1702763475728,
     "user": {
      "displayName": "STOCKSIEKER Sam",
      "userId": "17703404885148646474"
     },
     "user_tz": -60
    },
    "id": "a_DwFfF8GEtf",
    "outputId": "d36bb646-ddb4-4c4a-8288-2e609ed3c34e"
   },
   "outputs": [],
   "source": [
    "res_plot = res.T.copy()\n",
    "res_plot.reset_index(inplace=True)\n",
    "res_plot.drop('index', axis=1, inplace=True)\n",
    "plt.figure(figsize=(20, 10))\n",
    "sns.lineplot(res_plot)"
   ]
  },
  {
   "cell_type": "code",
   "execution_count": null,
   "metadata": {
    "colab": {
     "base_uri": "https://localhost:8080/",
     "height": 858
    },
    "executionInfo": {
     "elapsed": 652,
     "status": "ok",
     "timestamp": 1702763476374,
     "user": {
      "displayName": "STOCKSIEKER Sam",
      "userId": "17703404885148646474"
     },
     "user_tz": -60
    },
    "id": "WebE-QkkktSs",
    "outputId": "997e5c04-6508-47bd-8cb7-5967a1348e12"
   },
   "outputs": [],
   "source": [
    "plt.figure(figsize=(20, 10))\n",
    "sns.heatmap(res.div(res.max(axis=1), axis=0),cmap=\"RdYlGn_r\", annot_kws={\"size\": 10})"
   ]
  },
  {
   "cell_type": "code",
   "execution_count": null,
   "metadata": {
    "colab": {
     "base_uri": "https://localhost:8080/",
     "height": 444
    },
    "executionInfo": {
     "elapsed": 12,
     "status": "ok",
     "timestamp": 1702763476375,
     "user": {
      "displayName": "STOCKSIEKER Sam",
      "userId": "17703404885148646474"
     },
     "user_tz": -60
    },
    "id": "3aWVxHtEm9Kg",
    "outputId": "e5b09942-5a4b-4543-a87d-c64c3f3b264a"
   },
   "outputs": [],
   "source": [
    "X_hat_SAM01"
   ]
  },
  {
   "cell_type": "code",
   "execution_count": null,
   "metadata": {
    "colab": {
     "base_uri": "https://localhost:8080/",
     "height": 944
    },
    "executionInfo": {
     "elapsed": 11,
     "status": "ok",
     "timestamp": 1702763476375,
     "user": {
      "displayName": "STOCKSIEKER Sam",
      "userId": "17703404885148646474"
     },
     "user_tz": -60
    },
    "id": "NGoyPku4m9Kg",
    "outputId": "219cdfa6-1e1a-4d0b-e5c9-a0114dc858af"
   },
   "outputs": [],
   "source": [
    "if load_models == 0:\n",
    "  losses=resAE['losses']\n",
    "  plt.clf()\n",
    "  plt.xlabel('Iterations')\n",
    "  plt.ylabel('Loss')\n",
    "  plt.plot(losses)\n",
    "  plt.show()\n",
    "  X_hat = resAE['decoded'].cpu().detach().numpy()\n",
    "  df_X_hat = pd.DataFrame(X_hat)\n",
    "  df_X_hat.columns = train.columns\n",
    "  X_hat_SAM01 = inv_transformer(X_train,df_X_hat,mode_quanti=None,mode_quali=mod_quali)\n",
    "  train_t_SAM01 = inv_transformer(X_train,train,mode_quanti=None,mode_quali=mod_quali)\n",
    "  print(\"losses_min:\",np.min(losses))\n",
    "  print(\"MSE:\")\n",
    "  print(np.sum((X_hat_SAM01-train_t_SAM01)**2))"
   ]
  },
  {
   "cell_type": "code",
   "execution_count": null,
   "metadata": {
    "colab": {
     "base_uri": "https://localhost:8080/",
     "height": 1000
    },
    "executionInfo": {
     "elapsed": 10,
     "status": "ok",
     "timestamp": 1702763476375,
     "user": {
      "displayName": "STOCKSIEKER Sam",
      "userId": "17703404885148646474"
     },
     "user_tz": -60
    },
    "id": "ZWScE5ZGm9Kh",
    "outputId": "4d2afb34-a1d9-44e9-855c-cc3f720df6e1"
   },
   "outputs": [],
   "source": [
    "verif_SAM = pd.DataFrame(np.sum((X_hat_SAM01-train_t_SAM01)**2)) ; verif_SAM"
   ]
  },
  {
   "cell_type": "code",
   "execution_count": null,
   "metadata": {
    "colab": {
     "base_uri": "https://localhost:8080/",
     "height": 1000
    },
    "executionInfo": {
     "elapsed": 8046,
     "status": "ok",
     "timestamp": 1702763484411,
     "user": {
      "displayName": "STOCKSIEKER Sam",
      "userId": "17703404885148646474"
     },
     "user_tz": -60
    },
    "id": "dnxF4gLFm9Kh",
    "outputId": "15fba3e7-9da3-4ddd-9499-1eaaed4822dc"
   },
   "outputs": [],
   "source": [
    "if load_models == 0:\n",
    "  for k in range(train.shape[1]):\n",
    "      plt.clf()\n",
    "      plt.scatter(X_hat[:,k],np.array(train)[:,k])\n",
    "      plt.show()"
   ]
  },
  {
   "cell_type": "markdown",
   "metadata": {
    "id": "zv9k5yr34lvs"
   },
   "source": [
    "# PREDICTION"
   ]
  },
  {
   "cell_type": "markdown",
   "metadata": {
    "id": "urAbFUdnVoQw"
   },
   "source": [
    "## Initialization"
   ]
  },
  {
   "cell_type": "code",
   "execution_count": null,
   "metadata": {
    "colab": {
     "base_uri": "https://localhost:8080/",
     "height": 385
    },
    "executionInfo": {
     "elapsed": 16,
     "status": "ok",
     "timestamp": 1702763484412,
     "user": {
      "displayName": "STOCKSIEKER Sam",
      "userId": "17703404885148646474"
     },
     "user_tz": -60
    },
    "id": "4ErsOeYn4jeo",
    "outputId": "7e769ac7-f561-42b6-e26a-9f8980fd76d1"
   },
   "outputs": [],
   "source": [
    "h2o.init()"
   ]
  },
  {
   "cell_type": "code",
   "execution_count": null,
   "metadata": {
    "colab": {
     "base_uri": "https://localhost:8080/"
    },
    "executionInfo": {
     "elapsed": 453,
     "status": "ok",
     "timestamp": 1702763484851,
     "user": {
      "displayName": "STOCKSIEKER Sam",
      "userId": "17703404885148646474"
     },
     "user_tz": -60
    },
    "id": "By0NpqVy4jmF",
    "outputId": "ad74d39c-5ea1-4bbc-f0fa-c081f57e08d9"
   },
   "outputs": [],
   "source": [
    "test_data = h2o.H2OFrame(X_test)\n",
    "X_col = X_test.columns\n",
    "y_col = X_test.columns[colY]\n",
    "X_col = X_col.drop(y_col).tolist()"
   ]
  },
  {
   "cell_type": "markdown",
   "metadata": {
    "id": "ETZ5huDj5Qpn"
   },
   "source": [
    "## Vanilla AE + MSE"
   ]
  },
  {
   "cell_type": "code",
   "execution_count": null,
   "metadata": {
    "executionInfo": {
     "elapsed": 4,
     "status": "ok",
     "timestamp": 1702763484851,
     "user": {
      "displayName": "STOCKSIEKER Sam",
      "userId": "17703404885148646474"
     },
     "user_tz": -60
    },
    "id": "pRGhGmCL4jp1"
   },
   "outputs": [],
   "source": [
    "def pred(train_hat, X_train, y_train, test_data):\n",
    "  if train_hat is not None:\n",
    "    train_hat.columns = transformer(X_train).columns\n",
    "    train_hat = inv_transformer(X_train,train_hat)\n",
    "    train_hat = undummify(train_hat)\n",
    "    train_hat.insert(0, data.columns[colY], y_train)\n",
    "    train_hat = np.round(train_hat,10)\n",
    "  else:\n",
    "    train_hat = X_train.copy()\n",
    "    train_hat.insert(0, data.columns[colY], y_train)\n",
    "    # train_hat.columns = test_data.columns\n",
    "  train_hat = h2o.H2OFrame(train_hat)\n",
    "  aml = H2OAutoML(max_models=10, seed=42)\n",
    "  aml.train(x=X_col, y=y_col, training_frame=train_hat)\n",
    "  res_aml = aml.leaderboard\n",
    "  preds = aml.predict(test_data)\n",
    "  if test_data.as_data_frame().dtypes[colY]==\"object\":\n",
    "    mse = mean_squared_error(pd.get_dummies(test_data.as_data_frame()[y_col]).iloc[:,0:2] , preds.as_data_frame().iloc[:,1:3])\n",
    "    mape = mean_absolute_percentage_error(pd.get_dummies(test_data.as_data_frame()[y_col]).iloc[:,0:2] , preds.as_data_frame().iloc[:,1:3])\n",
    "    mae = median_absolute_error(pd.get_dummies(test_data.as_data_frame()[y_col]).iloc[:,0:2] , preds.as_data_frame().iloc[:,1:3])\n",
    "    egm = np.prod(np.abs(pd.get_dummies(test_data.as_data_frame()[y_col]).iloc[:,0:2] - preds.as_data_frame().iloc[:,1:3]))**(1/test_data.shape[0])\n",
    "  else:\n",
    "    mse = mean_squared_error(preds.as_data_frame(),test_data[y_col].as_data_frame())\n",
    "    mape = mean_absolute_percentage_error(preds.as_data_frame(),test_data[y_col].as_data_frame())\n",
    "    mae = median_absolute_error(preds.as_data_frame(),test_data[y_col].as_data_frame())\n",
    "    egm = np.prod(np.abs(preds.as_data_frame().to_numpy()-test_data[y_col].as_data_frame().to_numpy()))**(1/test_data.shape[0])\n",
    "  return {\"res_aml\" : res_aml, \"preds\" : preds, \"mse\" : mse, 'mape':mape, 'mae':mae, 'egm':egm}"
   ]
  },
  {
   "cell_type": "code",
   "execution_count": null,
   "metadata": {
    "executionInfo": {
     "elapsed": 4,
     "status": "ok",
     "timestamp": 1702763484851,
     "user": {
      "displayName": "STOCKSIEKER Sam",
      "userId": "17703404885148646474"
     },
     "user_tz": -60
    },
    "id": "p8Z5DrPVsD-z"
   },
   "outputs": [],
   "source": [
    "train_hat = X_train.copy()\n",
    "train_hat.insert(0, data.columns[colY], y_train)"
   ]
  },
  {
   "cell_type": "code",
   "execution_count": null,
   "metadata": {
    "colab": {
     "base_uri": "https://localhost:8080/"
    },
    "executionInfo": {
     "elapsed": 18561,
     "status": "ok",
     "timestamp": 1702763503409,
     "user": {
      "displayName": "STOCKSIEKER Sam",
      "userId": "17703404885148646474"
     },
     "user_tz": -60
    },
    "id": "DwbskqVkpm8k",
    "outputId": "2239ede1-09f9-4853-ad97-78fb20b9df75"
   },
   "outputs": [],
   "source": [
    "res_PredInit = pred(None,X_train,y_train,test_data)\n",
    "res_PredInit['mse']"
   ]
  },
  {
   "cell_type": "code",
   "execution_count": null,
   "metadata": {
    "colab": {
     "base_uri": "https://localhost:8080/"
    },
    "executionInfo": {
     "elapsed": 18548,
     "status": "ok",
     "timestamp": 1702763521945,
     "user": {
      "displayName": "STOCKSIEKER Sam",
      "userId": "17703404885148646474"
     },
     "user_tz": -60
    },
    "id": "EUvYTaKINftF",
    "outputId": "d8863eb9-f7b6-4526-f3be-8852a1aba857"
   },
   "outputs": [],
   "source": [
    "Xhat = pd.DataFrame(res_vAE_OHE['decoded'].cpu().detach().numpy())\n",
    "resPred_OHE = pred(Xhat,X_train,y_train,test_data)\n",
    "resPred_OHE['mse']"
   ]
  },
  {
   "cell_type": "markdown",
   "metadata": {
    "id": "hM3IiuexGZqy"
   },
   "source": [
    "## Vanilla AE + SAM"
   ]
  },
  {
   "cell_type": "code",
   "execution_count": null,
   "metadata": {
    "colab": {
     "base_uri": "https://localhost:8080/"
    },
    "executionInfo": {
     "elapsed": 21227,
     "status": "ok",
     "timestamp": 1702763543161,
     "user": {
      "displayName": "STOCKSIEKER Sam",
      "userId": "17703404885148646474"
     },
     "user_tz": -60
    },
    "id": "u09gR92qGZq4",
    "outputId": "e06ea677-7ce8-40e4-e5fc-ea108ba42695"
   },
   "outputs": [],
   "source": [
    "Xhat = pd.DataFrame(res_vAE_SAM01['decoded'].cpu().detach().numpy())\n",
    "resPred_SAM = pred(Xhat,X_train,y_train,test_data)\n",
    "resPred_SAM['mse']"
   ]
  },
  {
   "cell_type": "markdown",
   "metadata": {
    "id": "u5sO56XISchZ"
   },
   "source": [
    "# PREDICTION - Latent"
   ]
  },
  {
   "cell_type": "markdown",
   "metadata": {
    "id": "B0NTYlzNScha"
   },
   "source": [
    "## Initialization"
   ]
  },
  {
   "cell_type": "code",
   "execution_count": null,
   "metadata": {
    "colab": {
     "base_uri": "https://localhost:8080/",
     "height": 385
    },
    "executionInfo": {
     "elapsed": 19,
     "status": "ok",
     "timestamp": 1702763543162,
     "user": {
      "displayName": "STOCKSIEKER Sam",
      "userId": "17703404885148646474"
     },
     "user_tz": -60
    },
    "id": "-Bmf_XJuScha",
    "outputId": "2d24e8a3-d659-44b3-e786-ab180b14cbe3"
   },
   "outputs": [],
   "source": [
    "h2o.init()"
   ]
  },
  {
   "cell_type": "markdown",
   "metadata": {
    "id": "61C6eFyCScha"
   },
   "source": [
    "## Vanilla AE + MSE"
   ]
  },
  {
   "cell_type": "code",
   "execution_count": null,
   "metadata": {
    "executionInfo": {
     "elapsed": 17,
     "status": "ok",
     "timestamp": 1702763543162,
     "user": {
      "displayName": "STOCKSIEKER Sam",
      "userId": "17703404885148646474"
     },
     "user_tz": -60
    },
    "id": "j-a_AGjfSchb"
   },
   "outputs": [],
   "source": [
    "def pred_latent(res, y_train, test_data):\n",
    "  model = res['model']\n",
    "  ytest = test_data.iloc[:,colY]\n",
    "  test_data = test_data.copy()\n",
    "  test_data.drop(test_data.columns[colY], axis=1, inplace=True)\n",
    "  test_data = model.encoder(torch.FloatTensor(np.array(transformer(test_data))).to(device))\n",
    "  test_data = h2o.H2OFrame(test_data.cpu().detach().numpy())\n",
    "  ytrain = y_train.copy()\n",
    "  ytrain = ytrain.reset_index()\n",
    "  ytrain.drop('index', axis=1, inplace=True)\n",
    "  train_hat = res['encoded'].cpu().detach().numpy()\n",
    "  np.insert(train_hat,0, ytrain, axis=1)\n",
    "  train_hat = h2o.H2OFrame(train_hat)\n",
    "  aml = H2OAutoML(max_models=10, seed=42)\n",
    "  aml.train(x=train_hat.columns[1:], y=train_hat.columns[0], training_frame=train_hat)\n",
    "  res_aml = aml.leaderboard\n",
    "  preds = aml.predict(test_data)\n",
    "  if test_data.as_data_frame().dtypes[colY]==\"object\":\n",
    "    mse = mean_squared_error(pd.get_dummies(test_data.as_data_frame()[y_col]).iloc[:,0:2] , preds.as_data_frame().iloc[:,1:3])\n",
    "    mape = mean_absolute_percentage_error(pd.get_dummies(test_data.as_data_frame()[y_col]).iloc[:,0:2] , preds.as_data_frame().iloc[:,1:3])\n",
    "    mae = median_absolute_error(pd.get_dummies(test_data.as_data_frame()[y_col]).iloc[:,0:2] , preds.as_data_frame().iloc[:,1:3])\n",
    "    egm = np.prod(np.abs(pd.get_dummies(test_data.as_data_frame()[y_col]).iloc[:,0:2] - preds.as_data_frame().iloc[:,1:3]))**(1/test_data.shape[0])\n",
    "  else:\n",
    "    mse = mean_squared_error(preds.as_data_frame(),ytest)\n",
    "    mape = mean_absolute_percentage_error(preds.as_data_frame(),ytest)\n",
    "    mae = median_absolute_error(preds.as_data_frame(),ytest)\n",
    "    egm = np.prod(np.abs(preds.as_data_frame().to_numpy()-ytest.to_numpy()))**(1/test_data.shape[0])\n",
    "  return {\"res_aml\" : res_aml, \"preds\" : preds, \"mse\" : mse, 'mape':mape, 'mae':mae, 'egm':egm}"
   ]
  },
  {
   "cell_type": "code",
   "execution_count": null,
   "metadata": {
    "colab": {
     "base_uri": "https://localhost:8080/"
    },
    "executionInfo": {
     "elapsed": 16,
     "status": "ok",
     "timestamp": 1702763543162,
     "user": {
      "displayName": "STOCKSIEKER Sam",
      "userId": "17703404885148646474"
     },
     "user_tz": -60
    },
    "id": "M5Wf478sa3ye",
    "outputId": "624313f3-dc35-4ecf-b8e3-0f26edc6eae2"
   },
   "outputs": [],
   "source": [
    "res_PredInit['mse']"
   ]
  },
  {
   "cell_type": "code",
   "execution_count": null,
   "metadata": {
    "colab": {
     "base_uri": "https://localhost:8080/"
    },
    "executionInfo": {
     "elapsed": 32390,
     "status": "ok",
     "timestamp": 1702763575537,
     "user": {
      "displayName": "STOCKSIEKER Sam",
      "userId": "17703404885148646474"
     },
     "user_tz": -60
    },
    "id": "tcPajpJ5uZyF",
    "outputId": "d9d0886f-3f1b-4c44-8e2d-5278aa741688"
   },
   "outputs": [],
   "source": [
    "resPredLat_OHE = pred_latent(res_vAE_OHE, y_train, X_test)\n",
    "resPredLat_OHE['mse']"
   ]
  },
  {
   "cell_type": "markdown",
   "metadata": {
    "id": "82Xs8D44Schb"
   },
   "source": [
    "## Vanilla AE + SAM"
   ]
  },
  {
   "cell_type": "code",
   "execution_count": null,
   "metadata": {
    "colab": {
     "base_uri": "https://localhost:8080/"
    },
    "executionInfo": {
     "elapsed": 33631,
     "status": "ok",
     "timestamp": 1702763609155,
     "user": {
      "displayName": "STOCKSIEKER Sam",
      "userId": "17703404885148646474"
     },
     "user_tz": -60
    },
    "id": "x7lfsxWISchb",
    "outputId": "692f85eb-0faa-4d48-ef42-8d4400fa181e"
   },
   "outputs": [],
   "source": [
    "resPredLat_SAM = pred_latent(res_vAE_SAM01, y_train, X_test)\n",
    "resPredLat_SAM['mse']"
   ]
  },
  {
   "cell_type": "code",
   "execution_count": null,
   "metadata": {
    "executionInfo": {
     "elapsed": 14,
     "status": "ok",
     "timestamp": 1702763609155,
     "user": {
      "displayName": "STOCKSIEKER Sam",
      "userId": "17703404885148646474"
     },
     "user_tz": -60
    },
    "id": "LjPphnFgSchb"
   },
   "outputs": [],
   "source": [
    "# stop"
   ]
  },
  {
   "cell_type": "markdown",
   "metadata": {
    "id": "aDMDzf3UhA-P"
   },
   "source": [
    "# CORRELATION ANALYSIS"
   ]
  },
  {
   "cell_type": "code",
   "execution_count": null,
   "metadata": {
    "executionInfo": {
     "elapsed": 14,
     "status": "ok",
     "timestamp": 1702763609155,
     "user": {
      "displayName": "STOCKSIEKER Sam",
      "userId": "17703404885148646474"
     },
     "user_tz": -60
    },
    "id": "wManEgQNxf74"
   },
   "outputs": [],
   "source": [
    "def mat_corr(data):\n",
    "  p = data.shape[1]\n",
    "  mat_corr = np.eye(p)\n",
    "  for j in np.arange(p):\n",
    "    for k in np.arange(j):\n",
    "      if data.dtypes[j] == \"object\" and data.dtypes[k] == \"object\" :\n",
    "        mat_corr[j,k] = association(pd.crosstab(data.iloc[:,j],data.iloc[:,k]), method=\"cramer\")\n",
    "      elif data.dtypes[j] != \"object\" and data.dtypes[k] != \"object\" :\n",
    "        mat_corr[j,k] = spearmanr(data.iloc[:,j],data.iloc[:,k]).statistic\n",
    "      else:\n",
    "        mod = ols(data.columns[1]+ ' ~ '+ data.columns[3] , data=data).fit()\n",
    "        anova = sm.stats.anova_lm(mod)\n",
    "        mat_corr[j,k] = anova['sum_sq'][0] / (anova['sum_sq'][0] + anova['sum_sq'][1])\n",
    "  mat_corr = pd.DataFrame(mat_corr)\n",
    "  mat_corr[mat_corr.isna()]=0\n",
    "  return mat_corr"
   ]
  },
  {
   "cell_type": "code",
   "execution_count": null,
   "metadata": {
    "colab": {
     "base_uri": "https://localhost:8080/",
     "height": 300
    },
    "executionInfo": {
     "elapsed": 353,
     "status": "ok",
     "timestamp": 1702763609495,
     "user": {
      "displayName": "STOCKSIEKER Sam",
      "userId": "17703404885148646474"
     },
     "user_tz": -60
    },
    "id": "sJSCZFQjg_6J",
    "outputId": "23d07af5-f107-4d62-973e-69dfaaeab6ae"
   },
   "outputs": [],
   "source": [
    "MC_X_init = mat_corr(X_train) ; MC_X_init"
   ]
  },
  {
   "cell_type": "markdown",
   "metadata": {
    "id": "sN6Dq9S9_Qp4"
   },
   "source": [
    "## Res MSE"
   ]
  },
  {
   "cell_type": "code",
   "execution_count": null,
   "metadata": {
    "executionInfo": {
     "elapsed": 4,
     "status": "ok",
     "timestamp": 1702763609495,
     "user": {
      "displayName": "STOCKSIEKER Sam",
      "userId": "17703404885148646474"
     },
     "user_tz": -60
    },
    "id": "CfGgMkSTg_W6"
   },
   "outputs": [],
   "source": [
    "def mat_corr_AE(res):\n",
    "  train_hat = pd.DataFrame(res['decoded'].cpu().detach().numpy())\n",
    "  train_hat.columns = transformer(X_train).columns\n",
    "  train_hat = inv_transformer(X_train,train_hat)\n",
    "  train_hat = undummify(train_hat)\n",
    "  return mat_corr(train_hat)"
   ]
  },
  {
   "cell_type": "code",
   "execution_count": null,
   "metadata": {
    "colab": {
     "base_uri": "https://localhost:8080/"
    },
    "executionInfo": {
     "elapsed": 270,
     "status": "ok",
     "timestamp": 1702763609762,
     "user": {
      "displayName": "STOCKSIEKER Sam",
      "userId": "17703404885148646474"
     },
     "user_tz": -60
    },
    "id": "FASxlJgnCEOo",
    "outputId": "93582340-0ec0-45c8-f761-e0aad4ed4322"
   },
   "outputs": [],
   "source": [
    "MC_X_OHE=mat_corr_AE(res_vAE_OHE)\n",
    "np.sum(np.abs(np.array(MC_X_OHE - MC_X_init)))"
   ]
  },
  {
   "cell_type": "markdown",
   "metadata": {
    "id": "desV4M0gAYjO"
   },
   "source": [
    "## Res SAM"
   ]
  },
  {
   "cell_type": "code",
   "execution_count": null,
   "metadata": {
    "colab": {
     "base_uri": "https://localhost:8080/",
     "height": 300
    },
    "executionInfo": {
     "elapsed": 325,
     "status": "ok",
     "timestamp": 1702763610086,
     "user": {
      "displayName": "STOCKSIEKER Sam",
      "userId": "17703404885148646474"
     },
     "user_tz": -60
    },
    "id": "ZwDejzTFAYjY",
    "outputId": "e36fdae2-1d9f-4349-b7db-543b9add8a05"
   },
   "outputs": [],
   "source": [
    "MC_X_SAM = mat_corr_AE(res_vAE_SAM01) ; MC_X_SAM"
   ]
  },
  {
   "cell_type": "code",
   "execution_count": null,
   "metadata": {
    "colab": {
     "base_uri": "https://localhost:8080/"
    },
    "executionInfo": {
     "elapsed": 10,
     "status": "ok",
     "timestamp": 1702763610086,
     "user": {
      "displayName": "STOCKSIEKER Sam",
      "userId": "17703404885148646474"
     },
     "user_tz": -60
    },
    "id": "wfaNoUQJAYjY",
    "outputId": "fe485041-2d07-489c-bb53-99e2053c40a7"
   },
   "outputs": [],
   "source": [
    "np.sum(np.abs(np.array(MC_X_SAM - MC_X_init)))"
   ]
  },
  {
   "cell_type": "code",
   "execution_count": null,
   "metadata": {
    "colab": {
     "base_uri": "https://localhost:8080/",
     "height": 175
    },
    "executionInfo": {
     "elapsed": 9,
     "status": "error",
     "timestamp": 1702763610087,
     "user": {
      "displayName": "STOCKSIEKER Sam",
      "userId": "17703404885148646474"
     },
     "user_tz": -60
    },
    "id": "sHlSMFO4beZX",
    "outputId": "cc046d50-d467-4e86-9579-17483de99a9c"
   },
   "outputs": [],
   "source": [
    "stop"
   ]
  },
  {
   "cell_type": "markdown",
   "metadata": {
    "id": "0FCick0yLxk5"
   },
   "source": [
    "# BOUCLE PREDICTION"
   ]
  },
  {
   "cell_type": "markdown",
   "metadata": {
    "id": "OQranDCK6O5b"
   },
   "source": [
    "à mettre en boucles imbriquéés"
   ]
  },
  {
   "cell_type": "code",
   "execution_count": null,
   "metadata": {
    "executionInfo": {
     "elapsed": 8,
     "status": "aborted",
     "timestamp": 1702763610087,
     "user": {
      "displayName": "STOCKSIEKER Sam",
      "userId": "17703404885148646474"
     },
     "user_tz": -60
    },
    "id": "Lz5RC-0JL9Ah"
   },
   "outputs": [],
   "source": [
    "n_simus=20"
   ]
  },
  {
   "cell_type": "code",
   "execution_count": null,
   "metadata": {
    "executionInfo": {
     "elapsed": 277513,
     "status": "aborted",
     "timestamp": 1702763610087,
     "user": {
      "displayName": "STOCKSIEKER Sam",
      "userId": "17703404885148646474"
     },
     "user_tz": -60
    },
    "id": "7o7l35q38GpY"
   },
   "outputs": [],
   "source": [
    "seed_samples = []"
   ]
  },
  {
   "cell_type": "code",
   "execution_count": null,
   "metadata": {
    "executionInfo": {
     "elapsed": 277511,
     "status": "aborted",
     "timestamp": 1702763610087,
     "user": {
      "displayName": "STOCKSIEKER Sam",
      "userId": "17703404885148646474"
     },
     "user_tz": -60
    },
    "id": "SCMjCdBXtPTH"
   },
   "outputs": [],
   "source": [
    "torch.manual_seed(torch.initial_seed())\n",
    "np.random.seed()\n",
    "if torch.cuda.is_available():\n",
    "    torch.cuda.manual_seed(torch.initial_seed())\n",
    "    torch.cuda.manual_seed_all(torch.initial_seed())"
   ]
  },
  {
   "cell_type": "code",
   "execution_count": null,
   "metadata": {
    "executionInfo": {
     "elapsed": 5,
     "status": "aborted",
     "timestamp": 1702763610525,
     "user": {
      "displayName": "STOCKSIEKER Sam",
      "userId": "17703404885148646474"
     },
     "user_tz": -60
    },
    "id": "Q40gjsvzxLIH"
   },
   "outputs": [],
   "source": [
    "X_train_l = []\n",
    "X_test_l = []\n",
    "res_MSE_l  =  []\n",
    "res_MC_l  =  []\n",
    "res_wMSE_l =  []\n",
    "res_MAE_l  =  []\n",
    "res_MAPE_l =  []\n",
    "res_EGM_l  =  []\n",
    "for simu in range(n_simus):\n",
    "  print(\"============================     simu : \",simu,\"          ======================\")\n",
    "  res_MSE  =  []\n",
    "  res_MC  =  []\n",
    "  res_wMSE =  []\n",
    "  res_MAE  =  []\n",
    "  res_MAPE =  []\n",
    "  res_EGM  =  []\n",
    "\n",
    "  #--------------- Sampling\n",
    "  seed_sample = np.random.randint(1000,size=1)\n",
    "  split = trainTest(data,test_size,seed_sample)\n",
    "  X_train = split['X_train']\n",
    "  X_test = split['X_test']\n",
    "  if context==\"supervised\":\n",
    "    y_train = X_train.iloc[:,colY]\n",
    "    X_train.drop(X_train.columns[colY], axis=1, inplace=True)\n",
    "\n",
    "  #--------------- model_training\n",
    "  # Vanilla AE - MSE\n",
    "  res_vAE_OHE = train_FAE(X_train, Y=colY, lossfunc=\"MSE\",w_corr=None)\n",
    "  # Vanilla AE - SAM01\n",
    "  res_vAE_SAM01 = train_FAE(X_train, Y=colY, lossfunc=\"wMSE_01\",w_corr=None)\n",
    "\n",
    "\n",
    "  #--------------- Correlation\n",
    "  MC_X_init = mat_corr(X_train)\n",
    "  MC_X_OHE = mat_corr_AE(res_vAE_OHE)\n",
    "  MC_X_SAM01 = mat_corr_AE(res_vAE_SAM01)\n",
    "\n",
    "  #--------------- Prediction\n",
    "  h2o.init()\n",
    "  test_data = h2o.H2OFrame(X_test)\n",
    "  X_col = X_test.columns\n",
    "  y_col = X_test.columns[colY]\n",
    "  X_col = X_col.drop(y_col).tolist()\n",
    "\n",
    "  resPred_INIT = pred(None,X_train,y_train,test_data)\n",
    "  Xhat = pd.DataFrame(res_vAE_OHE['decoded'].cpu().detach().numpy())\n",
    "  resPred_OHE = pred(Xhat,X_train,y_train,test_data)\n",
    "  Xhat = pd.DataFrame(res_vAE_SAM01['decoded'].cpu().detach().numpy())\n",
    "  resPred_SAM01 = pred(Xhat,X_train,y_train,test_data)\n",
    "\n",
    "  seed_samples.append(seed_sample)\n",
    "# résultats\n",
    "  res_MSE  =  pd.DataFrame({'train':\"Init\",'run_'+str(simu):[resPred_INIT['mse']]})\n",
    "  res_MAE  =  pd.DataFrame({'train':\"Init\",'run_'+str(simu):[resPred_INIT['mae']]})\n",
    "  res_MAPE =  pd.DataFrame({'train':\"Init\",'run_'+str(simu):[resPred_INIT['mape']]})\n",
    "  res_EGM  =  pd.DataFrame({'train':\"Init\",'run_'+str(simu):[resPred_INIT['egm']]})\n",
    "  res_MC   =  pd.DataFrame({'train':\"Init\",'run_'+str(simu):[np.sum(np.abs(np.array(MC_X_init - MC_X_init)))]})\n",
    "\n",
    "  res_MSE  =  res_MSE.append(pd.DataFrame({'train':\"OHE\",'run_'+str(simu):[resPred_OHE['mse']]}))\n",
    "  res_MAE  =  res_MAE.append(pd.DataFrame({'train':\"OHE\",'run_'+str(simu):[resPred_OHE['mae']]}))\n",
    "  res_MAPE =  res_MAPE.append(pd.DataFrame({'train':\"OHE\",'run_'+str(simu):[resPred_OHE['mape']]}))\n",
    "  res_EGM  =  res_EGM.append(pd.DataFrame({'train':\"OHE\",'run_'+str(simu):[resPred_OHE['egm']]}))\n",
    "  res_MC   =  res_MC.append(pd.DataFrame({'train':\"OHE\",'run_'+str(simu):[np.sum(np.abs(np.array(MC_X_OHE - MC_X_init)))]}))\n",
    "\n",
    "  res_MSE  =  res_MSE.append(pd.DataFrame({'train':\"SAM01\",'run_'+str(simu):[resPred_SAM01['mse']]}))\n",
    "  res_MAE  =  res_MAE.append(pd.DataFrame({'train':\"SAM01\",'run_'+str(simu):[resPred_SAM01['mae']]}))\n",
    "  res_MAPE =  res_MAPE.append(pd.DataFrame({'train':\"SAM01\",'run_'+str(simu):[resPred_SAM01['mape']]}))\n",
    "  res_EGM  =  res_EGM.append(pd.DataFrame({'train':\"SAM01\",'run_'+str(simu):[resPred_SAM01['egm']]}))\n",
    "  res_MC   =  res_MC.append(pd.DataFrame({'train':\"SAM01\",'run_'+str(simu):[np.sum(np.abs(np.array(MC_X_SAM01 - MC_X_init)))]}))\n",
    "\n",
    "  if len(res_MSE_l)==0:\n",
    "    res_MSE_l  = res_MSE\n",
    "    res_MAE_l  =  res_MAE\n",
    "    res_MAPE_l =  res_MAPE\n",
    "    res_EGM_l  =  res_EGM\n",
    "    res_MC_l   =  res_MC\n",
    "  else:\n",
    "    res_MSE_l  = res_MSE_l.merge(res_MSE)\n",
    "    res_MAE_l  = res_MAE_l.merge(res_MAE)\n",
    "    res_MAPE_l = res_MAPE_l.merge(res_MAPE)\n",
    "    res_EGM_l  = res_EGM_l.merge(res_EGM)\n",
    "    res_MC_l   = res_MC_l.merge(res_MC)\n",
    "\n",
    "res_MSE_l.set_index('train', inplace=True)\n",
    "res_MAE_l.set_index('train', inplace=True)\n",
    "res_MAPE_l.set_index('train', inplace=True)\n",
    "res_EGM_l.set_index('train', inplace=True)\n",
    "res_MC_l.set_index('train', inplace=True)"
   ]
  },
  {
   "cell_type": "code",
   "execution_count": null,
   "metadata": {
    "executionInfo": {
     "elapsed": 5,
     "status": "aborted",
     "timestamp": 1702763610525,
     "user": {
      "displayName": "STOCKSIEKER Sam",
      "userId": "17703404885148646474"
     },
     "user_tz": -60
    },
    "id": "E2eIBcGlHB0I"
   },
   "outputs": [],
   "source": [
    "seed_samples"
   ]
  },
  {
   "cell_type": "code",
   "execution_count": null,
   "metadata": {
    "executionInfo": {
     "elapsed": 5,
     "status": "aborted",
     "timestamp": 1702763610526,
     "user": {
      "displayName": "STOCKSIEKER Sam",
      "userId": "17703404885148646474"
     },
     "user_tz": -60
    },
    "id": "9Reu_cjmWRjU"
   },
   "outputs": [],
   "source": [
    "# 908,\n",
    "# 898,\n",
    "# 509,\n",
    "# 378,\n",
    "# 244,\n",
    "# 490,\n",
    "# 154,\n",
    "# 841,\n",
    "# 548,\n",
    "# 933"
   ]
  },
  {
   "cell_type": "code",
   "execution_count": null,
   "metadata": {
    "executionInfo": {
     "elapsed": 5,
     "status": "aborted",
     "timestamp": 1702763610526,
     "user": {
      "displayName": "STOCKSIEKER Sam",
      "userId": "17703404885148646474"
     },
     "user_tz": -60
    },
    "id": "Vy1NhlW7Y_2w"
   },
   "outputs": [],
   "source": [
    "pd.DataFrame(res_MSE_l)"
   ]
  },
  {
   "cell_type": "code",
   "execution_count": null,
   "metadata": {
    "executionInfo": {
     "elapsed": 5,
     "status": "aborted",
     "timestamp": 1702763610526,
     "user": {
      "displayName": "STOCKSIEKER Sam",
      "userId": "17703404885148646474"
     },
     "user_tz": -60
    },
    "id": "NyLxW0Xj60KX"
   },
   "outputs": [],
   "source": [
    "sns.set(rc={'figure.figsize':(11.7,8.27)})\n",
    "sns.boxplot(res_MSE_l.transpose(), orient='h')"
   ]
  },
  {
   "cell_type": "code",
   "execution_count": null,
   "metadata": {
    "executionInfo": {
     "elapsed": 5,
     "status": "aborted",
     "timestamp": 1702763610526,
     "user": {
      "displayName": "STOCKSIEKER Sam",
      "userId": "17703404885148646474"
     },
     "user_tz": -60
    },
    "id": "ceYZEw4bYawU"
   },
   "outputs": [],
   "source": [
    "res_MC_l"
   ]
  },
  {
   "cell_type": "code",
   "execution_count": null,
   "metadata": {
    "executionInfo": {
     "elapsed": 5,
     "status": "aborted",
     "timestamp": 1702763610526,
     "user": {
      "displayName": "STOCKSIEKER Sam",
      "userId": "17703404885148646474"
     },
     "user_tz": -60
    },
    "id": "obBxqLU8LP9o"
   },
   "outputs": [],
   "source": [
    "sns.set(rc={'figure.figsize':(11.7,8.27)})\n",
    "sns.boxplot(res_MC_l.transpose(), orient='h')"
   ]
  },
  {
   "cell_type": "code",
   "execution_count": null,
   "metadata": {
    "executionInfo": {
     "elapsed": 5,
     "status": "aborted",
     "timestamp": 1702763610526,
     "user": {
      "displayName": "STOCKSIEKER Sam",
      "userId": "17703404885148646474"
     },
     "user_tz": -60
    },
    "id": "Pthv4USL0pD_"
   },
   "outputs": [],
   "source": [
    "sns.lineplot(res_MSE_l.transpose())"
   ]
  },
  {
   "cell_type": "code",
   "execution_count": null,
   "metadata": {
    "executionInfo": {
     "elapsed": 5,
     "status": "aborted",
     "timestamp": 1702763610526,
     "user": {
      "displayName": "STOCKSIEKER Sam",
      "userId": "17703404885148646474"
     },
     "user_tz": -60
    },
    "id": "1ZRMIOxamFwg"
   },
   "outputs": [],
   "source": [
    "pd.DataFrame(res_MAE_l)"
   ]
  },
  {
   "cell_type": "code",
   "execution_count": null,
   "metadata": {
    "executionInfo": {
     "elapsed": 5,
     "status": "aborted",
     "timestamp": 1702763610526,
     "user": {
      "displayName": "STOCKSIEKER Sam",
      "userId": "17703404885148646474"
     },
     "user_tz": -60
    },
    "id": "6SmT3AYImF1V"
   },
   "outputs": [],
   "source": [
    "pd.DataFrame(res_EGM_l)"
   ]
  },
  {
   "cell_type": "code",
   "execution_count": null,
   "metadata": {
    "executionInfo": {
     "elapsed": 4,
     "status": "aborted",
     "timestamp": 1702763610526,
     "user": {
      "displayName": "STOCKSIEKER Sam",
      "userId": "17703404885148646474"
     },
     "user_tz": -60
    },
    "id": "2vMKPUhamF5-"
   },
   "outputs": [],
   "source": [
    "pd.DataFrame(res_MAPE_l)"
   ]
  },
  {
   "cell_type": "code",
   "execution_count": null,
   "metadata": {
    "executionInfo": {
     "elapsed": 5,
     "status": "aborted",
     "timestamp": 1702763610527,
     "user": {
      "displayName": "STOCKSIEKER Sam",
      "userId": "17703404885148646474"
     },
     "user_tz": -60
    },
    "id": "OiHEppJxFd0K"
   },
   "outputs": [],
   "source": [
    "# pd.DataFrame(res_MSE_l).to_csv(rep+'/Data/res_MSE_l.csv', index=False)"
   ]
  },
  {
   "cell_type": "code",
   "execution_count": null,
   "metadata": {
    "executionInfo": {
     "elapsed": 5,
     "status": "aborted",
     "timestamp": 1702763610527,
     "user": {
      "displayName": "STOCKSIEKER Sam",
      "userId": "17703404885148646474"
     },
     "user_tz": -60
    },
    "id": "pNOaswETQbTm"
   },
   "outputs": [],
   "source": []
  },
  {
   "cell_type": "markdown",
   "metadata": {
    "id": "khvpY3e67xP8"
   },
   "source": [
    "### Enregistrement"
   ]
  },
  {
   "cell_type": "code",
   "execution_count": null,
   "metadata": {
    "executionInfo": {
     "elapsed": 5,
     "status": "aborted",
     "timestamp": 1702763610527,
     "user": {
      "displayName": "STOCKSIEKER Sam",
      "userId": "17703404885148646474"
     },
     "user_tz": -60
    },
    "id": "aIroVc31YOhD"
   },
   "outputs": [],
   "source": [
    "seed_samples"
   ]
  },
  {
   "cell_type": "code",
   "execution_count": null,
   "metadata": {
    "executionInfo": {
     "elapsed": 5,
     "status": "aborted",
     "timestamp": 1702763610527,
     "user": {
      "displayName": "STOCKSIEKER Sam",
      "userId": "17703404885148646474"
     },
     "user_tz": -60
    },
    "id": "HHuZgcSo2v7B"
   },
   "outputs": [],
   "source": [
    "pd.DataFrame(seed_samples).to_csv(rep+'/seed_samples.csv', index=False)"
   ]
  },
  {
   "cell_type": "code",
   "execution_count": null,
   "metadata": {
    "executionInfo": {
     "elapsed": 5,
     "status": "aborted",
     "timestamp": 1702763610527,
     "user": {
      "displayName": "STOCKSIEKER Sam",
      "userId": "17703404885148646474"
     },
     "user_tz": -60
    },
    "id": "d_ht2Ze1L-EM"
   },
   "outputs": [],
   "source": [
    "print(\"Phase 3 terminée\")\n",
    "# stop"
   ]
  },
  {
   "cell_type": "code",
   "execution_count": null,
   "metadata": {
    "executionInfo": {
     "elapsed": 5,
     "status": "aborted",
     "timestamp": 1702763610527,
     "user": {
      "displayName": "STOCKSIEKER Sam",
      "userId": "17703404885148646474"
     },
     "user_tz": -60
    },
    "id": "Rj9lBMCH7pMV"
   },
   "outputs": [],
   "source": [
    "pd.DataFrame(res_MAE_l).to_csv(rep+'/res_MAE_l.csv', index=False)"
   ]
  },
  {
   "cell_type": "code",
   "execution_count": null,
   "metadata": {
    "executionInfo": {
     "elapsed": 5,
     "status": "aborted",
     "timestamp": 1702763610527,
     "user": {
      "displayName": "STOCKSIEKER Sam",
      "userId": "17703404885148646474"
     },
     "user_tz": -60
    },
    "id": "WAy90xs_7pMW"
   },
   "outputs": [],
   "source": [
    "pd.DataFrame(res_EGM_l).to_csv(rep+'/res_EGM_l.csv', index=False)"
   ]
  },
  {
   "cell_type": "code",
   "execution_count": null,
   "metadata": {
    "executionInfo": {
     "elapsed": 5,
     "status": "aborted",
     "timestamp": 1702763610527,
     "user": {
      "displayName": "STOCKSIEKER Sam",
      "userId": "17703404885148646474"
     },
     "user_tz": -60
    },
    "id": "YUdbUScZ7pMW"
   },
   "outputs": [],
   "source": [
    "pd.DataFrame(res_MAPE_l).to_csv(rep+'/res_MAPE_l.csv', index=False)"
   ]
  },
  {
   "cell_type": "code",
   "execution_count": null,
   "metadata": {
    "executionInfo": {
     "elapsed": 5,
     "status": "aborted",
     "timestamp": 1702763610527,
     "user": {
      "displayName": "STOCKSIEKER Sam",
      "userId": "17703404885148646474"
     },
     "user_tz": -60
    },
    "id": "bJ0HC_M67pMX"
   },
   "outputs": [],
   "source": [
    "pd.DataFrame(res_MSE_l).to_csv(rep+'/res_MSE_l.csv', index=False)"
   ]
  },
  {
   "cell_type": "code",
   "execution_count": null,
   "metadata": {
    "executionInfo": {
     "elapsed": 5,
     "status": "aborted",
     "timestamp": 1702763610527,
     "user": {
      "displayName": "STOCKSIEKER Sam",
      "userId": "17703404885148646474"
     },
     "user_tz": -60
    },
    "id": "RYgWwCShYOkR"
   },
   "outputs": [],
   "source": [
    "pd.DataFrame(res_MC_l).to_csv(rep+'/res_MC_l.csv', index=False)"
   ]
  },
  {
   "cell_type": "code",
   "execution_count": null,
   "metadata": {
    "executionInfo": {
     "elapsed": 5,
     "status": "aborted",
     "timestamp": 1702763610527,
     "user": {
      "displayName": "STOCKSIEKER Sam",
      "userId": "17703404885148646474"
     },
     "user_tz": -60
    },
    "id": "WD7cXv8iYOqs"
   },
   "outputs": [],
   "source": []
  },
  {
   "cell_type": "markdown",
   "metadata": {
    "id": "2qJCOwSqVOeQ"
   },
   "source": [
    "# BOUCLE PREDICTION-latent"
   ]
  },
  {
   "cell_type": "markdown",
   "metadata": {
    "id": "5f5YvGwwVOeQ"
   },
   "source": [
    "à mettre en boucles imbriquéés"
   ]
  },
  {
   "cell_type": "code",
   "execution_count": null,
   "metadata": {
    "executionInfo": {
     "elapsed": 6,
     "status": "aborted",
     "timestamp": 1702763610528,
     "user": {
      "displayName": "STOCKSIEKER Sam",
      "userId": "17703404885148646474"
     },
     "user_tz": -60
    },
    "id": "GqN2O-_JVOeQ"
   },
   "outputs": [],
   "source": [
    "# n_simus=10"
   ]
  },
  {
   "cell_type": "code",
   "execution_count": null,
   "metadata": {
    "executionInfo": {
     "elapsed": 6,
     "status": "aborted",
     "timestamp": 1702763610528,
     "user": {
      "displayName": "STOCKSIEKER Sam",
      "userId": "17703404885148646474"
     },
     "user_tz": -60
    },
    "id": "zsVJ1kRUVOeR"
   },
   "outputs": [],
   "source": [
    "seed_samples = []"
   ]
  },
  {
   "cell_type": "code",
   "execution_count": null,
   "metadata": {
    "executionInfo": {
     "elapsed": 6,
     "status": "aborted",
     "timestamp": 1702763610528,
     "user": {
      "displayName": "STOCKSIEKER Sam",
      "userId": "17703404885148646474"
     },
     "user_tz": -60
    },
    "id": "zNQnztmXVOeR"
   },
   "outputs": [],
   "source": [
    "torch.manual_seed(torch.initial_seed())\n",
    "np.random.seed()\n",
    "if torch.cuda.is_available():\n",
    "    torch.cuda.manual_seed(torch.initial_seed())\n",
    "    torch.cuda.manual_seed_all(torch.initial_seed())"
   ]
  },
  {
   "cell_type": "code",
   "execution_count": null,
   "metadata": {
    "executionInfo": {
     "elapsed": 6,
     "status": "aborted",
     "timestamp": 1702763610528,
     "user": {
      "displayName": "STOCKSIEKER Sam",
      "userId": "17703404885148646474"
     },
     "user_tz": -60
    },
    "id": "FDHshNssVOeR"
   },
   "outputs": [],
   "source": [
    "X_train_l = []\n",
    "X_test_l = []\n",
    "res_MSE_l  =  []\n",
    "res_wMSE_l =  []\n",
    "res_MAE_l  =  []\n",
    "res_MAPE_l =  []\n",
    "res_EGM_l  =  []\n",
    "for simu in range(n_simus):\n",
    "  print(\"============================     simu : \",simu,\"          ======================\")\n",
    "  res_MSE  =  []\n",
    "  res_wMSE =  []\n",
    "  res_MAE  =  []\n",
    "  res_MAPE =  []\n",
    "  res_EGM  =  []\n",
    "\n",
    "  #--------------- Sampling\n",
    "  seed_sample = np.random.randint(1000,size=1)\n",
    "  split = trainTest(data,test_size,seed_sample)\n",
    "  X_train = split['X_train']\n",
    "  X_test = split['X_test']\n",
    "  if context==\"supervised\":\n",
    "    y_train = X_train.iloc[:,colY]\n",
    "    X_train.drop(X_train.columns[colY], axis=1, inplace=True)\n",
    "\n",
    "  #--------------- model_training\n",
    "  # Vanilla AE - MSE\n",
    "  res_vAE_OHE = train_FAE(X_train, Y=colY, lossfunc=\"MSE\",w_corr=None)\n",
    "  # Vanilla AE - SAM\n",
    "  res_vAE_SAM = train_FAE(X_train, Y=colY, lossfunc=\"wMSE\",w_corr=None)\n",
    "  # Vanilla AE - SAM01\n",
    "  res_vAE_SAM01 = train_FAE(X_train, Y=colY, lossfunc=\"wMSE_01\",w_corr=None)\n",
    "  # Vanilla AE - SAM_OBS\n",
    "  res_vAE_SAMOBS = train_FAE(X_train, Y=colY, lossfunc=\"wMSE_obs\",w_corr=None)\n",
    "\n",
    "  #--------------- Prediction\n",
    "  h2o.init()\n",
    "  resPred_INIT = pred(None,X_train,y_train,test_data)\n",
    "  resPredLat_OHE = pred_latent(res_vAE_OHE, y_train, X_test)\n",
    "  resPredLat_SAM = pred_latent(res_vAE_SAM, y_train, X_test)\n",
    "  resPredLat_SAM01 = pred_latent(res_vAE_SAM01, y_train, X_test)\n",
    "  resPredLat_SAMOBS = pred_latent(res_vAE_SAMOBS, y_train, X_test)\n",
    "\n",
    "  print(\"seed_sample : \", seed_sample)\n",
    "  seed_samples.append(seed_sample)\n",
    "# résultats\n",
    "  res_MSE  =  pd.DataFrame({'train':\"Init\",'run_'+str(simu):[resPred_INIT['mse']]})\n",
    "  res_MAE  =  pd.DataFrame({'train':\"Init\",'run_'+str(simu):[resPred_INIT['mae']]})\n",
    "  res_MAPE =  pd.DataFrame({'train':\"Init\",'run_'+str(simu):[resPred_INIT['mape']]})\n",
    "  res_EGM  =  pd.DataFrame({'train':\"Init\",'run_'+str(simu):[resPred_INIT['egm']]})\n",
    "\n",
    "  res_MSE  =  res_MSE.append(pd.DataFrame({'train':\"OHE\",'run_'+str(simu):[resPredLat_OHE['mse']]}))\n",
    "  res_MAE  =  res_MAE.append(pd.DataFrame({'train':\"OHE\",'run_'+str(simu):[resPredLat_OHE['mae']]}))\n",
    "  res_MAPE =  res_MAPE.append(pd.DataFrame({'train':\"OHE\",'run_'+str(simu):[resPredLat_OHE['mape']]}))\n",
    "  res_EGM  =  res_EGM.append(pd.DataFrame({'train':\"OHE\",'run_'+str(simu):[resPredLat_OHE['egm']]}))\n",
    "\n",
    "  res_MSE  =  res_MSE.append(pd.DataFrame({'train':\"SAM\",'run_'+str(simu):[resPredLat_SAM['mse']]}))\n",
    "  res_MAE  =  res_MAE.append(pd.DataFrame({'train':\"SAM\",'run_'+str(simu):[resPredLat_SAM['mae']]}))\n",
    "  res_MAPE =  res_MAPE.append(pd.DataFrame({'train':\"SAM\",'run_'+str(simu):[resPredLat_SAM['mape']]}))\n",
    "  res_EGM  =  res_EGM.append(pd.DataFrame({'train':\"SAM\",'run_'+str(simu):[resPredLat_SAM['egm']]}))\n",
    "\n",
    "  res_MSE  =  res_MSE.append(pd.DataFrame({'train':\"SAM01\",'run_'+str(simu):[resPredLat_SAM01['mse']]}))\n",
    "  res_MAE  =  res_MAE.append(pd.DataFrame({'train':\"SAM01\",'run_'+str(simu):[resPredLat_SAM01['mae']]}))\n",
    "  res_MAPE =  res_MAPE.append(pd.DataFrame({'train':\"SAM01\",'run_'+str(simu):[resPredLat_SAM01['mape']]}))\n",
    "  res_EGM  =  res_EGM.append(pd.DataFrame({'train':\"SAM01\",'run_'+str(simu):[resPredLat_SAM01['egm']]}))\n",
    "\n",
    "  res_MSE  =  res_MSE.append(pd.DataFrame({'train':\"SAMOBS\",'run_'+str(simu):[resPredLat_SAMOBS['mse']]}))\n",
    "  res_MAE  =  res_MAE.append(pd.DataFrame({'train':\"SAMOBS\",'run_'+str(simu):[resPredLat_SAMOBS['mae']]}))\n",
    "  res_MAPE =  res_MAPE.append(pd.DataFrame({'train':\"SAMOBS\",'run_'+str(simu):[resPredLat_SAMOBS['mape']]}))\n",
    "  res_EGM  =  res_EGM.append(pd.DataFrame({'train':\"SAMOBS\",'run_'+str(simu):[resPredLat_SAMOBS['egm']]}))\n",
    "\n",
    "  if len(res_MSE_l)==0:\n",
    "    res_MSE_l  = res_MSE\n",
    "    res_MAE_l  =  res_MAE\n",
    "    res_MAPE_l =  res_MAPE\n",
    "    res_EGM_l  =  res_EGM\n",
    "  else:\n",
    "    res_MSE_l  = res_MSE_l.merge(res_MSE)\n",
    "    res_MAE_l  = res_MAE_l.merge(res_MAE)\n",
    "    res_MAPE_l = res_MAPE_l.merge(res_MAPE)\n",
    "    res_EGM_l  = res_EGM_l.merge(res_EGM)\n",
    "\n",
    "res_MSE_l.set_index('train', inplace=True)\n",
    "res_MAE_l.set_index('train', inplace=True)\n",
    "res_MAPE_l.set_index('train', inplace=True)\n",
    "res_EGM_l.set_index('train', inplace=True)"
   ]
  },
  {
   "cell_type": "code",
   "execution_count": null,
   "metadata": {
    "executionInfo": {
     "elapsed": 5,
     "status": "aborted",
     "timestamp": 1702763610528,
     "user": {
      "displayName": "STOCKSIEKER Sam",
      "userId": "17703404885148646474"
     },
     "user_tz": -60
    },
    "id": "ZI4OdMidVOeR"
   },
   "outputs": [],
   "source": [
    "seed_samples"
   ]
  },
  {
   "cell_type": "code",
   "execution_count": null,
   "metadata": {
    "executionInfo": {
     "elapsed": 277889,
     "status": "aborted",
     "timestamp": 1702763610528,
     "user": {
      "displayName": "STOCKSIEKER Sam",
      "userId": "17703404885148646474"
     },
     "user_tz": -60
    },
    "id": "ujjLScihVOeR"
   },
   "outputs": [],
   "source": [
    "# 908,\n",
    "# 898,\n",
    "# 509,\n",
    "# 378,\n",
    "# 244,\n",
    "# 490,\n",
    "# 154,\n",
    "# 841,\n",
    "# 548,\n",
    "# 933"
   ]
  },
  {
   "cell_type": "code",
   "execution_count": null,
   "metadata": {
    "executionInfo": {
     "elapsed": 277888,
     "status": "aborted",
     "timestamp": 1702763610529,
     "user": {
      "displayName": "STOCKSIEKER Sam",
      "userId": "17703404885148646474"
     },
     "user_tz": -60
    },
    "id": "nwDLOXhAVOeR"
   },
   "outputs": [],
   "source": [
    "pd.DataFrame(res_MSE_l)"
   ]
  },
  {
   "cell_type": "code",
   "execution_count": null,
   "metadata": {
    "executionInfo": {
     "elapsed": 277886,
     "status": "aborted",
     "timestamp": 1702763610529,
     "user": {
      "displayName": "STOCKSIEKER Sam",
      "userId": "17703404885148646474"
     },
     "user_tz": -60
    },
    "id": "76lrn5poVOeR"
   },
   "outputs": [],
   "source": [
    "sns.set(rc={'figure.figsize':(11.7,8.27)})\n",
    "sns.boxplot(res_MSE_l.transpose(), orient='h')"
   ]
  },
  {
   "cell_type": "code",
   "execution_count": null,
   "metadata": {
    "executionInfo": {
     "elapsed": 277882,
     "status": "aborted",
     "timestamp": 1702763610529,
     "user": {
      "displayName": "STOCKSIEKER Sam",
      "userId": "17703404885148646474"
     },
     "user_tz": -60
    },
    "id": "qIBdi4L-VOeR"
   },
   "outputs": [],
   "source": [
    "sns.lineplot(res_MSE_l.transpose())"
   ]
  },
  {
   "cell_type": "code",
   "execution_count": null,
   "metadata": {
    "executionInfo": {
     "elapsed": 277879,
     "status": "aborted",
     "timestamp": 1702763610529,
     "user": {
      "displayName": "STOCKSIEKER Sam",
      "userId": "17703404885148646474"
     },
     "user_tz": -60
    },
    "id": "zyxCkLQ7VOeR"
   },
   "outputs": [],
   "source": [
    "pd.DataFrame(res_MAE_l)"
   ]
  },
  {
   "cell_type": "code",
   "execution_count": null,
   "metadata": {
    "executionInfo": {
     "elapsed": 277876,
     "status": "aborted",
     "timestamp": 1702763610529,
     "user": {
      "displayName": "STOCKSIEKER Sam",
      "userId": "17703404885148646474"
     },
     "user_tz": -60
    },
    "id": "HRCU89EiVOeS"
   },
   "outputs": [],
   "source": [
    "pd.DataFrame(res_EGM_l)"
   ]
  },
  {
   "cell_type": "code",
   "execution_count": null,
   "metadata": {
    "executionInfo": {
     "elapsed": 277873,
     "status": "aborted",
     "timestamp": 1702763610529,
     "user": {
      "displayName": "STOCKSIEKER Sam",
      "userId": "17703404885148646474"
     },
     "user_tz": -60
    },
    "id": "5AceWai8VOeS"
   },
   "outputs": [],
   "source": [
    "pd.DataFrame(res_MAPE_l)"
   ]
  },
  {
   "cell_type": "code",
   "execution_count": null,
   "metadata": {
    "executionInfo": {
     "elapsed": 277871,
     "status": "aborted",
     "timestamp": 1702763610529,
     "user": {
      "displayName": "STOCKSIEKER Sam",
      "userId": "17703404885148646474"
     },
     "user_tz": -60
    },
    "id": "xUwiA4cuVOeS"
   },
   "outputs": [],
   "source": [
    "# pd.DataFrame(res_MSE_l).to_csv(rep+'/Data/res_MSE_l.csv', index=False)"
   ]
  },
  {
   "cell_type": "code",
   "execution_count": null,
   "metadata": {
    "executionInfo": {
     "elapsed": 277868,
     "status": "aborted",
     "timestamp": 1702763610529,
     "user": {
      "displayName": "STOCKSIEKER Sam",
      "userId": "17703404885148646474"
     },
     "user_tz": -60
    },
    "id": "j-0WCWCpdYNv"
   },
   "outputs": [],
   "source": []
  },
  {
   "cell_type": "code",
   "execution_count": null,
   "metadata": {
    "executionInfo": {
     "elapsed": 277866,
     "status": "aborted",
     "timestamp": 1702763610529,
     "user": {
      "displayName": "STOCKSIEKER Sam",
      "userId": "17703404885148646474"
     },
     "user_tz": -60
    },
    "id": "sZ36JnlOdYR5"
   },
   "outputs": [],
   "source": []
  },
  {
   "cell_type": "code",
   "execution_count": null,
   "metadata": {
    "executionInfo": {
     "elapsed": 277864,
     "status": "aborted",
     "timestamp": 1702763610529,
     "user": {
      "displayName": "STOCKSIEKER Sam",
      "userId": "17703404885148646474"
     },
     "user_tz": -60
    },
    "id": "iHaFPxVEdZA1"
   },
   "outputs": [],
   "source": [
    "pd.DataFrame(res_MAE_l).to_csv(rep+'/res_MAELatent_l.csv', index=False)"
   ]
  },
  {
   "cell_type": "code",
   "execution_count": null,
   "metadata": {
    "executionInfo": {
     "elapsed": 277862,
     "status": "aborted",
     "timestamp": 1702763610529,
     "user": {
      "displayName": "STOCKSIEKER Sam",
      "userId": "17703404885148646474"
     },
     "user_tz": -60
    },
    "id": "qmXWlbW_dZA2"
   },
   "outputs": [],
   "source": [
    "pd.DataFrame(res_EGM_l).to_csv(rep+'/res_EGMLatent_l.csv', index=False)"
   ]
  },
  {
   "cell_type": "code",
   "execution_count": null,
   "metadata": {
    "executionInfo": {
     "elapsed": 277860,
     "status": "aborted",
     "timestamp": 1702763610529,
     "user": {
      "displayName": "STOCKSIEKER Sam",
      "userId": "17703404885148646474"
     },
     "user_tz": -60
    },
    "id": "OP2lhQnBdZA2"
   },
   "outputs": [],
   "source": [
    "pd.DataFrame(res_MAPE_l).to_csv(rep+'/res_MAPELatent_l.csv', index=False)"
   ]
  },
  {
   "cell_type": "code",
   "execution_count": null,
   "metadata": {
    "executionInfo": {
     "elapsed": 277858,
     "status": "aborted",
     "timestamp": 1702763610529,
     "user": {
      "displayName": "STOCKSIEKER Sam",
      "userId": "17703404885148646474"
     },
     "user_tz": -60
    },
    "id": "X2z34Y6CdZA2"
   },
   "outputs": [],
   "source": [
    "pd.DataFrame(res_MSE_l).to_csv(rep+'/res_MSELatent_l.csv', index=False)"
   ]
  },
  {
   "cell_type": "code",
   "execution_count": null,
   "metadata": {
    "executionInfo": {
     "elapsed": 277856,
     "status": "aborted",
     "timestamp": 1702763610529,
     "user": {
      "displayName": "STOCKSIEKER Sam",
      "userId": "17703404885148646474"
     },
     "user_tz": -60
    },
    "id": "9sjIXPX9dZA2"
   },
   "outputs": [],
   "source": [
    "pd.DataFrame(seed_samples).to_csv(rep+'/seed_samples_Lattent.csv', index=False)"
   ]
  },
  {
   "cell_type": "code",
   "execution_count": null,
   "metadata": {
    "executionInfo": {
     "elapsed": 277854,
     "status": "aborted",
     "timestamp": 1702763610529,
     "user": {
      "displayName": "STOCKSIEKER Sam",
      "userId": "17703404885148646474"
     },
     "user_tz": -60
    },
    "id": "Galg5T9OdYVl"
   },
   "outputs": [],
   "source": []
  },
  {
   "cell_type": "code",
   "execution_count": null,
   "metadata": {
    "executionInfo": {
     "elapsed": 277852,
     "status": "aborted",
     "timestamp": 1702763610529,
     "user": {
      "displayName": "STOCKSIEKER Sam",
      "userId": "17703404885148646474"
     },
     "user_tz": -60
    },
    "id": "gSrelZ98dYZL"
   },
   "outputs": [],
   "source": []
  },
  {
   "cell_type": "code",
   "execution_count": null,
   "metadata": {
    "executionInfo": {
     "elapsed": 277849,
     "status": "aborted",
     "timestamp": 1702763610529,
     "user": {
      "displayName": "STOCKSIEKER Sam",
      "userId": "17703404885148646474"
     },
     "user_tz": -60
    },
    "id": "HYkpLhzWdYc2"
   },
   "outputs": [],
   "source": []
  },
  {
   "cell_type": "code",
   "execution_count": null,
   "metadata": {
    "executionInfo": {
     "elapsed": 277847,
     "status": "aborted",
     "timestamp": 1702763610529,
     "user": {
      "displayName": "STOCKSIEKER Sam",
      "userId": "17703404885148646474"
     },
     "user_tz": -60
    },
    "id": "haENLB08dYg-"
   },
   "outputs": [],
   "source": []
  },
  {
   "cell_type": "code",
   "execution_count": null,
   "metadata": {
    "executionInfo": {
     "elapsed": 277847,
     "status": "aborted",
     "timestamp": 1702763610530,
     "user": {
      "displayName": "STOCKSIEKER Sam",
      "userId": "17703404885148646474"
     },
     "user_tz": -60
    },
    "id": "YL88XFDkVOeS"
   },
   "outputs": [],
   "source": [
    "stop"
   ]
  },
  {
   "cell_type": "markdown",
   "metadata": {
    "id": "xssFkdpKVOeS"
   },
   "source": [
    "### Enregistrement"
   ]
  },
  {
   "cell_type": "code",
   "execution_count": null,
   "metadata": {
    "executionInfo": {
     "elapsed": 277845,
     "status": "aborted",
     "timestamp": 1702763610530,
     "user": {
      "displayName": "STOCKSIEKER Sam",
      "userId": "17703404885148646474"
     },
     "user_tz": -60
    },
    "id": "WiHIUSxjYOui"
   },
   "outputs": [],
   "source": []
  },
  {
   "cell_type": "markdown",
   "metadata": {
    "id": "SWHj72VbYTWR"
   },
   "source": [
    "# OLD"
   ]
  },
  {
   "cell_type": "code",
   "execution_count": null,
   "metadata": {
    "executionInfo": {
     "elapsed": 277843,
     "status": "aborted",
     "timestamp": 1702763610530,
     "user": {
      "displayName": "STOCKSIEKER Sam",
      "userId": "17703404885148646474"
     },
     "user_tz": -60
    },
    "id": "6qkKPUM4YUO5"
   },
   "outputs": [],
   "source": []
  },
  {
   "cell_type": "markdown",
   "metadata": {
    "id": "SCJDyX7Idq9N"
   },
   "source": [
    "### AFDM"
   ]
  },
  {
   "cell_type": "code",
   "execution_count": null,
   "metadata": {
    "executionInfo": {
     "elapsed": 277841,
     "status": "aborted",
     "timestamp": 1702763610530,
     "user": {
      "displayName": "STOCKSIEKER Sam",
      "userId": "17703404885148646474"
     },
     "user_tz": -60
    },
    "id": "Ey_VhOMLdq9S"
   },
   "outputs": [],
   "source": [
    "mod_quali = 'AFDM'\n",
    "train = transformer(X_train, mode_quali=mod_quali)\n",
    "train_t = np.array(train)\n",
    "pd.DataFrame(np.max(train))"
   ]
  },
  {
   "cell_type": "code",
   "execution_count": null,
   "metadata": {
    "executionInfo": {
     "elapsed": 277839,
     "status": "aborted",
     "timestamp": 1702763610530,
     "user": {
      "displayName": "STOCKSIEKER Sam",
      "userId": "17703404885148646474"
     },
     "user_tz": -60
    },
    "id": "2AESzUAodq9T"
   },
   "outputs": [],
   "source": [
    "if load_models == 0:\n",
    "  resAE = train_FAE(train_t, Y=colY, lossfunc=\"MSE\",w_corr=None)\n",
    "  # res_vAE_AFDM = resAE\n",
    "  # mod_vAE_AFDM = resAE['model']\n",
    "# else:\n",
    "  # !gdown https://drive.google.com/uc?id={link_mod_sAE_MSE}\n",
    "  # mod_sAE_MSE =   FAE(p=X_train.shape[1],enc_dim=hp_fae_encDim, sparsity_factor = hp_fae_sparsity_factor, sparsity_target=hp_fae_sparsity_target,dimHL=hp_fae_dimHL, wNorm=hp_fae_wNorm)\n",
    "  # mod_sAE_MSE.load_state_dict(torch.load('mod_sAE_MSE.pt'))"
   ]
  },
  {
   "cell_type": "code",
   "execution_count": null,
   "metadata": {
    "executionInfo": {
     "elapsed": 277837,
     "status": "aborted",
     "timestamp": 1702763610530,
     "user": {
      "displayName": "STOCKSIEKER Sam",
      "userId": "17703404885148646474"
     },
     "user_tz": -60
    },
    "id": "lsvGiocR6G-t"
   },
   "outputs": [],
   "source": [
    "decod = resAE['decod']\n",
    "for k in range(len(decod)):\n",
    "  X_hat = decod[k]\n",
    "  df_X_hat = pd.DataFrame(X_hat)\n",
    "  df_X_hat.columns = train.columns\n",
    "  X_hat_OHE = inv_transformer(X_train,df_X_hat,mode_quanti=None,mode_quali=mod_quali)\n",
    "  train_t_OHE = inv_transformer(X_train,train,mode_quanti=None,mode_quali=mod_quali)\n",
    "  if k ==0:\n",
    "    res = pd.DataFrame(np.sum((X_hat_OHE-train_t_OHE)**2))\n",
    "  else:\n",
    "    res = pd.concat([res,pd.DataFrame(np.sum((X_hat_OHE-train_t_OHE)**2))],axis=1)\n",
    "res"
   ]
  },
  {
   "cell_type": "code",
   "execution_count": null,
   "metadata": {
    "executionInfo": {
     "elapsed": 277835,
     "status": "aborted",
     "timestamp": 1702763610530,
     "user": {
      "displayName": "STOCKSIEKER Sam",
      "userId": "17703404885148646474"
     },
     "user_tz": -60
    },
    "id": "dJeZeDREdq9T"
   },
   "outputs": [],
   "source": [
    "if load_models == 0:\n",
    "  losses=resAE['losses']\n",
    "  plt.clf()\n",
    "  plt.xlabel('Iterations')\n",
    "  plt.ylabel('Loss')\n",
    "  plt.plot(losses)\n",
    "  plt.show()\n",
    "  X_hat = resAE['decoded'].cpu().detach().numpy()\n",
    "  df_X_hat = pd.DataFrame(X_hat)\n",
    "  df_X_hat.columns = train.columns\n",
    "  X_hat_OHE = inv_transformer(X_train,df_X_hat,mode_quanti=None,mode_quali=mod_quali)\n",
    "  train_t_OHE = inv_transformer(X_train,train,mode_quanti=None,mode_quali=mod_quali)\n",
    "  print(\"losses_min:\",np.min(losses))\n",
    "  print(\"MSE:\")\n",
    "  print(np.sum((X_hat_OHE-train_t_OHE)**2))"
   ]
  },
  {
   "cell_type": "code",
   "execution_count": null,
   "metadata": {
    "executionInfo": {
     "elapsed": 277833,
     "status": "aborted",
     "timestamp": 1702763610531,
     "user": {
      "displayName": "STOCKSIEKER Sam",
      "userId": "17703404885148646474"
     },
     "user_tz": -60
    },
    "id": "Y3dq25xq2sHK"
   },
   "outputs": [],
   "source": [
    "verif_AFDM = pd.DataFrame(np.sum((X_hat_OHE-train_t_OHE)**2)) ; verif_AFDM"
   ]
  },
  {
   "cell_type": "code",
   "execution_count": null,
   "metadata": {
    "executionInfo": {
     "elapsed": 277832,
     "status": "aborted",
     "timestamp": 1702763610531,
     "user": {
      "displayName": "STOCKSIEKER Sam",
      "userId": "17703404885148646474"
     },
     "user_tz": -60
    },
    "id": "hAep7uIedq9T"
   },
   "outputs": [],
   "source": [
    "if load_models == 0:\n",
    "  for k in range(train_t.shape[1]):\n",
    "      plt.clf()\n",
    "      plt.scatter(X_hat[:,k],train_t[:,k])\n",
    "      plt.show()"
   ]
  },
  {
   "cell_type": "markdown",
   "metadata": {
    "id": "JjuMwZCiBEER"
   },
   "source": [
    "### SAM-1"
   ]
  },
  {
   "cell_type": "code",
   "execution_count": null,
   "metadata": {
    "executionInfo": {
     "elapsed": 277830,
     "status": "aborted",
     "timestamp": 1702763610531,
     "user": {
      "displayName": "STOCKSIEKER Sam",
      "userId": "17703404885148646474"
     },
     "user_tz": -60
    },
    "id": "QnvNwBnvBEEX"
   },
   "outputs": [],
   "source": [
    "mod_quali = 'SAM-1'\n",
    "train = transformer(X_train, mode_quali=mod_quali)\n",
    "train_t = np.array(train)\n",
    "pd.DataFrame(np.max(train))"
   ]
  },
  {
   "cell_type": "code",
   "execution_count": null,
   "metadata": {
    "executionInfo": {
     "elapsed": 277828,
     "status": "aborted",
     "timestamp": 1702763610531,
     "user": {
      "displayName": "STOCKSIEKER Sam",
      "userId": "17703404885148646474"
     },
     "user_tz": -60
    },
    "id": "m6YeomV2BEEX"
   },
   "outputs": [],
   "source": [
    "if load_models == 0:\n",
    "  resAE = train_FAE(train_t, Y=colY, lossfunc=\"MSE\",w_corr=None)\n",
    "  res_vAE_SAM = resAE\n",
    "  mod_vAE_SAM = resAE['model']\n",
    "# else:\n",
    "  # !gdown https://drive.google.com/uc?id={link_mod_sAE_MSE}\n",
    "  # mod_sAE_MSE =   FAE(p=X_train.shape[1],enc_dim=hp_fae_encDim, sparsity_factor = hp_fae_sparsity_factor, sparsity_target=hp_fae_sparsity_target,dimHL=hp_fae_dimHL, wNorm=hp_fae_wNorm)\n",
    "  # mod_sAE_MSE.load_state_dict(torch.load('mod_sAE_MSE.pt'))"
   ]
  },
  {
   "cell_type": "code",
   "execution_count": null,
   "metadata": {
    "executionInfo": {
     "elapsed": 277820,
     "status": "aborted",
     "timestamp": 1702763610531,
     "user": {
      "displayName": "STOCKSIEKER Sam",
      "userId": "17703404885148646474"
     },
     "user_tz": -60
    },
    "id": "88bm-6yf6KWu"
   },
   "outputs": [],
   "source": [
    "decod = resAE['decod']\n",
    "for k in range(len(decod)):\n",
    "  X_hat = decod[k]\n",
    "  df_X_hat = pd.DataFrame(X_hat)\n",
    "  df_X_hat.columns = train.columns\n",
    "  X_hat_OHE = inv_transformer(X_train,df_X_hat,mode_quanti=None,mode_quali=mod_quali)\n",
    "  train_t_OHE = inv_transformer(X_train,train,mode_quanti=None,mode_quali=mod_quali)\n",
    "  if k ==0:\n",
    "    res = pd.DataFrame(np.sum((X_hat_OHE-train_t_OHE)**2))\n",
    "  else:\n",
    "    res = pd.concat([res,pd.DataFrame(np.sum((X_hat_OHE-train_t_OHE)**2))],axis=1)\n",
    "res"
   ]
  },
  {
   "cell_type": "code",
   "execution_count": null,
   "metadata": {
    "executionInfo": {
     "elapsed": 277817,
     "status": "aborted",
     "timestamp": 1702763610531,
     "user": {
      "displayName": "STOCKSIEKER Sam",
      "userId": "17703404885148646474"
     },
     "user_tz": -60
    },
    "id": "sVjGV59dBEEX"
   },
   "outputs": [],
   "source": [
    "if load_models == 0:\n",
    "  losses=resAE['losses']\n",
    "  plt.clf()\n",
    "  plt.xlabel('Iterations')\n",
    "  plt.ylabel('Loss')\n",
    "  plt.plot(losses)\n",
    "  plt.show()\n",
    "  X_hat = resAE['decoded'].cpu().detach().numpy()\n",
    "  df_X_hat = pd.DataFrame(X_hat)\n",
    "  df_X_hat.columns = train.columns\n",
    "  X_hat_OHE = inv_transformer(X_train,df_X_hat,mode_quanti=None,mode_quali=mod_quali)\n",
    "  train_t_OHE = inv_transformer(X_train,train,mode_quanti=None,mode_quali=mod_quali)\n",
    "  print(\"losses_min:\",np.min(losses))\n",
    "  print(\"MSE:\")\n",
    "  print(np.sum((X_hat_OHE-train_t_OHE)**2))"
   ]
  },
  {
   "cell_type": "code",
   "execution_count": null,
   "metadata": {
    "executionInfo": {
     "elapsed": 277815,
     "status": "aborted",
     "timestamp": 1702763610531,
     "user": {
      "displayName": "STOCKSIEKER Sam",
      "userId": "17703404885148646474"
     },
     "user_tz": -60
    },
    "id": "7Y-wulD-BEEX"
   },
   "outputs": [],
   "source": [
    "verif_SAM = pd.DataFrame(np.sum((X_hat_OHE-train_t_OHE)**2)) ; verif_SAM"
   ]
  },
  {
   "cell_type": "code",
   "execution_count": null,
   "metadata": {
    "executionInfo": {
     "elapsed": 277813,
     "status": "aborted",
     "timestamp": 1702763610531,
     "user": {
      "displayName": "STOCKSIEKER Sam",
      "userId": "17703404885148646474"
     },
     "user_tz": -60
    },
    "id": "c6VnZZI6BEEX"
   },
   "outputs": [],
   "source": [
    "if load_models == 0:\n",
    "  for k in range(train_t.shape[1]):\n",
    "      plt.clf()                                                                                                                                                                                          bn\n",
    "      plt.scatter(X_hat[:,k],train_t[:,k])\n",
    "      plt.show()"
   ]
  },
  {
   "cell_type": "markdown",
   "metadata": {
    "id": "Uopi1ySdqmgV"
   },
   "source": [
    "### DEN"
   ]
  },
  {
   "cell_type": "code",
   "execution_count": null,
   "metadata": {
    "executionInfo": {
     "elapsed": 277811,
     "status": "aborted",
     "timestamp": 1702763610531,
     "user": {
      "displayName": "STOCKSIEKER Sam",
      "userId": "17703404885148646474"
     },
     "user_tz": -60
    },
    "id": "P0JSlBzyqmgV"
   },
   "outputs": [],
   "source": [
    "mod_quali = 'DEN'\n",
    "train = transformer(X_train, mode_quali=mod_quali)\n",
    "train_t = np.array(train)\n",
    "pd.DataFrame(np.max(train))"
   ]
  },
  {
   "cell_type": "code",
   "execution_count": null,
   "metadata": {
    "executionInfo": {
     "elapsed": 277810,
     "status": "aborted",
     "timestamp": 1702763610532,
     "user": {
      "displayName": "STOCKSIEKER Sam",
      "userId": "17703404885148646474"
     },
     "user_tz": -60
    },
    "id": "FDK9epnLqmgV"
   },
   "outputs": [],
   "source": [
    "if load_models == 0:\n",
    "  resAE = train_FAE(train_t, Y=colY, lossfunc=\"MSE\",w_corr=None)\n",
    "  res_vAE_SAM = resAE\n",
    "  mod_vAE_SAM = resAE['model']\n",
    "# else:\n",
    "  # !gdown https://drive.google.com/uc?id={link_mod_sAE_MSE}\n",
    "  # mod_sAE_MSE =   FAE(p=X_train.shape[1],enc_dim=hp_fae_encDim, sparsity_factor = hp_fae_sparsity_factor, sparsity_target=hp_fae_sparsity_target,dimHL=hp_fae_dimHL, wNorm=hp_fae_wNorm)\n",
    "  # mod_sAE_MSE.load_state_dict(torch.load('mod_sAE_MSE.pt'))"
   ]
  },
  {
   "cell_type": "code",
   "execution_count": null,
   "metadata": {
    "executionInfo": {
     "elapsed": 277807,
     "status": "aborted",
     "timestamp": 1702763610532,
     "user": {
      "displayName": "STOCKSIEKER Sam",
      "userId": "17703404885148646474"
     },
     "user_tz": -60
    },
    "id": "52ZBD6yx6Lh0"
   },
   "outputs": [],
   "source": [
    "decod = resAE['decod']\n",
    "for k in range(len(decod)):\n",
    "  X_hat = decod[k]\n",
    "  df_X_hat = pd.DataFrame(X_hat)\n",
    "  df_X_hat.columns = train.columns\n",
    "  X_hat_OHE = inv_transformer(X_train,df_X_hat,mode_quanti=None,mode_quali=mod_quali)\n",
    "  train_t_OHE = inv_transformer(X_train,train,mode_quanti=None,mode_quali=mod_quali)\n",
    "  if k ==0:\n",
    "    res = pd.DataFrame(np.sum((X_hat_OHE-train_t_OHE)**2))\n",
    "  else:\n",
    "    res = pd.concat([res,pd.DataFrame(np.sum((X_hat_OHE-train_t_OHE)**2))],axis=1)\n",
    "res"
   ]
  },
  {
   "cell_type": "code",
   "execution_count": null,
   "metadata": {
    "executionInfo": {
     "elapsed": 277805,
     "status": "aborted",
     "timestamp": 1702763610532,
     "user": {
      "displayName": "STOCKSIEKER Sam",
      "userId": "17703404885148646474"
     },
     "user_tz": -60
    },
    "id": "YUkr_xukqmgW"
   },
   "outputs": [],
   "source": [
    "if load_models == 0:\n",
    "  losses=resAE['losses']\n",
    "  plt.clf()\n",
    "  plt.xlabel('Iterations')\n",
    "  plt.ylabel('Loss')\n",
    "  plt.plot(losses)\n",
    "  plt.show()\n",
    "  X_hat = resAE['decoded'].cpu().detach().numpy()\n",
    "  df_X_hat = pd.DataFrame(X_hat)\n",
    "  df_X_hat.columns = train.columns\n",
    "  X_hat_OHE = inv_transformer(X_train,df_X_hat,mode_quanti=None,mode_quali=mod_quali)\n",
    "  train_t_OHE = inv_transformer(X_train,train,mode_quanti=None,mode_quali=mod_quali)\n",
    "  print(\"losses_min:\",np.min(losses))\n",
    "  print(\"MSE:\")\n",
    "  print(np.sum((X_hat_OHE-train_t_OHE)**2))"
   ]
  },
  {
   "cell_type": "code",
   "execution_count": null,
   "metadata": {
    "executionInfo": {
     "elapsed": 277802,
     "status": "aborted",
     "timestamp": 1702763610532,
     "user": {
      "displayName": "STOCKSIEKER Sam",
      "userId": "17703404885148646474"
     },
     "user_tz": -60
    },
    "id": "jDlw1cTu8CNm"
   },
   "outputs": [],
   "source": [
    "verif_DEN = pd.DataFrame(np.sum((X_hat_OHE-train_t_OHE)**2)) ; verif_DEN"
   ]
  },
  {
   "cell_type": "code",
   "execution_count": null,
   "metadata": {
    "executionInfo": {
     "elapsed": 277800,
     "status": "aborted",
     "timestamp": 1702763610532,
     "user": {
      "displayName": "STOCKSIEKER Sam",
      "userId": "17703404885148646474"
     },
     "user_tz": -60
    },
    "id": "EDXEyoI_qmgW"
   },
   "outputs": [],
   "source": [
    "if load_models == 0:\n",
    "  for k in range(train_t.shape[1]):\n",
    "      plt.clf()\n",
    "      plt.scatter(X_hat[:,k],train_t[:,k])\n",
    "      plt.show()"
   ]
  },
  {
   "cell_type": "code",
   "execution_count": null,
   "metadata": {
    "executionInfo": {
     "elapsed": 277798,
     "status": "aborted",
     "timestamp": 1702763610532,
     "user": {
      "displayName": "STOCKSIEKER Sam",
      "userId": "17703404885148646474"
     },
     "user_tz": -60
    },
    "id": "62e6MYE2MkGX"
   },
   "outputs": [],
   "source": [
    "print(\"Phase 1 terminée\")\n",
    "STOP"
   ]
  },
  {
   "cell_type": "markdown",
   "metadata": {
    "id": "LZBfJ2-oDq-F"
   },
   "source": [
    "## Sparse AE"
   ]
  },
  {
   "cell_type": "markdown",
   "metadata": {
    "id": "IDGKZWXVZUkg"
   },
   "source": [
    "Sparse_loss + l1_regularization"
   ]
  },
  {
   "cell_type": "markdown",
   "metadata": {
    "id": "Nk8s6j2nD-73"
   },
   "source": [
    "stopssssstt### ### One-Hot Encoder"
   ]
  },
  {
   "cell_type": "code",
   "execution_count": null,
   "metadata": {
    "executionInfo": {
     "elapsed": 277796,
     "status": "aborted",
     "timestamp": 1702763610532,
     "user": {
      "displayName": "STOCKSIEKER Sam",
      "userId": "17703404885148646474"
     },
     "user_tz": -60
    },
    "id": "-zqrBlcJCdBe"
   },
   "outputs": [],
   "source": [
    "if load_models == 0:\n",
    "  resAE = train_FAE(X_train, Y=colY, sparsity_factor=hp_fae_sparsity_factor, sparsity_mode = \"sparse_loss_l1reg\", lossfunc=\"MSE\",w_corr=None)\n",
    "  res_sAE_MSE = resAE\n",
    "  mod_sAE_MSE = resAE['model']\n",
    "# else:\n",
    "#   !gdown https://drive.google.com/uc?id={link_mod_sAE_MSE}\n",
    "#   mod_sAE_MSE =   FAE(p=X_train.shape[1],enc_dim=hp_fae_encDim, sparsity_factor = hp_fae_sparsity_factor, sparsity_target=hp_fae_sparsity_target,dimHL=hp_fae_dimHL, wNorm=hp_fae_wNorm)\n",
    "#   mod_sAE_MSE.load_state_dict(torch.load('mod_sAE_MSE.pt'))"
   ]
  },
  {
   "cell_type": "code",
   "execution_count": null,
   "metadata": {
    "executionInfo": {
     "elapsed": 277794,
     "status": "aborted",
     "timestamp": 1702763610532,
     "user": {
      "displayName": "STOCKSIEKER Sam",
      "userId": "17703404885148646474"
     },
     "user_tz": -60
    },
    "id": "dMbg4fkPCdEr"
   },
   "outputs": [],
   "source": [
    "if load_models == 0:\n",
    "  losses=resAE['losses']\n",
    "  plt.clf()\n",
    "  plt.xlabel('Iterations')\n",
    "  plt.ylabel('Loss')\n",
    "  plt.plot(losses)\n",
    "  plt.show()\n",
    "  X_hat = resAE['decoded'].cpu().detach().numpy()\n",
    "  print(\"losses_min:\",np.min(losses))\n",
    "  print(\"MSE:\",np.mean((X_hat-X_train)**2))\n",
    "  print(\"wMSE:\",weighted_mse_loss(resAE['decoded'].cpu(), torch.FloatTensor(X_train),\n",
    "                                  torch.FloatTensor(kdee)))"
   ]
  },
  {
   "cell_type": "code",
   "execution_count": null,
   "metadata": {
    "executionInfo": {
     "elapsed": 277792,
     "status": "aborted",
     "timestamp": 1702763610532,
     "user": {
      "displayName": "STOCKSIEKER Sam",
      "userId": "17703404885148646474"
     },
     "user_tz": -60
    },
    "id": "tdX2T2n6CdHg"
   },
   "outputs": [],
   "source": [
    "if load_models == 0:\n",
    "  for k in range(X_train.shape[1]):\n",
    "      plt.clf()\n",
    "      plt.scatter(X_hat[:,k],X_train[:,k])\n",
    "      plt.show()"
   ]
  },
  {
   "cell_type": "code",
   "execution_count": null,
   "metadata": {
    "executionInfo": {
     "elapsed": 277790,
     "status": "aborted",
     "timestamp": 1702763610532,
     "user": {
      "displayName": "STOCKSIEKER Sam",
      "userId": "17703404885148646474"
     },
     "user_tz": -60
    },
    "id": "qMwuvdHyCdLF"
   },
   "outputs": [],
   "source": [
    "if load_models == 0:\n",
    "  latent_df=pd.DataFrame(resAE['encoded'].cpu().detach().numpy())\n",
    "  plt.clf()\n",
    "  #sns.pairplot(latent_df)\n",
    "  plt.show()"
   ]
  },
  {
   "cell_type": "code",
   "execution_count": null,
   "metadata": {
    "executionInfo": {
     "elapsed": 277788,
     "status": "aborted",
     "timestamp": 1702763610532,
     "user": {
      "displayName": "STOCKSIEKER Sam",
      "userId": "17703404885148646474"
     },
     "user_tz": -60
    },
    "id": "h4GtSimdCdOd"
   },
   "outputs": [],
   "source": [
    "if load_models == 0:\n",
    "  plt.clf()\n",
    "  #sns.pairplot(pd.DataFrame(X_hat))\n",
    "  plt.show()"
   ]
  },
  {
   "cell_type": "code",
   "execution_count": null,
   "metadata": {
    "executionInfo": {
     "elapsed": 277785,
     "status": "aborted",
     "timestamp": 1702763610532,
     "user": {
      "displayName": "STOCKSIEKER Sam",
      "userId": "17703404885148646474"
     },
     "user_tz": -60
    },
    "id": "iPDAcpTMa16v"
   },
   "outputs": [],
   "source": [
    "pd.DataFrame(np.corrcoef(X_hat))"
   ]
  },
  {
   "cell_type": "code",
   "execution_count": null,
   "metadata": {
    "executionInfo": {
     "elapsed": 277783,
     "status": "aborted",
     "timestamp": 1702763610532,
     "user": {
      "displayName": "STOCKSIEKER Sam",
      "userId": "17703404885148646474"
     },
     "user_tz": -60
    },
    "id": "oZenlYrva2FA"
   },
   "outputs": [],
   "source": [
    "pd.DataFrame(np.corrcoef(X_train))"
   ]
  },
  {
   "cell_type": "code",
   "execution_count": null,
   "metadata": {
    "executionInfo": {
     "elapsed": 277781,
     "status": "aborted",
     "timestamp": 1702763610532,
     "user": {
      "displayName": "STOCKSIEKER Sam",
      "userId": "17703404885148646474"
     },
     "user_tz": -60
    },
    "id": "fv9vSkmVbGNq"
   },
   "outputs": [],
   "source": [
    "pd.DataFrame(np.corrcoef(X_train)-np.corrcoef(X_hat))"
   ]
  },
  {
   "cell_type": "code",
   "execution_count": null,
   "metadata": {
    "executionInfo": {
     "elapsed": 277780,
     "status": "aborted",
     "timestamp": 1702763610532,
     "user": {
      "displayName": "STOCKSIEKER Sam",
      "userId": "17703404885148646474"
     },
     "user_tz": -60
    },
    "id": "ynltZg4PD6Gw"
   },
   "outputs": [],
   "source": [
    "pd.DataFrame(np.corrcoef(X_train)-np.corrcoef(X_hat)).describe()"
   ]
  },
  {
   "cell_type": "markdown",
   "metadata": {
    "id": "7xz_Hva8pEvY"
   },
   "source": [
    "## Save Models"
   ]
  },
  {
   "cell_type": "code",
   "execution_count": null,
   "metadata": {
    "executionInfo": {
     "elapsed": 277779,
     "status": "aborted",
     "timestamp": 1702763610533,
     "user": {
      "displayName": "STOCKSIEKER Sam",
      "userId": "17703404885148646474"
     },
     "user_tz": -60
    },
    "id": "EgstXKt5o7xP"
   },
   "outputs": [],
   "source": [
    "if load_models == 0:\n",
    "  model_save_name = 'mod_sAE_MSE.pt'\n",
    "  path = rep+\"/Models\"+F\"/{model_save_name}\"\n",
    "  torch.save(res_sAE_MSE['model'].state_dict(), path)\n",
    "# else:\n"
   ]
  },
  {
   "cell_type": "code",
   "execution_count": null,
   "metadata": {
    "executionInfo": {
     "elapsed": 277776,
     "status": "aborted",
     "timestamp": 1702763610533,
     "user": {
      "displayName": "STOCKSIEKER Sam",
      "userId": "17703404885148646474"
     },
     "user_tz": -60
    },
    "id": "-4tjoYIEdt4V"
   },
   "outputs": [],
   "source": [
    "if load_models == 0:\n",
    "  model_save_name = 'mod_sAE_wMSE.pt'\n",
    "  path = rep+\"/Models\"+F\"/{model_save_name}\"\n",
    "  torch.save(res_sAE_wMSE['model'].state_dict(), path)"
   ]
  },
  {
   "cell_type": "code",
   "execution_count": null,
   "metadata": {
    "executionInfo": {
     "elapsed": 277774,
     "status": "aborted",
     "timestamp": 1702763610533,
     "user": {
      "displayName": "STOCKSIEKER Sam",
      "userId": "17703404885148646474"
     },
     "user_tz": -60
    },
    "id": "j13NCYYbizbm"
   },
   "outputs": [],
   "source": [
    "if load_models == 0:\n",
    "  df_data = pd.DataFrame(data)\n",
    "  df_data.to_csv(rep+'/Data/df_data.csv', index=False)\n",
    "\n",
    "  df_X_train = pd.DataFrame(X_train)\n",
    "  df_X_train.to_csv(rep+'/Data/df_X_train.csv', index=False)\n",
    "\n",
    "  df_X_test = pd.DataFrame(X_test)\n",
    "  df_X_test.to_csv(rep+'/Data/df_X_test.csv', index=False)\n",
    "\n"
   ]
  },
  {
   "cell_type": "code",
   "execution_count": null,
   "metadata": {
    "executionInfo": {
     "elapsed": 277772,
     "status": "aborted",
     "timestamp": 1702763610533,
     "user": {
      "displayName": "STOCKSIEKER Sam",
      "userId": "17703404885148646474"
     },
     "user_tz": -60
    },
    "id": "cl3VRYPEgmVQ"
   },
   "outputs": [],
   "source": [
    "# if load_models == 0:\n",
    "#   from google.colab import files\n",
    "#   df_data = pd.DataFrame(data)\n",
    "#   df_data.to_csv('data.csv', encoding = 'utf-8-sig')\n",
    "#   files.download('data.csv')\n",
    "\n",
    "#   df_X_train = pd.DataFrame(X_train)\n",
    "#   df_X_train.to_csv('X_train.csv', encoding = 'utf-8-sig')\n",
    "#   files.download('X_train.csv')\n",
    "\n",
    "\n",
    "#   df_X_test = pd.DataFrame(X_test)\n",
    "#   df_X_test.to_csv('X_test.csv', encoding = 'utf-8-sig')\n",
    "#   files.download('X_test.csv')"
   ]
  },
  {
   "cell_type": "code",
   "execution_count": null,
   "metadata": {
    "executionInfo": {
     "elapsed": 277770,
     "status": "aborted",
     "timestamp": 1702763610533,
     "user": {
      "displayName": "STOCKSIEKER Sam",
      "userId": "17703404885148646474"
     },
     "user_tz": -60
    },
    "id": "wiWfeoKy0d5d"
   },
   "outputs": [],
   "source": []
  },
  {
   "cell_type": "code",
   "execution_count": null,
   "metadata": {
    "executionInfo": {
     "elapsed": 277768,
     "status": "aborted",
     "timestamp": 1702763610533,
     "user": {
      "displayName": "STOCKSIEKER Sam",
      "userId": "17703404885148646474"
     },
     "user_tz": -60
    },
    "id": "Y_GFxLbq0dzw"
   },
   "outputs": [],
   "source": []
  },
  {
   "cell_type": "code",
   "execution_count": null,
   "metadata": {
    "executionInfo": {
     "elapsed": 277766,
     "status": "aborted",
     "timestamp": 1702763610533,
     "user": {
      "displayName": "STOCKSIEKER Sam",
      "userId": "17703404885148646474"
     },
     "user_tz": -60
    },
    "id": "lczAXbhP0dt_"
   },
   "outputs": [],
   "source": []
  },
  {
   "cell_type": "code",
   "execution_count": null,
   "metadata": {
    "executionInfo": {
     "elapsed": 277764,
     "status": "aborted",
     "timestamp": 1702763610533,
     "user": {
      "displayName": "STOCKSIEKER Sam",
      "userId": "17703404885148646474"
     },
     "user_tz": -60
    },
    "id": "gFFf7QqL0dPe"
   },
   "outputs": [],
   "source": [
    "print(\"Phase 2 terminée\")\n",
    "# arret"
   ]
  },
  {
   "cell_type": "code",
   "execution_count": null,
   "metadata": {
    "executionInfo": {
     "elapsed": 277761,
     "status": "aborted",
     "timestamp": 1702763610533,
     "user": {
      "displayName": "STOCKSIEKER Sam",
      "userId": "17703404885148646474"
     },
     "user_tz": -60
    },
    "id": "W962F2Ob0eGA"
   },
   "outputs": [],
   "source": []
  },
  {
   "cell_type": "code",
   "execution_count": null,
   "metadata": {
    "executionInfo": {
     "elapsed": 277759,
     "status": "aborted",
     "timestamp": 1702763610533,
     "user": {
      "displayName": "STOCKSIEKER Sam",
      "userId": "17703404885148646474"
     },
     "user_tz": -60
    },
    "id": "DdAhJKUg0eBo"
   },
   "outputs": [],
   "source": []
  }
 ],
 "metadata": {
  "accelerator": "GPU",
  "colab": {
   "provenance": [
    {
     "file_id": "166GjahrV1CXq3svLIWTP2MU8xIYPSGIc",
     "timestamp": 1694505424387
    }
   ],
   "toc_visible": true
  },
  "kernelspec": {
   "display_name": "Python 3 (ipykernel)",
   "language": "python",
   "name": "python3"
  },
  "language_info": {
   "codemirror_mode": {
    "name": "ipython",
    "version": 3
   },
   "file_extension": ".py",
   "mimetype": "text/x-python",
   "name": "python",
   "nbconvert_exporter": "python",
   "pygments_lexer": "ipython3",
   "version": "3.11.5"
  }
 },
 "nbformat": 4,
 "nbformat_minor": 1
}
